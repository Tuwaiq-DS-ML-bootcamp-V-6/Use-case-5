{
 "cells": [
  {
   "cell_type": "code",
   "execution_count": 1,
   "id": "e69c4ba1-85f3-4a02-ae37-c64347a01803",
   "metadata": {},
   "outputs": [],
   "source": [
    "#Import all relevant libraries\n",
    "import numpy as np\n",
    "import pandas as pd\n",
    "import matplotlib.pyplot as plt\n",
    "import seaborn as sns\n",
    "from scipy.stats import zscore\n",
    "from ydata_profiling import ProfileReport \n",
    "import dtale\n",
    "import sweetviz as sv\n",
    "from IPython.display import Image\n",
    "import plotly.express as px\n",
    "import plotly.graph_objects as go\n",
    "\n",
    "\n",
    "## This statement allows the visuals to render within your Jupyter Notebook.\n",
    "%matplotlib inline"
   ]
  },
  {
   "cell_type": "markdown",
   "id": "e395e8bf-b530-4720-8d0f-26811e927d6e",
   "metadata": {},
   "source": [
    "## Loading the data\n",
    "We can now load the dataset into pandas using the read_csv() function. This converts the CSV file into a Pandas dataframe."
   ]
  },
  {
   "cell_type": "code",
   "execution_count": 2,
   "id": "cf4030b0-aa7f-4bd7-8e9c-c1b7f4d202d0",
   "metadata": {},
   "outputs": [],
   "source": [
    "#Read in the csv file and convert to a Pandas dataframe\n",
    "df = pd.read_csv('Jadarat_data.csv')"
   ]
  },
  {
   "cell_type": "markdown",
   "id": "ca5ed983-0f72-43eb-8168-6fafd48c562e",
   "metadata": {},
   "source": [
    "### Viewing the dataframe\n",
    "We can get a quick sense of the size of our dataset by using the shape method. This returns a tuple with the number of rows and columns in the dataset."
   ]
  },
  {
   "cell_type": "code",
   "execution_count": 3,
   "id": "be73740d",
   "metadata": {},
   "outputs": [
    {
     "data": {
      "text/plain": [
       "(1470, 18)"
      ]
     },
     "execution_count": 3,
     "metadata": {},
     "output_type": "execute_result"
    }
   ],
   "source": [
    "df.shape"
   ]
  },
  {
   "cell_type": "code",
   "execution_count": 4,
   "id": "bfde0b69-613c-4dd1-8ebf-e4d2e570e653",
   "metadata": {},
   "outputs": [
    {
     "data": {
      "text/html": [
       "<div>\n",
       "<style scoped>\n",
       "    .dataframe tbody tr th:only-of-type {\n",
       "        vertical-align: middle;\n",
       "    }\n",
       "\n",
       "    .dataframe tbody tr th {\n",
       "        vertical-align: top;\n",
       "    }\n",
       "\n",
       "    .dataframe thead th {\n",
       "        text-align: right;\n",
       "    }\n",
       "</style>\n",
       "<table border=\"1\" class=\"dataframe\">\n",
       "  <thead>\n",
       "    <tr style=\"text-align: right;\">\n",
       "      <th></th>\n",
       "      <th>job_title</th>\n",
       "      <th>job_date</th>\n",
       "      <th>job_desc</th>\n",
       "      <th>job_tasks</th>\n",
       "      <th>comp_name</th>\n",
       "      <th>comp_no</th>\n",
       "      <th>comp_type</th>\n",
       "      <th>comp_size</th>\n",
       "      <th>eco_activity</th>\n",
       "      <th>qualif</th>\n",
       "      <th>region</th>\n",
       "      <th>city</th>\n",
       "      <th>benefits</th>\n",
       "      <th>contract</th>\n",
       "      <th>positions</th>\n",
       "      <th>job_post_id</th>\n",
       "      <th>exper</th>\n",
       "      <th>gender</th>\n",
       "    </tr>\n",
       "  </thead>\n",
       "  <tbody>\n",
       "    <tr>\n",
       "      <th>0</th>\n",
       "      <td>محاسب</td>\n",
       "      <td>27/05/1444</td>\n",
       "      <td>['إعداد وتنظيم مستندات الصرف ومتابعة تحصيل الإ...</td>\n",
       "      <td>['   تدقيق المطالبات المالية والتأكد من اكتمال...</td>\n",
       "      <td>شركة مقر العالم للسفريات</td>\n",
       "      <td>1-317262</td>\n",
       "      <td>خاص</td>\n",
       "      <td>متوسطة فئة أ</td>\n",
       "      <td>أنشطة وكالات السياحة والسفر</td>\n",
       "      <td>['Language data', 'اللغة الانجليزية', 'محترف']</td>\n",
       "      <td>الرياض</td>\n",
       "      <td>AR RIYADH...</td>\n",
       "      <td>['Salary', '5000.0']</td>\n",
       "      <td>دوام كامل</td>\n",
       "      <td>0 / 1</td>\n",
       "      <td>20202026350419</td>\n",
       "      <td>0 Years</td>\n",
       "      <td>both</td>\n",
       "    </tr>\n",
       "    <tr>\n",
       "      <th>1</th>\n",
       "      <td>بائع</td>\n",
       "      <td>27/05/1444</td>\n",
       "      <td>['بيع مجموعة من السلع والخدمات للعملاء، وتوفير...</td>\n",
       "      <td>['   بيع مجموعة من السلع والخدمات للعملاء.', '...</td>\n",
       "      <td>شركة عالم الكهرباء للمقاولات</td>\n",
       "      <td>4-1324428</td>\n",
       "      <td>خاص</td>\n",
       "      <td>متوسطة فئة ب</td>\n",
       "      <td>تركيب انظمة التبريد وتكييف الهواء وصيانتها واص...</td>\n",
       "      <td>NaN</td>\n",
       "      <td>المنطقة الشرقية</td>\n",
       "      <td>AD DAMMAM...</td>\n",
       "      <td>['Salary', '5000.0']</td>\n",
       "      <td>دوام كامل</td>\n",
       "      <td>0 / 3</td>\n",
       "      <td>20202026350389</td>\n",
       "      <td>0 Years</td>\n",
       "      <td>both</td>\n",
       "    </tr>\n",
       "  </tbody>\n",
       "</table>\n",
       "</div>"
      ],
      "text/plain": [
       "  job_title    job_date                                           job_desc  \\\n",
       "0     محاسب  27/05/1444  ['إعداد وتنظيم مستندات الصرف ومتابعة تحصيل الإ...   \n",
       "1      بائع  27/05/1444  ['بيع مجموعة من السلع والخدمات للعملاء، وتوفير...   \n",
       "\n",
       "                                           job_tasks  \\\n",
       "0  ['   تدقيق المطالبات المالية والتأكد من اكتمال...   \n",
       "1  ['   بيع مجموعة من السلع والخدمات للعملاء.', '...   \n",
       "\n",
       "                      comp_name    comp_no comp_type     comp_size  \\\n",
       "0      شركة مقر العالم للسفريات   1-317262       خاص  متوسطة فئة أ   \n",
       "1  شركة عالم الكهرباء للمقاولات  4-1324428       خاص  متوسطة فئة ب   \n",
       "\n",
       "                                        eco_activity  \\\n",
       "0                        أنشطة وكالات السياحة والسفر   \n",
       "1  تركيب انظمة التبريد وتكييف الهواء وصيانتها واص...   \n",
       "\n",
       "                                           qualif           region  \\\n",
       "0  ['Language data', 'اللغة الانجليزية', 'محترف']           الرياض   \n",
       "1                                             NaN  المنطقة الشرقية   \n",
       "\n",
       "           city              benefits   contract positions     job_post_id  \\\n",
       "0  AR RIYADH...  ['Salary', '5000.0']  دوام كامل     0 / 1  20202026350419   \n",
       "1  AD DAMMAM...  ['Salary', '5000.0']  دوام كامل     0 / 3  20202026350389   \n",
       "\n",
       "     exper gender  \n",
       "0  0 Years   both  \n",
       "1  0 Years   both  "
      ]
     },
     "execution_count": 4,
     "metadata": {},
     "output_type": "execute_result"
    }
   ],
   "source": [
    "df.head(2)"
   ]
  },
  {
   "cell_type": "markdown",
   "id": "bd2b5bc4-db37-4432-b666-0714afd0c4ca",
   "metadata": {},
   "source": [
    "## 1. Data Profiling:\n",
    "Data profiling is a comprehensive process of examining the data available in an existing dataset and collecting statistics and information about that data. "
   ]
  },
  {
   "cell_type": "code",
   "execution_count": 5,
   "id": "ece8344d",
   "metadata": {},
   "outputs": [
    {
     "data": {
      "text/plain": []
     },
     "execution_count": 5,
     "metadata": {},
     "output_type": "execute_result"
    }
   ],
   "source": [
    "#using dtale library to profile the data\n",
    "dtale.show(df, open_browser=True)"
   ]
  },
  {
   "cell_type": "code",
   "execution_count": 6,
   "id": "3f8aead9",
   "metadata": {},
   "outputs": [],
   "source": [
    "# trying sweetviz library\n",
    "# SVreport = sv.analyze(df)\n",
    "# SVreport.show_html()"
   ]
  },
  {
   "cell_type": "code",
   "execution_count": 7,
   "id": "672f2081-5a2c-4908-8cbd-29519fb3cac5",
   "metadata": {},
   "outputs": [],
   "source": [
    "# trying ydata_profiling library\n",
    "# profile = ProfileReport(df, title=\"Profiling Report\")\n",
    "# profile.to_widgets()"
   ]
  },
  {
   "cell_type": "markdown",
   "id": "834929aa-fd6a-4ec5-84d4-77c4b3c1a506",
   "metadata": {},
   "source": [
    "The process of profiling differs slightly for categorical and numerical variables due to their inherent differences.\n",
    "\n",
    "**The two main types of data are:**\n",
    "- Quantitative (numerical) data\n",
    "- Qualitative (categorical) data"
   ]
  },
  {
   "cell_type": "markdown",
   "id": "3a9954f5-6fbc-45b4-ad86-3e21b6e0ca2d",
   "metadata": {},
   "source": [
    "### Data Quality Checks\n",
    "Data quality checks involve the process of ensuring that the data is accurate, complete, consistent, relevant, and reliable. \n",
    "\n",
    "\n",
    "**Here are typical steps involved in checking data quality:**"
   ]
  },
  {
   "cell_type": "markdown",
   "id": "4818c876-173d-4e56-9e7d-b4334d2def25",
   "metadata": {},
   "source": [
    "#### 1. Reliability:\n",
    "Evaluate the data's source and collection process to determine its trustworthiness."
   ]
  },
  {
   "cell_type": "code",
   "execution_count": 8,
   "id": "9034ae7b-dc1d-4cba-8f9e-bb499d021cde",
   "metadata": {},
   "outputs": [
    {
     "data": {
      "text/plain": [
       "'\\nThis dataset provides information on job postings in Saudi Arabia from Jadarat\\nSource: Kaggle\\n'"
      ]
     },
     "execution_count": 8,
     "metadata": {},
     "output_type": "execute_result"
    }
   ],
   "source": [
    "'''\n",
    "This dataset provides information on job postings in Saudi Arabia from Jadarat\n",
    "Source: Kaggle\n",
    "'''"
   ]
  },
  {
   "cell_type": "markdown",
   "id": "2ce0cc59-8c92-4acc-8d07-c40764e1a86b",
   "metadata": {},
   "source": [
    "#### 2. Timeliness: \n",
    "Ensure the data is up-to-date and reflective of the current situation or the period of interest for the analysis."
   ]
  },
  {
   "cell_type": "code",
   "execution_count": 9,
   "id": "4b78ae35-7226-4cb6-b8b2-a46c2ed17cf9",
   "metadata": {},
   "outputs": [],
   "source": [
    "# 1444 hijri == 2022\n"
   ]
  },
  {
   "cell_type": "markdown",
   "id": "7fab0fe2-6624-4615-b9d8-3c3669056bf8",
   "metadata": {},
   "source": [
    "#### 3. Consistency: \n",
    "\n",
    "Confirm that the data is consistent within the dataset and across multiple data sources. For example, the same data point should not have different values in different places.\n"
   ]
  },
  {
   "cell_type": "code",
   "execution_count": 10,
   "id": "7fecc573-959f-4800-8ddd-a67985c68b18",
   "metadata": {},
   "outputs": [],
   "source": [
    "# g"
   ]
  },
  {
   "cell_type": "markdown",
   "id": "bec3d183-bba0-4b12-b963-487daab1e876",
   "metadata": {},
   "source": [
    "#### 4. Relevance: \n",
    "Assess whether the data is appropriate and applicable for the intended analysis. Data that is not relevant can skew results and lead to incorrect conclusions.\n",
    "\n",
    "**Key considerations for relevance include:**\n",
    "\n",
    "> 1. Sample Appropriateness: Confirm that your data sample aligns with your analysis objectives. For instance, utilizing data from the Northern region will not yield accurate insights for the Western region of the Kingdom.\n",
    ">\n",
    "> 2. Variable Selection: Any column will not be relevant for our analysis, we can get rid of these using the drop() method. We will set the “axis” argument to 1 since we’re dealing with columns, and set the “inplace” argument to True to make the change permanent.\n"
   ]
  },
  {
   "cell_type": "code",
   "execution_count": 11,
   "id": "50a934b7-a0cd-443f-8a27-f10e9a6e8647",
   "metadata": {
    "scrolled": true
   },
   "outputs": [
    {
     "data": {
      "text/html": [
       "<div>\n",
       "<style scoped>\n",
       "    .dataframe tbody tr th:only-of-type {\n",
       "        vertical-align: middle;\n",
       "    }\n",
       "\n",
       "    .dataframe tbody tr th {\n",
       "        vertical-align: top;\n",
       "    }\n",
       "\n",
       "    .dataframe thead th {\n",
       "        text-align: right;\n",
       "    }\n",
       "</style>\n",
       "<table border=\"1\" class=\"dataframe\">\n",
       "  <thead>\n",
       "    <tr style=\"text-align: right;\">\n",
       "      <th></th>\n",
       "      <th>job_title</th>\n",
       "      <th>job_date</th>\n",
       "      <th>job_desc</th>\n",
       "      <th>job_tasks</th>\n",
       "      <th>comp_name</th>\n",
       "      <th>comp_no</th>\n",
       "      <th>comp_type</th>\n",
       "      <th>comp_size</th>\n",
       "      <th>eco_activity</th>\n",
       "      <th>qualif</th>\n",
       "      <th>region</th>\n",
       "      <th>city</th>\n",
       "      <th>benefits</th>\n",
       "      <th>contract</th>\n",
       "      <th>positions</th>\n",
       "      <th>job_post_id</th>\n",
       "      <th>exper</th>\n",
       "      <th>gender</th>\n",
       "    </tr>\n",
       "  </thead>\n",
       "  <tbody>\n",
       "    <tr>\n",
       "      <th>0</th>\n",
       "      <td>محاسب</td>\n",
       "      <td>27/05/1444</td>\n",
       "      <td>['إعداد وتنظيم مستندات الصرف ومتابعة تحصيل الإ...</td>\n",
       "      <td>['   تدقيق المطالبات المالية والتأكد من اكتمال...</td>\n",
       "      <td>شركة مقر العالم للسفريات</td>\n",
       "      <td>1-317262</td>\n",
       "      <td>خاص</td>\n",
       "      <td>متوسطة فئة أ</td>\n",
       "      <td>أنشطة وكالات السياحة والسفر</td>\n",
       "      <td>['Language data', 'اللغة الانجليزية', 'محترف']</td>\n",
       "      <td>الرياض</td>\n",
       "      <td>AR RIYADH...</td>\n",
       "      <td>['Salary', '5000.0']</td>\n",
       "      <td>دوام كامل</td>\n",
       "      <td>0 / 1</td>\n",
       "      <td>20202026350419</td>\n",
       "      <td>0 Years</td>\n",
       "      <td>both</td>\n",
       "    </tr>\n",
       "    <tr>\n",
       "      <th>1</th>\n",
       "      <td>بائع</td>\n",
       "      <td>27/05/1444</td>\n",
       "      <td>['بيع مجموعة من السلع والخدمات للعملاء، وتوفير...</td>\n",
       "      <td>['   بيع مجموعة من السلع والخدمات للعملاء.', '...</td>\n",
       "      <td>شركة عالم الكهرباء للمقاولات</td>\n",
       "      <td>4-1324428</td>\n",
       "      <td>خاص</td>\n",
       "      <td>متوسطة فئة ب</td>\n",
       "      <td>تركيب انظمة التبريد وتكييف الهواء وصيانتها واص...</td>\n",
       "      <td>NaN</td>\n",
       "      <td>المنطقة الشرقية</td>\n",
       "      <td>AD DAMMAM...</td>\n",
       "      <td>['Salary', '5000.0']</td>\n",
       "      <td>دوام كامل</td>\n",
       "      <td>0 / 3</td>\n",
       "      <td>20202026350389</td>\n",
       "      <td>0 Years</td>\n",
       "      <td>both</td>\n",
       "    </tr>\n",
       "  </tbody>\n",
       "</table>\n",
       "</div>"
      ],
      "text/plain": [
       "  job_title    job_date                                           job_desc  \\\n",
       "0     محاسب  27/05/1444  ['إعداد وتنظيم مستندات الصرف ومتابعة تحصيل الإ...   \n",
       "1      بائع  27/05/1444  ['بيع مجموعة من السلع والخدمات للعملاء، وتوفير...   \n",
       "\n",
       "                                           job_tasks  \\\n",
       "0  ['   تدقيق المطالبات المالية والتأكد من اكتمال...   \n",
       "1  ['   بيع مجموعة من السلع والخدمات للعملاء.', '...   \n",
       "\n",
       "                      comp_name    comp_no comp_type     comp_size  \\\n",
       "0      شركة مقر العالم للسفريات   1-317262       خاص  متوسطة فئة أ   \n",
       "1  شركة عالم الكهرباء للمقاولات  4-1324428       خاص  متوسطة فئة ب   \n",
       "\n",
       "                                        eco_activity  \\\n",
       "0                        أنشطة وكالات السياحة والسفر   \n",
       "1  تركيب انظمة التبريد وتكييف الهواء وصيانتها واص...   \n",
       "\n",
       "                                           qualif           region  \\\n",
       "0  ['Language data', 'اللغة الانجليزية', 'محترف']           الرياض   \n",
       "1                                             NaN  المنطقة الشرقية   \n",
       "\n",
       "           city              benefits   contract positions     job_post_id  \\\n",
       "0  AR RIYADH...  ['Salary', '5000.0']  دوام كامل     0 / 1  20202026350419   \n",
       "1  AD DAMMAM...  ['Salary', '5000.0']  دوام كامل     0 / 3  20202026350389   \n",
       "\n",
       "     exper gender  \n",
       "0  0 Years   both  \n",
       "1  0 Years   both  "
      ]
     },
     "execution_count": 11,
     "metadata": {},
     "output_type": "execute_result"
    }
   ],
   "source": [
    "df.head(2)"
   ]
  },
  {
   "cell_type": "code",
   "execution_count": 12,
   "id": "ce6326e9",
   "metadata": {},
   "outputs": [],
   "source": [
    "#dont need comp_no in our analysis\n",
    "df.drop('comp_no',axis = 1,inplace = True)"
   ]
  },
  {
   "cell_type": "code",
   "execution_count": 13,
   "id": "f9adfb47",
   "metadata": {},
   "outputs": [],
   "source": [
    "#dont need job_post_id in our analysis\n",
    "df.drop('job_post_id',axis = 1,inplace = True)"
   ]
  },
  {
   "cell_type": "code",
   "execution_count": 14,
   "id": "bb7f394e",
   "metadata": {},
   "outputs": [
    {
     "data": {
      "text/html": [
       "<div>\n",
       "<style scoped>\n",
       "    .dataframe tbody tr th:only-of-type {\n",
       "        vertical-align: middle;\n",
       "    }\n",
       "\n",
       "    .dataframe tbody tr th {\n",
       "        vertical-align: top;\n",
       "    }\n",
       "\n",
       "    .dataframe thead th {\n",
       "        text-align: right;\n",
       "    }\n",
       "</style>\n",
       "<table border=\"1\" class=\"dataframe\">\n",
       "  <thead>\n",
       "    <tr style=\"text-align: right;\">\n",
       "      <th></th>\n",
       "      <th>job_title</th>\n",
       "      <th>job_date</th>\n",
       "      <th>job_desc</th>\n",
       "      <th>job_tasks</th>\n",
       "      <th>comp_name</th>\n",
       "      <th>comp_type</th>\n",
       "      <th>comp_size</th>\n",
       "      <th>eco_activity</th>\n",
       "      <th>qualif</th>\n",
       "      <th>region</th>\n",
       "      <th>city</th>\n",
       "      <th>benefits</th>\n",
       "      <th>contract</th>\n",
       "      <th>positions</th>\n",
       "      <th>exper</th>\n",
       "      <th>gender</th>\n",
       "    </tr>\n",
       "  </thead>\n",
       "  <tbody>\n",
       "    <tr>\n",
       "      <th>0</th>\n",
       "      <td>محاسب</td>\n",
       "      <td>27/05/1444</td>\n",
       "      <td>['إعداد وتنظيم مستندات الصرف ومتابعة تحصيل الإ...</td>\n",
       "      <td>['   تدقيق المطالبات المالية والتأكد من اكتمال...</td>\n",
       "      <td>شركة مقر العالم للسفريات</td>\n",
       "      <td>خاص</td>\n",
       "      <td>متوسطة فئة أ</td>\n",
       "      <td>أنشطة وكالات السياحة والسفر</td>\n",
       "      <td>['Language data', 'اللغة الانجليزية', 'محترف']</td>\n",
       "      <td>الرياض</td>\n",
       "      <td>AR RIYADH...</td>\n",
       "      <td>['Salary', '5000.0']</td>\n",
       "      <td>دوام كامل</td>\n",
       "      <td>0 / 1</td>\n",
       "      <td>0 Years</td>\n",
       "      <td>both</td>\n",
       "    </tr>\n",
       "    <tr>\n",
       "      <th>1</th>\n",
       "      <td>بائع</td>\n",
       "      <td>27/05/1444</td>\n",
       "      <td>['بيع مجموعة من السلع والخدمات للعملاء، وتوفير...</td>\n",
       "      <td>['   بيع مجموعة من السلع والخدمات للعملاء.', '...</td>\n",
       "      <td>شركة عالم الكهرباء للمقاولات</td>\n",
       "      <td>خاص</td>\n",
       "      <td>متوسطة فئة ب</td>\n",
       "      <td>تركيب انظمة التبريد وتكييف الهواء وصيانتها واص...</td>\n",
       "      <td>NaN</td>\n",
       "      <td>المنطقة الشرقية</td>\n",
       "      <td>AD DAMMAM...</td>\n",
       "      <td>['Salary', '5000.0']</td>\n",
       "      <td>دوام كامل</td>\n",
       "      <td>0 / 3</td>\n",
       "      <td>0 Years</td>\n",
       "      <td>both</td>\n",
       "    </tr>\n",
       "  </tbody>\n",
       "</table>\n",
       "</div>"
      ],
      "text/plain": [
       "  job_title    job_date                                           job_desc  \\\n",
       "0     محاسب  27/05/1444  ['إعداد وتنظيم مستندات الصرف ومتابعة تحصيل الإ...   \n",
       "1      بائع  27/05/1444  ['بيع مجموعة من السلع والخدمات للعملاء، وتوفير...   \n",
       "\n",
       "                                           job_tasks  \\\n",
       "0  ['   تدقيق المطالبات المالية والتأكد من اكتمال...   \n",
       "1  ['   بيع مجموعة من السلع والخدمات للعملاء.', '...   \n",
       "\n",
       "                      comp_name comp_type     comp_size  \\\n",
       "0      شركة مقر العالم للسفريات       خاص  متوسطة فئة أ   \n",
       "1  شركة عالم الكهرباء للمقاولات       خاص  متوسطة فئة ب   \n",
       "\n",
       "                                        eco_activity  \\\n",
       "0                        أنشطة وكالات السياحة والسفر   \n",
       "1  تركيب انظمة التبريد وتكييف الهواء وصيانتها واص...   \n",
       "\n",
       "                                           qualif           region  \\\n",
       "0  ['Language data', 'اللغة الانجليزية', 'محترف']           الرياض   \n",
       "1                                             NaN  المنطقة الشرقية   \n",
       "\n",
       "           city              benefits   contract positions    exper gender  \n",
       "0  AR RIYADH...  ['Salary', '5000.0']  دوام كامل     0 / 1  0 Years   both  \n",
       "1  AD DAMMAM...  ['Salary', '5000.0']  دوام كامل     0 / 3  0 Years   both  "
      ]
     },
     "execution_count": 14,
     "metadata": {},
     "output_type": "execute_result"
    }
   ],
   "source": [
    "df.head(2)"
   ]
  },
  {
   "cell_type": "markdown",
   "id": "0f5e3a2a-bbb7-4d06-8220-c93277b70146",
   "metadata": {},
   "source": [
    "#### 5. Uniqueness: \n",
    "Check for and remove duplicate records to prevent skewed analysis results.\n"
   ]
  },
  {
   "cell_type": "code",
   "execution_count": 15,
   "id": "a509a7aa-58f4-4d39-8eb8-e8298a21f2a7",
   "metadata": {},
   "outputs": [],
   "source": [
    "#in D-tale i found out there is 8 Duplicates"
   ]
  },
  {
   "cell_type": "code",
   "execution_count": 16,
   "id": "95778ba2",
   "metadata": {},
   "outputs": [
    {
     "name": "stdout",
     "output_type": "stream",
     "text": [
      "8\n"
     ]
    }
   ],
   "source": [
    "# cheak if D-tale right\n",
    "print(df.duplicated().sum())"
   ]
  },
  {
   "cell_type": "code",
   "execution_count": 17,
   "id": "775bd17b",
   "metadata": {},
   "outputs": [],
   "source": [
    "df.drop_duplicates(keep = 'first',inplace = True)"
   ]
  },
  {
   "cell_type": "code",
   "execution_count": 18,
   "id": "c62bd649",
   "metadata": {},
   "outputs": [
    {
     "name": "stdout",
     "output_type": "stream",
     "text": [
      "0\n"
     ]
    }
   ],
   "source": [
    "print(df.duplicated().sum())"
   ]
  },
  {
   "cell_type": "code",
   "execution_count": 19,
   "id": "04c62559-3b48-48cf-a4e9-857e2e0ff416",
   "metadata": {},
   "outputs": [],
   "source": [
    "# go to delete duplicates columns"
   ]
  },
  {
   "cell_type": "markdown",
   "id": "c7724ac2-4ea2-4cf4-a9e0-e64368f87b92",
   "metadata": {},
   "source": [
    "#### 6. Completeness: \n",
    "Ensure that no critical data is missing. This might mean checking for null values or required fields that are empty.\n",
    "\n",
    "We will start by checking the dataset for missing or null values. For this, we can use the isna() method which returns a dataframe of boolean values indicating if a field is null or not. To group all missing values by column, we can include the sum() method."
   ]
  },
  {
   "cell_type": "code",
   "execution_count": 20,
   "id": "48a4de54-a344-4b94-9908-9528c15c13f7",
   "metadata": {},
   "outputs": [],
   "source": [
    "#Display number missing values per column"
   ]
  },
  {
   "cell_type": "code",
   "execution_count": 21,
   "id": "ed2fc9b6",
   "metadata": {},
   "outputs": [
    {
     "data": {
      "image/png": "[encoded data removed]",
      "text/plain": [
       "<IPython.core.display.Image object>"
      ]
     },
     "execution_count": 21,
     "metadata": {},
     "output_type": "execute_result"
    }
   ],
   "source": [
    "Image(filename='missingno_bar.png')\n",
    "# missing data using D-tale\n"
   ]
  },
  {
   "cell_type": "code",
   "execution_count": 22,
   "id": "c9898a22",
   "metadata": {},
   "outputs": [
    {
     "data": {
      "text/plain": [
       "'\\ncomp_size: 14 missing\\neco_activity: 90 missing\\nqualif: 690 missing\\n\\njob_date: have 47 columns named Publish date \\n'"
      ]
     },
     "execution_count": 22,
     "metadata": {},
     "output_type": "execute_result"
    }
   ],
   "source": [
    "'''\n",
    "comp_size: 14 missing\n",
    "eco_activity: 90 missing\n",
    "qualif: 690 missing\n",
    "\n",
    "job_date: have 47 columns named Publish date \n",
    "'''"
   ]
  },
  {
   "cell_type": "code",
   "execution_count": 23,
   "id": "abec31c4-0904-4b73-8cee-b7bc14ab1e67",
   "metadata": {},
   "outputs": [],
   "source": [
    "# go to clean them "
   ]
  },
  {
   "cell_type": "code",
   "execution_count": 24,
   "id": "fdbb086d",
   "metadata": {},
   "outputs": [
    {
     "data": {
      "text/plain": [
       "job_title         0\n",
       "job_date          0\n",
       "job_desc          0\n",
       "job_tasks         0\n",
       "comp_name         0\n",
       "comp_type         0\n",
       "comp_size        14\n",
       "eco_activity     89\n",
       "qualif          684\n",
       "region            0\n",
       "city              0\n",
       "benefits          0\n",
       "contract          0\n",
       "positions         0\n",
       "exper             0\n",
       "gender            0\n",
       "dtype: int64"
      ]
     },
     "execution_count": 24,
     "metadata": {},
     "output_type": "execute_result"
    }
   ],
   "source": [
    "df.isnull().sum()"
   ]
  },
  {
   "cell_type": "code",
   "execution_count": 25,
   "id": "231d15f2",
   "metadata": {},
   "outputs": [],
   "source": [
    "df.drop(df[df[\"job_date\"] == \"Publish date\"].index,axis = 0 ,inplace = True)"
   ]
  },
  {
   "cell_type": "code",
   "execution_count": 26,
   "id": "13a784b8",
   "metadata": {},
   "outputs": [],
   "source": [
    "df.dropna(inplace = True)"
   ]
  },
  {
   "cell_type": "code",
   "execution_count": 27,
   "id": "6dbfdc6d",
   "metadata": {},
   "outputs": [
    {
     "data": {
      "text/plain": [
       "job_title       0\n",
       "job_date        0\n",
       "job_desc        0\n",
       "job_tasks       0\n",
       "comp_name       0\n",
       "comp_type       0\n",
       "comp_size       0\n",
       "eco_activity    0\n",
       "qualif          0\n",
       "region          0\n",
       "city            0\n",
       "benefits        0\n",
       "contract        0\n",
       "positions       0\n",
       "exper           0\n",
       "gender          0\n",
       "dtype: int64"
      ]
     },
     "execution_count": 27,
     "metadata": {},
     "output_type": "execute_result"
    }
   ],
   "source": [
    "df.isnull().sum()"
   ]
  },
  {
   "cell_type": "markdown",
   "id": "b40de63c-5a1d-49ed-a87e-c5229ee08bbe",
   "metadata": {},
   "source": [
    "#### 7. Check Accuracy:\n",
    "\n",
    "Verify that the data is correct and precise. This could involve comparing data samples with known sources or using validation rules.\n",
    "\n",
    "**The process includes:**\n",
    "1. Validating the appropriateness of data types for the dataset.\n",
    "2. Identifying outliers  using established validation  rule"
   ]
  },
  {
   "cell_type": "code",
   "execution_count": 28,
   "id": "68be5334-ae10-4abd-8097-3259fe5e72c8",
   "metadata": {},
   "outputs": [
    {
     "data": {
      "text/plain": [
       "job_title       object\n",
       "job_date        object\n",
       "job_desc        object\n",
       "job_tasks       object\n",
       "comp_name       object\n",
       "comp_type       object\n",
       "comp_size       object\n",
       "eco_activity    object\n",
       "qualif          object\n",
       "region          object\n",
       "city            object\n",
       "benefits        object\n",
       "contract        object\n",
       "positions       object\n",
       "exper           object\n",
       "gender          object\n",
       "dtype: object"
      ]
     },
     "execution_count": 28,
     "metadata": {},
     "output_type": "execute_result"
    }
   ],
   "source": [
    "# check columns types \n",
    "df.dtypes"
   ]
  },
  {
   "cell_type": "code",
   "execution_count": 29,
   "id": "3af413c7",
   "metadata": {},
   "outputs": [
    {
     "data": {
      "text/plain": [
       "'\\nbenefits: have salary will extract it and change the type to float\\npositions: have open position and total positions split it into 2 columns int type\\nexper: extract years and change the type to int\\nqualif, job_desc, and job_tasks -> list\\n'"
      ]
     },
     "execution_count": 29,
     "metadata": {},
     "output_type": "execute_result"
    }
   ],
   "source": [
    "'''\n",
    "benefits: have salary will extract it and change the type to float\n",
    "positions: have open position and total positions split it into 2 columns int type\n",
    "exper: extract years and change the type to int\n",
    "qualif, job_desc, and job_tasks -> list\n",
    "'''"
   ]
  },
  {
   "cell_type": "code",
   "execution_count": 30,
   "id": "10dee5ed",
   "metadata": {},
   "outputs": [
    {
     "data": {
      "text/plain": [
       "0       5000.0\n",
       "2       4000.0\n",
       "4       5000.0\n",
       "5       4500.0\n",
       "6       6000.0\n",
       "         ...  \n",
       "1459    4000.0\n",
       "1461    4000.0\n",
       "1462    4000.0\n",
       "1463    4000.0\n",
       "1466    4000.0\n",
       "Name: benefits, Length: 702, dtype: float64"
      ]
     },
     "execution_count": 30,
     "metadata": {},
     "output_type": "execute_result"
    }
   ],
   "source": [
    "df[\"benefits\"]= df[\"benefits\"].map(lambda x: eval(x)[1]).astype(float)\n",
    "df['benefits']"
   ]
  },
  {
   "cell_type": "code",
   "execution_count": 31,
   "id": "c9aff701",
   "metadata": {},
   "outputs": [],
   "source": [
    "df = df.rename({\"benefits\": \"Salary\"}, axis=1)"
   ]
  },
  {
   "cell_type": "code",
   "execution_count": 32,
   "id": "de920e09",
   "metadata": {},
   "outputs": [],
   "source": [
    "df[\"total_positions\"] = df[\"positions\"].str.split(\" / \",expand=True)[1].astype(int)\n",
    "df[\"open_positions\"] = df[\"positions\"].str.split(\" / \",expand=True)[0].astype(int)"
   ]
  },
  {
   "cell_type": "code",
   "execution_count": 33,
   "id": "f44e2004",
   "metadata": {},
   "outputs": [],
   "source": [
    "df.drop(['positions'], axis=1, inplace = True)"
   ]
  },
  {
   "cell_type": "code",
   "execution_count": 34,
   "id": "22cc3852",
   "metadata": {},
   "outputs": [],
   "source": [
    "df[\"exper\"] = df[\"exper\"].str.split(expand=True)[0].astype(int)"
   ]
  },
  {
   "cell_type": "code",
   "execution_count": 35,
   "id": "a86a13e7",
   "metadata": {},
   "outputs": [
    {
     "data": {
      "text/plain": [
       "job_title           object\n",
       "job_date            object\n",
       "job_desc            object\n",
       "job_tasks           object\n",
       "comp_name           object\n",
       "comp_type           object\n",
       "comp_size           object\n",
       "eco_activity        object\n",
       "qualif              object\n",
       "region              object\n",
       "city                object\n",
       "Salary             float64\n",
       "contract            object\n",
       "exper                int32\n",
       "gender              object\n",
       "total_positions      int32\n",
       "open_positions       int32\n",
       "dtype: object"
      ]
     },
     "execution_count": 35,
     "metadata": {},
     "output_type": "execute_result"
    }
   ],
   "source": [
    "df.dtypes"
   ]
  },
  {
   "cell_type": "code",
   "execution_count": 36,
   "id": "2ee790ba-dcc0-45f1-b6f8-0133e913e149",
   "metadata": {},
   "outputs": [],
   "source": [
    "# go to clean them "
   ]
  },
  {
   "cell_type": "code",
   "execution_count": 37,
   "id": "c69b303a-5459-45f9-a28e-fcee45c21c05",
   "metadata": {},
   "outputs": [],
   "source": [
    "# check outliers "
   ]
  },
  {
   "cell_type": "markdown",
   "id": "4aca9d42-add6-45db-92cf-1f6dae5f277b",
   "metadata": {},
   "source": [
    "**What is an Outlier?** \n",
    "Outlier is an row/observation that appears far away and diverges from an overall pattern in a sample.\n",
    "\n",
    "**What are the types of Outliers?**\n",
    "1. Univariate: These outliers can be found when we look at distribution of a single variable\n",
    "2. Multivariate: are outliers in an n-dimensional space. In order to find them, you have to look at distributions in multi-dimensions. example (hight=100, weight=100) for a person\n",
    "\n",
    "**What causes Outliers?**\n",
    "Whenever we come across outliers, the ideal way to tackle them is to find out the reason of having these outliers. The method to deal with them would then depend on the reason of their occurrence.\n",
    "\n",
    "Let’s understand various types of outliers:\n",
    "\n",
    "1. Data Entry Errors:- Human errors such as errors caused during data collection, recording, or entry can cause outliers in data.\n",
    "2. Measurement Error: It is the most common source of outliers. This is caused when the measurement instrument used turns out to be faulty.\n",
    "3. Data Processing Error: Whenever we perform data mining, we extract data from multiple sources. It is possible that some manipulation or extraction errors may lead to outliers in the dataset.\n",
    "4. Sampling error: For instance, we have to measure the height of athletes. By mistake, we include a few basketball players in the sample. This inclusion is likely to cause outliers in the dataset.\n",
    "5. Natural Outlier: When an outlier is not artificial (due to error), it is a natural outlier. For instance: In my last assignment with one of the renowned insurance company, I noticed that the performance of top 50 financial advisors was far higher than rest of the population. Surprisingly, it was not due to any error. Hence, whenever we perform any data mining activity with advisors, we used to treat this segment separately.\n",
    "\n",
    "\n",
    "**What is the impact of Outliers on a dataset?**\n",
    "\n",
    "\n",
    "![image.png](https://www.analyticsvidhya.com/wp-content/uploads/2015/02/Outlier_31.png)\n",
    "\n",
    "\n",
    "\n",
    "**How to detect Outliers?**\n",
    "\n",
    "1. Most commonly used method to detect outliers is visualization (Univariate Graphical Analysis).\n",
    "\n",
    "We use 3 common visualization methods:\n",
    ">- Box-plot: A box plot is a method for graphically depicting groups of numerical data through their quartiles. The box extends from the Q1 to Q3 quartile values of the data, with a line at the median (Q2). The whiskers extend from the edges of the box to show the range of the data. Outlier points are those past the end of the whiskers. Box plots show robust measures of location and spread as well as providing information about symmetry and outliers.\n",
    ">\n",
    ">  \n",
    ">![image.png](https://miro.medium.com/v2/resize:fit:698/format:webp/1*VK5iHA2AB28HSZwWwUbNYg.png)\n",
    ">\n",
    ">\n",
    ">- Histogram\n",
    ">- Scatter Plot: A scatter plot is a mathematical diagram using Cartesian coordinates to display values for two variables for a set of data. The data are displayed as a collection of points, each having the value of one variable determining the position on the horizontal axis and the value of the other variable determining the position on the vertical axis. The points that are far from the population can be termed as an outlier.\n",
    ">\n",
    ">  \n",
    ">![image.png](https://miro.medium.com/v2/resize:fit:4800/format:webp/1*Ov6aH-8yIwNoUxtMFwgx4g.png)\n",
    ">\n",
    ">\n",
    "\n",
    "2. Using statistical method (Univariate Non-Graphical analysis):\n",
    ">- Any value, which is beyond the range of -1.5 x IQR to 1.5 x IQR\n",
    " \n",
    "![image.png](https://www.whatissixsigma.net/wp-content/uploads/2015/07/Box-Plot-Diagram-to-identify-Outliers-figure-1.png)\n",
    "\n",
    ">- Use capping methods. Any value which out of range of 5th and 95th percentile can be considered as outlier\n",
    ">- Data points, three or more standard deviation away from mean are considered outlier: The Z-score is the signed number of standard deviations by which the value of an observation or data point is above the mean value of what is being observed or measured. While calculating the Z-score we re-scale and center the data and look for data points that are too far from zero. These data points which are way too far from zero will be treated as the outliers. In most of the cases, a threshold of 3 or -3 is used i.e if the Z-score value is greater than or less than 3 or -3 respectively, that data point will be identified as outliers.\n",
    "> - Outlier detection is merely a special case of the examination of data for influential data points and it also depends on the business understanding\n"
   ]
  },
  {
   "cell_type": "code",
   "execution_count": 38,
   "id": "74ea6194-cc01-45d8-be38-c4543eb1714e",
   "metadata": {},
   "outputs": [],
   "source": [
    "# go to univariate graphical analysis\n",
    "# go to lesson : data visualisation 1 - chart type section\n",
    "# then go to univariate graphical analysis\n",
    "# detect outliers using graphs varbaly"
   ]
  },
  {
   "cell_type": "code",
   "execution_count": 39,
   "id": "48ecf77b-480c-4f64-9485-95be805bc357",
   "metadata": {},
   "outputs": [],
   "source": [
    "# go to lesson: statistics 1 then statistics 3\n",
    "# then go to univariate Non graphical analysis\n",
    "# detect outliers using numerical statistics "
   ]
  },
  {
   "cell_type": "code",
   "execution_count": 40,
   "id": "7eafb0b3",
   "metadata": {},
   "outputs": [
    {
     "data": {
      "application/vnd.plotly.v1+json": {
       "config": {
        "plotlyServerURL": "https://plot.ly"
       },
       "data": [
        {
         "alignmentgroup": "True",
         "hovertemplate": "variable=%{x}<br>value=%{y}<extra></extra>",
         "legendgroup": "",
         "marker": {
          "color": "#636efa"
         },
         "name": "",
         "notched": false,
         "offsetgroup": "",
         "orientation": "v",
         "showlegend": false,
         "type": "box",
         "x": [
          "Salary",
          "Salary",
          "Salary",
          "Salary",
          "Salary",
          "Salary",
          "Salary",
          "Salary",
          "Salary",
          "Salary",
          "Salary",
          "Salary",
          "Salary",
          "Salary",
          "Salary",
          "Salary",
          "Salary",
          "Salary",
          "Salary",
          "Salary",
          "Salary",
          "Salary",
          "Salary",
          "Salary",
          "Salary",
          "Salary",
          "Salary",
          "Salary",
          "Salary",
          "Salary",
          "Salary",
          "Salary",
          "Salary",
          "Salary",
          "Salary",
          "Salary",
          "Salary",
          "Salary",
          "Salary",
          "Salary",
          "Salary",
          "Salary",
          "Salary",
          "Salary",
          "Salary",
          "Salary",
          "Salary",
          "Salary",
          "Salary",
          "Salary",
          "Salary",
          "Salary",
          "Salary",
          "Salary",
          "Salary",
          "Salary",
          "Salary",
          "Salary",
          "Salary",
          "Salary",
          "Salary",
          "Salary",
          "Salary",
          "Salary",
          "Salary",
          "Salary",
          "Salary",
          "Salary",
          "Salary",
          "Salary",
          "Salary",
          "Salary",
          "Salary",
          "Salary",
          "Salary",
          "Salary",
          "Salary",
          "Salary",
          "Salary",
          "Salary",
          "Salary",
          "Salary",
          "Salary",
          "Salary",
          "Salary",
          "Salary",
          "Salary",
          "Salary",
          "Salary",
          "Salary",
          "Salary",
          "Salary",
          "Salary",
          "Salary",
          "Salary",
          "Salary",
          "Salary",
          "Salary",
          "Salary",
          "Salary",
          "Salary",
          "Salary",
          "Salary",
          "Salary",
          "Salary",
          "Salary",
          "Salary",
          "Salary",
          "Salary",
          "Salary",
          "Salary",
          "Salary",
          "Salary",
          "Salary",
          "Salary",
          "Salary",
          "Salary",
          "Salary",
          "Salary",
          "Salary",
          "Salary",
          "Salary",
          "Salary",
          "Salary",
          "Salary",
          "Salary",
          "Salary",
          "Salary",
          "Salary",
          "Salary",
          "Salary",
          "Salary",
          "Salary",
          "Salary",
          "Salary",
          "Salary",
          "Salary",
          "Salary",
          "Salary",
          "Salary",
          "Salary",
          "Salary",
          "Salary",
          "Salary",
          "Salary",
          "Salary",
          "Salary",
          "Salary",
          "Salary",
          "Salary",
          "Salary",
          "Salary",
          "Salary",
          "Salary",
          "Salary",
          "Salary",
          "Salary",
          "Salary",
          "Salary",
          "Salary",
          "Salary",
          "Salary",
          "Salary",
          "Salary",
          "Salary",
          "Salary",
          "Salary",
          "Salary",
          "Salary",
          "Salary",
          "Salary",
          "Salary",
          "Salary",
          "Salary",
          "Salary",
          "Salary",
          "Salary",
          "Salary",
          "Salary",
          "Salary",
          "Salary",
          "Salary",
          "Salary",
          "Salary",
          "Salary",
          "Salary",
          "Salary",
          "Salary",
          "Salary",
          "Salary",
          "Salary",
          "Salary",
          "Salary",
          "Salary",
          "Salary",
          "Salary",
          "Salary",
          "Salary",
          "Salary",
          "Salary",
          "Salary",
          "Salary",
          "Salary",
          "Salary",
          "Salary",
          "Salary",
          "Salary",
          "Salary",
          "Salary",
          "Salary",
          "Salary",
          "Salary",
          "Salary",
          "Salary",
          "Salary",
          "Salary",
          "Salary",
          "Salary",
          "Salary",
          "Salary",
          "Salary",
          "Salary",
          "Salary",
          "Salary",
          "Salary",
          "Salary",
          "Salary",
          "Salary",
          "Salary",
          "Salary",
          "Salary",
          "Salary",
          "Salary",
          "Salary",
          "Salary",
          "Salary",
          "Salary",
          "Salary",
          "Salary",
          "Salary",
          "Salary",
          "Salary",
          "Salary",
          "Salary",
          "Salary",
          "Salary",
          "Salary",
          "Salary",
          "Salary",
          "Salary",
          "Salary",
          "Salary",
          "Salary",
          "Salary",
          "Salary",
          "Salary",
          "Salary",
          "Salary",
          "Salary",
          "Salary",
          "Salary",
          "Salary",
          "Salary",
          "Salary",
          "Salary",
          "Salary",
          "Salary",
          "Salary",
          "Salary",
          "Salary",
          "Salary",
          "Salary",
          "Salary",
          "Salary",
          "Salary",
          "Salary",
          "Salary",
          "Salary",
          "Salary",
          "Salary",
          "Salary",
          "Salary",
          "Salary",
          "Salary",
          "Salary",
          "Salary",
          "Salary",
          "Salary",
          "Salary",
          "Salary",
          "Salary",
          "Salary",
          "Salary",
          "Salary",
          "Salary",
          "Salary",
          "Salary",
          "Salary",
          "Salary",
          "Salary",
          "Salary",
          "Salary",
          "Salary",
          "Salary",
          "Salary",
          "Salary",
          "Salary",
          "Salary",
          "Salary",
          "Salary",
          "Salary",
          "Salary",
          "Salary",
          "Salary",
          "Salary",
          "Salary",
          "Salary",
          "Salary",
          "Salary",
          "Salary",
          "Salary",
          "Salary",
          "Salary",
          "Salary",
          "Salary",
          "Salary",
          "Salary",
          "Salary",
          "Salary",
          "Salary",
          "Salary",
          "Salary",
          "Salary",
          "Salary",
          "Salary",
          "Salary",
          "Salary",
          "Salary",
          "Salary",
          "Salary",
          "Salary",
          "Salary",
          "Salary",
          "Salary",
          "Salary",
          "Salary",
          "Salary",
          "Salary",
          "Salary",
          "Salary",
          "Salary",
          "Salary",
          "Salary",
          "Salary",
          "Salary",
          "Salary",
          "Salary",
          "Salary",
          "Salary",
          "Salary",
          "Salary",
          "Salary",
          "Salary",
          "Salary",
          "Salary",
          "Salary",
          "Salary",
          "Salary",
          "Salary",
          "Salary",
          "Salary",
          "Salary",
          "Salary",
          "Salary",
          "Salary",
          "Salary",
          "Salary",
          "Salary",
          "Salary",
          "Salary",
          "Salary",
          "Salary",
          "Salary",
          "Salary",
          "Salary",
          "Salary",
          "Salary",
          "Salary",
          "Salary",
          "Salary",
          "Salary",
          "Salary",
          "Salary",
          "Salary",
          "Salary",
          "Salary",
          "Salary",
          "Salary",
          "Salary",
          "Salary",
          "Salary",
          "Salary",
          "Salary",
          "Salary",
          "Salary",
          "Salary",
          "Salary",
          "Salary",
          "Salary",
          "Salary",
          "Salary",
          "Salary",
          "Salary",
          "Salary",
          "Salary",
          "Salary",
          "Salary",
          "Salary",
          "Salary",
          "Salary",
          "Salary",
          "Salary",
          "Salary",
          "Salary",
          "Salary",
          "Salary",
          "Salary",
          "Salary",
          "Salary",
          "Salary",
          "Salary",
          "Salary",
          "Salary",
          "Salary",
          "Salary",
          "Salary",
          "Salary",
          "Salary",
          "Salary",
          "Salary",
          "Salary",
          "Salary",
          "Salary",
          "Salary",
          "Salary",
          "Salary",
          "Salary",
          "Salary",
          "Salary",
          "Salary",
          "Salary",
          "Salary",
          "Salary",
          "Salary",
          "Salary",
          "Salary",
          "Salary",
          "Salary",
          "Salary",
          "Salary",
          "Salary",
          "Salary",
          "Salary",
          "Salary",
          "Salary",
          "Salary",
          "Salary",
          "Salary",
          "Salary",
          "Salary",
          "Salary",
          "Salary",
          "Salary",
          "Salary",
          "Salary",
          "Salary",
          "Salary",
          "Salary",
          "Salary",
          "Salary",
          "Salary",
          "Salary",
          "Salary",
          "Salary",
          "Salary",
          "Salary",
          "Salary",
          "Salary",
          "Salary",
          "Salary",
          "Salary",
          "Salary",
          "Salary",
          "Salary",
          "Salary",
          "Salary",
          "Salary",
          "Salary",
          "Salary",
          "Salary",
          "Salary",
          "Salary",
          "Salary",
          "Salary",
          "Salary",
          "Salary",
          "Salary",
          "Salary",
          "Salary",
          "Salary",
          "Salary",
          "Salary",
          "Salary",
          "Salary",
          "Salary",
          "Salary",
          "Salary",
          "Salary",
          "Salary",
          "Salary",
          "Salary",
          "Salary",
          "Salary",
          "Salary",
          "Salary",
          "Salary",
          "Salary",
          "Salary",
          "Salary",
          "Salary",
          "Salary",
          "Salary",
          "Salary",
          "Salary",
          "Salary",
          "Salary",
          "Salary",
          "Salary",
          "Salary",
          "Salary",
          "Salary",
          "Salary",
          "Salary",
          "Salary",
          "Salary",
          "Salary",
          "Salary",
          "Salary",
          "Salary",
          "Salary",
          "Salary",
          "Salary",
          "Salary",
          "Salary",
          "Salary",
          "Salary",
          "Salary",
          "Salary",
          "Salary",
          "Salary",
          "Salary",
          "Salary",
          "Salary",
          "Salary",
          "Salary",
          "Salary",
          "Salary",
          "Salary",
          "Salary",
          "Salary",
          "Salary",
          "Salary",
          "Salary",
          "Salary",
          "Salary",
          "Salary",
          "Salary",
          "Salary",
          "Salary",
          "Salary",
          "Salary",
          "Salary",
          "Salary",
          "Salary",
          "Salary",
          "Salary",
          "Salary",
          "Salary",
          "Salary",
          "Salary",
          "Salary",
          "Salary",
          "Salary",
          "Salary",
          "Salary",
          "Salary",
          "Salary",
          "Salary",
          "Salary",
          "Salary",
          "Salary",
          "Salary",
          "Salary",
          "Salary",
          "Salary",
          "Salary",
          "Salary",
          "Salary",
          "Salary",
          "Salary",
          "Salary",
          "Salary",
          "Salary",
          "Salary",
          "Salary",
          "Salary",
          "Salary",
          "Salary",
          "Salary",
          "Salary",
          "Salary",
          "Salary",
          "Salary",
          "Salary",
          "Salary",
          "Salary",
          "Salary",
          "Salary",
          "Salary",
          "Salary",
          "Salary",
          "Salary",
          "Salary",
          "Salary",
          "Salary",
          "Salary",
          "Salary",
          "Salary",
          "Salary",
          "Salary",
          "Salary",
          "Salary",
          "Salary",
          "Salary",
          "Salary",
          "Salary",
          "Salary",
          "Salary",
          "Salary",
          "Salary",
          "Salary",
          "Salary",
          "Salary",
          "Salary",
          "Salary",
          "Salary",
          "Salary",
          "Salary",
          "Salary",
          "Salary",
          "Salary",
          "Salary",
          "Salary",
          "Salary",
          "Salary",
          "Salary",
          "Salary",
          "Salary",
          "Salary",
          "Salary",
          "Salary",
          "Salary",
          "Salary",
          "Salary",
          "Salary",
          "Salary",
          "Salary",
          "Salary",
          "Salary",
          "Salary",
          "Salary",
          "Salary",
          "Salary",
          "Salary",
          "Salary",
          "Salary",
          "Salary",
          "Salary",
          "Salary",
          "Salary",
          "Salary",
          "Salary",
          "Salary",
          "Salary",
          "Salary",
          "Salary",
          "Salary",
          "Salary",
          "Salary",
          "Salary",
          "Salary",
          "Salary"
         ],
         "x0": " ",
         "xaxis": "x",
         "y": [
          5000,
          4000,
          5000,
          4500,
          6000,
          8000,
          10000,
          5000,
          7200,
          4000,
          7200,
          6000,
          5500,
          5000,
          8400,
          4000,
          4000,
          4000,
          4500,
          5500,
          3200,
          4000,
          4500,
          5500,
          4500,
          4500,
          5500,
          8000,
          8000,
          5000,
          4000,
          5000,
          4000,
          7000,
          4000,
          5250,
          5000,
          4000,
          7000,
          7000,
          8000,
          4000,
          4000,
          5000,
          4500,
          5500,
          4000,
          6000,
          4400,
          4000,
          4000,
          3200,
          4000,
          4000,
          4500,
          4000,
          7000,
          5000,
          4000,
          4082,
          4082,
          6000,
          6000,
          7000,
          5000,
          8000,
          4000,
          5000,
          6150,
          6500,
          4000,
          5000,
          4000,
          6000,
          5000,
          4000,
          4000,
          6000,
          15000,
          4500,
          5000,
          5000,
          4500,
          7000,
          4500,
          7000,
          4000,
          6000,
          5000,
          5000,
          5700,
          5500,
          5000,
          4000,
          4000,
          4000,
          6000,
          4000,
          10000,
          5000,
          4000,
          4000,
          7000,
          5000,
          6000,
          4500,
          15000,
          4500,
          5500,
          4000,
          4000,
          8400,
          4500,
          10000,
          4000,
          6000,
          4000,
          4000,
          5000,
          5000,
          4000,
          5000,
          5000,
          5000,
          5000,
          4375,
          5000,
          5000,
          6500,
          4000,
          5500,
          4000,
          5700,
          4434,
          4000,
          6000,
          6000,
          10000,
          6000,
          6000,
          5000,
          4000,
          4000,
          8000,
          10000,
          6500,
          4000,
          4000,
          4000,
          4000,
          5000,
          5000,
          7000,
          5000,
          4000,
          4000,
          4500,
          4500,
          4500,
          4000,
          4000,
          4000,
          4000,
          4000,
          5000,
          4000,
          5625,
          9200,
          3000,
          4000,
          4500,
          5500,
          4800,
          4000,
          5000,
          4000,
          4000,
          4000,
          4000,
          6000,
          4000,
          8000,
          4000,
          5700,
          5700,
          5700,
          8400,
          6000,
          5000,
          5000,
          4500,
          3200,
          4000,
          5700,
          10000,
          6000,
          3500,
          6000,
          4000,
          6000,
          6000,
          5000,
          7000,
          5000,
          4000,
          4000,
          5000,
          5625,
          6000,
          6000,
          5000,
          4000,
          5000,
          5200,
          7000,
          4000,
          4000,
          3600,
          6000,
          4000,
          4000,
          6000,
          7000,
          7500,
          4000,
          4000,
          27000,
          4000,
          5000,
          7500,
          4083,
          7000,
          12000,
          4000,
          4000,
          5000,
          6000,
          4000,
          8000,
          4000,
          4500,
          5000,
          5000,
          5000,
          5000,
          8000,
          6500,
          5500,
          6000,
          4000,
          8333,
          5000,
          4000,
          4000,
          4000,
          5500,
          32000,
          4000,
          4000,
          4000,
          5625,
          4000,
          3500,
          6583,
          6583,
          6583,
          4000,
          4000,
          4000,
          4000,
          4000,
          4000,
          4000,
          4000,
          4000,
          4000,
          4000,
          4000,
          4000,
          5500,
          5000,
          4000,
          4000,
          5000,
          4500,
          4000,
          7000,
          5500,
          6000,
          4800,
          6500,
          6000,
          7500,
          8500,
          6000,
          5599,
          4500,
          4000,
          8000,
          4000,
          5000,
          5000,
          7500,
          4500,
          7500,
          5700,
          5700,
          5500,
          4000,
          4000,
          4000,
          4000,
          4000,
          5500,
          4500,
          6000,
          5500,
          5500,
          7000,
          5000,
          5000,
          4500,
          5000,
          4500,
          6500,
          5000,
          6000,
          4000,
          8000,
          4400,
          5000,
          5000,
          5000,
          8000,
          4000,
          4000,
          4320,
          4630,
          4500,
          5066,
          4500,
          4630,
          4630,
          4000,
          4000,
          6000,
          5000,
          7000,
          7500,
          4000,
          4000,
          6000,
          5000,
          6000,
          6000,
          5000,
          5000,
          4000,
          6500,
          6500,
          5000,
          4500,
          5000,
          5000,
          7500,
          4500,
          4000,
          5500,
          4500,
          5000,
          5000,
          15000,
          4000,
          4000,
          8000,
          5000,
          5000,
          4000,
          4000,
          4000,
          7000,
          5000,
          5040,
          4170,
          3198,
          4000,
          5000,
          4000,
          4000,
          4000,
          7000,
          4000,
          4000,
          6000,
          7000,
          8400,
          7000,
          8400,
          9600,
          6000,
          4000,
          8000,
          5000,
          6000,
          7000,
          8500,
          8000,
          7000,
          5000,
          4000,
          4500,
          4500,
          4500,
          6000,
          6000,
          4000,
          4000,
          4000,
          4000,
          4000,
          5000,
          5000,
          4500,
          4000,
          4000,
          5000,
          6000,
          4000,
          6000,
          4500,
          6000,
          3200,
          4800,
          4000,
          4000,
          4000,
          8000,
          4000,
          4000,
          4200,
          4000,
          4000,
          7000,
          4000,
          4000,
          6000,
          4000,
          6000,
          5000,
          8000,
          5000,
          5500,
          4500,
          5000,
          6000,
          4000,
          5500,
          4000,
          4000,
          4000,
          5000,
          5000,
          4500,
          4300,
          7000,
          4500,
          4000,
          4500,
          4000,
          4000,
          4000,
          4000,
          5000,
          4500,
          4500,
          5000,
          5500,
          5000,
          6000,
          4000,
          4000,
          5500,
          4000,
          4000,
          4000,
          4000,
          5000,
          5483,
          4000,
          5700,
          6250,
          7200,
          5500,
          5000,
          5000,
          5000,
          5000,
          5500,
          6000,
          7000,
          6000,
          7000,
          6000,
          5500,
          6000,
          4000,
          4000,
          5000,
          8000,
          8000,
          4000,
          4000,
          3200,
          4000,
          6000,
          4000,
          4000,
          6000,
          4000,
          4000,
          4000,
          5500,
          5000,
          5000,
          4000,
          4000,
          4500,
          4000,
          4000,
          7000,
          7000,
          4000,
          12000,
          6000,
          3500,
          5000,
          5000,
          5000,
          5000,
          5000,
          7000,
          7000,
          5000,
          7000,
          4000,
          4000,
          6000,
          4000,
          35000,
          5700,
          7000,
          5700,
          6000,
          7000,
          13200,
          4000,
          5000,
          4000,
          7000,
          4000,
          4000,
          4000,
          3200,
          4500,
          18000,
          8000,
          6250,
          5500,
          3500,
          6000,
          4000,
          4000,
          7500,
          7500,
          10000,
          4500,
          4500,
          5000,
          4500,
          4500,
          4000,
          4500,
          3500,
          5000,
          4000,
          3600,
          3600,
          3600,
          5500,
          5000,
          6000,
          4000,
          8000,
          5000,
          6000,
          15000,
          4000,
          4000,
          4000,
          9900,
          9900,
          9900,
          9900,
          9900,
          9900,
          9900,
          6500,
          4000,
          4000,
          7000,
          5000,
          5000,
          4000,
          6000,
          4000,
          7500,
          4000,
          6000,
          4000,
          4900,
          5000,
          5500,
          5500,
          4000,
          4000,
          6000,
          4200,
          5000,
          4000,
          3500,
          6000,
          6000,
          5500,
          5000,
          4000,
          4000,
          4000,
          5000,
          4000,
          5000,
          5000,
          4000,
          4000,
          6000,
          4000,
          4000,
          4000,
          6000,
          5000,
          4000,
          6000,
          7000,
          7000,
          4000,
          5500,
          4000,
          5000,
          8000,
          4000,
          5000,
          6000,
          4000,
          7000,
          4000,
          12000,
          4900,
          7000,
          4000,
          4000,
          7000,
          4000,
          4000,
          4000,
          5000,
          4500,
          6500,
          8000,
          6500,
          4000,
          8500,
          7000,
          5000,
          5000,
          4000,
          4000,
          5000,
          8000,
          4000,
          5000,
          4000,
          4500,
          4000,
          4500,
          4200,
          5000,
          5000,
          4000,
          4000,
          4000,
          4000,
          4000,
          4000
         ],
         "y0": " ",
         "yaxis": "y"
        }
       ],
       "layout": {
        "boxmode": "group",
        "legend": {
         "tracegroupgap": 0
        },
        "margin": {
         "t": 60
        },
        "template": {
         "data": {
          "bar": [
           {
            "error_x": {
             "color": "#2a3f5f"
            },
            "error_y": {
             "color": "#2a3f5f"
            },
            "marker": {
             "line": {
              "color": "#E5ECF6",
              "width": 0.5
             },
             "pattern": {
              "fillmode": "overlay",
              "size": 10,
              "solidity": 0.2
             }
            },
            "type": "bar"
           }
          ],
          "barpolar": [
           {
            "marker": {
             "line": {
              "color": "#E5ECF6",
              "width": 0.5
             },
             "pattern": {
              "fillmode": "overlay",
              "size": 10,
              "solidity": 0.2
             }
            },
            "type": "barpolar"
           }
          ],
          "carpet": [
           {
            "aaxis": {
             "endlinecolor": "#2a3f5f",
             "gridcolor": "white",
             "linecolor": "white",
             "minorgridcolor": "white",
             "startlinecolor": "#2a3f5f"
            },
            "baxis": {
             "endlinecolor": "#2a3f5f",
             "gridcolor": "white",
             "linecolor": "white",
             "minorgridcolor": "white",
             "startlinecolor": "#2a3f5f"
            },
            "type": "carpet"
           }
          ],
          "choropleth": [
           {
            "colorbar": {
             "outlinewidth": 0,
             "ticks": ""
            },
            "type": "choropleth"
           }
          ],
          "contour": [
           {
            "colorbar": {
             "outlinewidth": 0,
             "ticks": ""
            },
            "colorscale": [
             [
              0,
              "#0d0887"
             ],
             [
              0.1111111111111111,
              "#46039f"
             ],
             [
              0.2222222222222222,
              "#7201a8"
             ],
             [
              0.3333333333333333,
              "#9c179e"
             ],
             [
              0.4444444444444444,
              "#bd3786"
             ],
             [
              0.5555555555555556,
              "#d8576b"
             ],
             [
              0.6666666666666666,
              "#ed7953"
             ],
             [
              0.7777777777777778,
              "#fb9f3a"
             ],
             [
              0.8888888888888888,
              "#fdca26"
             ],
             [
              1,
              "#f0f921"
             ]
            ],
            "type": "contour"
           }
          ],
          "contourcarpet": [
           {
            "colorbar": {
             "outlinewidth": 0,
             "ticks": ""
            },
            "type": "contourcarpet"
           }
          ],
          "heatmap": [
           {
            "colorbar": {
             "outlinewidth": 0,
             "ticks": ""
            },
            "colorscale": [
             [
              0,
              "#0d0887"
             ],
             [
              0.1111111111111111,
              "#46039f"
             ],
             [
              0.2222222222222222,
              "#7201a8"
             ],
             [
              0.3333333333333333,
              "#9c179e"
             ],
             [
              0.4444444444444444,
              "#bd3786"
             ],
             [
              0.5555555555555556,
              "#d8576b"
             ],
             [
              0.6666666666666666,
              "#ed7953"
             ],
             [
              0.7777777777777778,
              "#fb9f3a"
             ],
             [
              0.8888888888888888,
              "#fdca26"
             ],
             [
              1,
              "#f0f921"
             ]
            ],
            "type": "heatmap"
           }
          ],
          "heatmapgl": [
           {
            "colorbar": {
             "outlinewidth": 0,
             "ticks": ""
            },
            "colorscale": [
             [
              0,
              "#0d0887"
             ],
             [
              0.1111111111111111,
              "#46039f"
             ],
             [
              0.2222222222222222,
              "#7201a8"
             ],
             [
              0.3333333333333333,
              "#9c179e"
             ],
             [
              0.4444444444444444,
              "#bd3786"
             ],
             [
              0.5555555555555556,
              "#d8576b"
             ],
             [
              0.6666666666666666,
              "#ed7953"
             ],
             [
              0.7777777777777778,
              "#fb9f3a"
             ],
             [
              0.8888888888888888,
              "#fdca26"
             ],
             [
              1,
              "#f0f921"
             ]
            ],
            "type": "heatmapgl"
           }
          ],
          "histogram": [
           {
            "marker": {
             "pattern": {
              "fillmode": "overlay",
              "size": 10,
              "solidity": 0.2
             }
            },
            "type": "histogram"
           }
          ],
          "histogram2d": [
           {
            "colorbar": {
             "outlinewidth": 0,
             "ticks": ""
            },
            "colorscale": [
             [
              0,
              "#0d0887"
             ],
             [
              0.1111111111111111,
              "#46039f"
             ],
             [
              0.2222222222222222,
              "#7201a8"
             ],
             [
              0.3333333333333333,
              "#9c179e"
             ],
             [
              0.4444444444444444,
              "#bd3786"
             ],
             [
              0.5555555555555556,
              "#d8576b"
             ],
             [
              0.6666666666666666,
              "#ed7953"
             ],
             [
              0.7777777777777778,
              "#fb9f3a"
             ],
             [
              0.8888888888888888,
              "#fdca26"
             ],
             [
              1,
              "#f0f921"
             ]
            ],
            "type": "histogram2d"
           }
          ],
          "histogram2dcontour": [
           {
            "colorbar": {
             "outlinewidth": 0,
             "ticks": ""
            },
            "colorscale": [
             [
              0,
              "#0d0887"
             ],
             [
              0.1111111111111111,
              "#46039f"
             ],
             [
              0.2222222222222222,
              "#7201a8"
             ],
             [
              0.3333333333333333,
              "#9c179e"
             ],
             [
              0.4444444444444444,
              "#bd3786"
             ],
             [
              0.5555555555555556,
              "#d8576b"
             ],
             [
              0.6666666666666666,
              "#ed7953"
             ],
             [
              0.7777777777777778,
              "#fb9f3a"
             ],
             [
              0.8888888888888888,
              "#fdca26"
             ],
             [
              1,
              "#f0f921"
             ]
            ],
            "type": "histogram2dcontour"
           }
          ],
          "mesh3d": [
           {
            "colorbar": {
             "outlinewidth": 0,
             "ticks": ""
            },
            "type": "mesh3d"
           }
          ],
          "parcoords": [
           {
            "line": {
             "colorbar": {
              "outlinewidth": 0,
              "ticks": ""
             }
            },
            "type": "parcoords"
           }
          ],
          "pie": [
           {
            "automargin": true,
            "type": "pie"
           }
          ],
          "scatter": [
           {
            "fillpattern": {
             "fillmode": "overlay",
             "size": 10,
             "solidity": 0.2
            },
            "type": "scatter"
           }
          ],
          "scatter3d": [
           {
            "line": {
             "colorbar": {
              "outlinewidth": 0,
              "ticks": ""
             }
            },
            "marker": {
             "colorbar": {
              "outlinewidth": 0,
              "ticks": ""
             }
            },
            "type": "scatter3d"
           }
          ],
          "scattercarpet": [
           {
            "marker": {
             "colorbar": {
              "outlinewidth": 0,
              "ticks": ""
             }
            },
            "type": "scattercarpet"
           }
          ],
          "scattergeo": [
           {
            "marker": {
             "colorbar": {
              "outlinewidth": 0,
              "ticks": ""
             }
            },
            "type": "scattergeo"
           }
          ],
          "scattergl": [
           {
            "marker": {
             "colorbar": {
              "outlinewidth": 0,
              "ticks": ""
             }
            },
            "type": "scattergl"
           }
          ],
          "scattermapbox": [
           {
            "marker": {
             "colorbar": {
              "outlinewidth": 0,
              "ticks": ""
             }
            },
            "type": "scattermapbox"
           }
          ],
          "scatterpolar": [
           {
            "marker": {
             "colorbar": {
              "outlinewidth": 0,
              "ticks": ""
             }
            },
            "type": "scatterpolar"
           }
          ],
          "scatterpolargl": [
           {
            "marker": {
             "colorbar": {
              "outlinewidth": 0,
              "ticks": ""
             }
            },
            "type": "scatterpolargl"
           }
          ],
          "scatterternary": [
           {
            "marker": {
             "colorbar": {
              "outlinewidth": 0,
              "ticks": ""
             }
            },
            "type": "scatterternary"
           }
          ],
          "surface": [
           {
            "colorbar": {
             "outlinewidth": 0,
             "ticks": ""
            },
            "colorscale": [
             [
              0,
              "#0d0887"
             ],
             [
              0.1111111111111111,
              "#46039f"
             ],
             [
              0.2222222222222222,
              "#7201a8"
             ],
             [
              0.3333333333333333,
              "#9c179e"
             ],
             [
              0.4444444444444444,
              "#bd3786"
             ],
             [
              0.5555555555555556,
              "#d8576b"
             ],
             [
              0.6666666666666666,
              "#ed7953"
             ],
             [
              0.7777777777777778,
              "#fb9f3a"
             ],
             [
              0.8888888888888888,
              "#fdca26"
             ],
             [
              1,
              "#f0f921"
             ]
            ],
            "type": "surface"
           }
          ],
          "table": [
           {
            "cells": {
             "fill": {
              "color": "#EBF0F8"
             },
             "line": {
              "color": "white"
             }
            },
            "header": {
             "fill": {
              "color": "#C8D4E3"
             },
             "line": {
              "color": "white"
             }
            },
            "type": "table"
           }
          ]
         },
         "layout": {
          "annotationdefaults": {
           "arrowcolor": "#2a3f5f",
           "arrowhead": 0,
           "arrowwidth": 1
          },
          "autotypenumbers": "strict",
          "coloraxis": {
           "colorbar": {
            "outlinewidth": 0,
            "ticks": ""
           }
          },
          "colorscale": {
           "diverging": [
            [
             0,
             "#8e0152"
            ],
            [
             0.1,
             "#c51b7d"
            ],
            [
             0.2,
             "#de77ae"
            ],
            [
             0.3,
             "#f1b6da"
            ],
            [
             0.4,
             "#fde0ef"
            ],
            [
             0.5,
             "#f7f7f7"
            ],
            [
             0.6,
             "#e6f5d0"
            ],
            [
             0.7,
             "#b8e186"
            ],
            [
             0.8,
             "#7fbc41"
            ],
            [
             0.9,
             "#4d9221"
            ],
            [
             1,
             "#276419"
            ]
           ],
           "sequential": [
            [
             0,
             "#0d0887"
            ],
            [
             0.1111111111111111,
             "#46039f"
            ],
            [
             0.2222222222222222,
             "#7201a8"
            ],
            [
             0.3333333333333333,
             "#9c179e"
            ],
            [
             0.4444444444444444,
             "#bd3786"
            ],
            [
             0.5555555555555556,
             "#d8576b"
            ],
            [
             0.6666666666666666,
             "#ed7953"
            ],
            [
             0.7777777777777778,
             "#fb9f3a"
            ],
            [
             0.8888888888888888,
             "#fdca26"
            ],
            [
             1,
             "#f0f921"
            ]
           ],
           "sequentialminus": [
            [
             0,
             "#0d0887"
            ],
            [
             0.1111111111111111,
             "#46039f"
            ],
            [
             0.2222222222222222,
             "#7201a8"
            ],
            [
             0.3333333333333333,
             "#9c179e"
            ],
            [
             0.4444444444444444,
             "#bd3786"
            ],
            [
             0.5555555555555556,
             "#d8576b"
            ],
            [
             0.6666666666666666,
             "#ed7953"
            ],
            [
             0.7777777777777778,
             "#fb9f3a"
            ],
            [
             0.8888888888888888,
             "#fdca26"
            ],
            [
             1,
             "#f0f921"
            ]
           ]
          },
          "colorway": [
           "#636efa",
           "#EF553B",
           "#00cc96",
           "#ab63fa",
           "#FFA15A",
           "#19d3f3",
           "#FF6692",
           "#B6E880",
           "#FF97FF",
           "#FECB52"
          ],
          "font": {
           "color": "#2a3f5f"
          },
          "geo": {
           "bgcolor": "white",
           "lakecolor": "white",
           "landcolor": "#E5ECF6",
           "showlakes": true,
           "showland": true,
           "subunitcolor": "white"
          },
          "hoverlabel": {
           "align": "left"
          },
          "hovermode": "closest",
          "mapbox": {
           "style": "light"
          },
          "paper_bgcolor": "white",
          "plot_bgcolor": "#E5ECF6",
          "polar": {
           "angularaxis": {
            "gridcolor": "white",
            "linecolor": "white",
            "ticks": ""
           },
           "bgcolor": "#E5ECF6",
           "radialaxis": {
            "gridcolor": "white",
            "linecolor": "white",
            "ticks": ""
           }
          },
          "scene": {
           "xaxis": {
            "backgroundcolor": "#E5ECF6",
            "gridcolor": "white",
            "gridwidth": 2,
            "linecolor": "white",
            "showbackground": true,
            "ticks": "",
            "zerolinecolor": "white"
           },
           "yaxis": {
            "backgroundcolor": "#E5ECF6",
            "gridcolor": "white",
            "gridwidth": 2,
            "linecolor": "white",
            "showbackground": true,
            "ticks": "",
            "zerolinecolor": "white"
           },
           "zaxis": {
            "backgroundcolor": "#E5ECF6",
            "gridcolor": "white",
            "gridwidth": 2,
            "linecolor": "white",
            "showbackground": true,
            "ticks": "",
            "zerolinecolor": "white"
           }
          },
          "shapedefaults": {
           "line": {
            "color": "#2a3f5f"
           }
          },
          "ternary": {
           "aaxis": {
            "gridcolor": "white",
            "linecolor": "white",
            "ticks": ""
           },
           "baxis": {
            "gridcolor": "white",
            "linecolor": "white",
            "ticks": ""
           },
           "bgcolor": "#E5ECF6",
           "caxis": {
            "gridcolor": "white",
            "linecolor": "white",
            "ticks": ""
           }
          },
          "title": {
           "x": 0.05
          },
          "xaxis": {
           "automargin": true,
           "gridcolor": "white",
           "linecolor": "white",
           "ticks": "",
           "title": {
            "standoff": 15
           },
           "zerolinecolor": "white",
           "zerolinewidth": 2
          },
          "yaxis": {
           "automargin": true,
           "gridcolor": "white",
           "linecolor": "white",
           "ticks": "",
           "title": {
            "standoff": 15
           },
           "zerolinecolor": "white",
           "zerolinewidth": 2
          }
         }
        },
        "xaxis": {
         "anchor": "y",
         "domain": [
          0,
          1
         ],
         "title": {
          "text": "variable"
         }
        },
        "yaxis": {
         "anchor": "x",
         "domain": [
          0,
          1
         ],
         "title": {
          "text": "value"
         }
        }
       }
      }
     },
     "metadata": {},
     "output_type": "display_data"
    }
   ],
   "source": [
    "fig = px.box(df['Salary'])\n",
    "fig.show()"
   ]
  },
  {
   "cell_type": "code",
   "execution_count": 41,
   "id": "ee200da8-62b0-492d-b118-f4d665a1fb16",
   "metadata": {},
   "outputs": [
    {
     "data": {
      "application/vnd.plotly.v1+json": {
       "config": {
        "plotlyServerURL": "https://plot.ly"
       },
       "data": [
        {
         "alignmentgroup": "True",
         "hovertemplate": "variable=%{x}<br>value=%{y}<extra></extra>",
         "legendgroup": "",
         "marker": {
          "color": "#636efa"
         },
         "name": "",
         "notched": false,
         "offsetgroup": "",
         "orientation": "v",
         "showlegend": false,
         "type": "box",
         "x": [
          "open_positions",
          "open_positions",
          "open_positions",
          "open_positions",
          "open_positions",
          "open_positions",
          "open_positions",
          "open_positions",
          "open_positions",
          "open_positions",
          "open_positions",
          "open_positions",
          "open_positions",
          "open_positions",
          "open_positions",
          "open_positions",
          "open_positions",
          "open_positions",
          "open_positions",
          "open_positions",
          "open_positions",
          "open_positions",
          "open_positions",
          "open_positions",
          "open_positions",
          "open_positions",
          "open_positions",
          "open_positions",
          "open_positions",
          "open_positions",
          "open_positions",
          "open_positions",
          "open_positions",
          "open_positions",
          "open_positions",
          "open_positions",
          "open_positions",
          "open_positions",
          "open_positions",
          "open_positions",
          "open_positions",
          "open_positions",
          "open_positions",
          "open_positions",
          "open_positions",
          "open_positions",
          "open_positions",
          "open_positions",
          "open_positions",
          "open_positions",
          "open_positions",
          "open_positions",
          "open_positions",
          "open_positions",
          "open_positions",
          "open_positions",
          "open_positions",
          "open_positions",
          "open_positions",
          "open_positions",
          "open_positions",
          "open_positions",
          "open_positions",
          "open_positions",
          "open_positions",
          "open_positions",
          "open_positions",
          "open_positions",
          "open_positions",
          "open_positions",
          "open_positions",
          "open_positions",
          "open_positions",
          "open_positions",
          "open_positions",
          "open_positions",
          "open_positions",
          "open_positions",
          "open_positions",
          "open_positions",
          "open_positions",
          "open_positions",
          "open_positions",
          "open_positions",
          "open_positions",
          "open_positions",
          "open_positions",
          "open_positions",
          "open_positions",
          "open_positions",
          "open_positions",
          "open_positions",
          "open_positions",
          "open_positions",
          "open_positions",
          "open_positions",
          "open_positions",
          "open_positions",
          "open_positions",
          "open_positions",
          "open_positions",
          "open_positions",
          "open_positions",
          "open_positions",
          "open_positions",
          "open_positions",
          "open_positions",
          "open_positions",
          "open_positions",
          "open_positions",
          "open_positions",
          "open_positions",
          "open_positions",
          "open_positions",
          "open_positions",
          "open_positions",
          "open_positions",
          "open_positions",
          "open_positions",
          "open_positions",
          "open_positions",
          "open_positions",
          "open_positions",
          "open_positions",
          "open_positions",
          "open_positions",
          "open_positions",
          "open_positions",
          "open_positions",
          "open_positions",
          "open_positions",
          "open_positions",
          "open_positions",
          "open_positions",
          "open_positions",
          "open_positions",
          "open_positions",
          "open_positions",
          "open_positions",
          "open_positions",
          "open_positions",
          "open_positions",
          "open_positions",
          "open_positions",
          "open_positions",
          "open_positions",
          "open_positions",
          "open_positions",
          "open_positions",
          "open_positions",
          "open_positions",
          "open_positions",
          "open_positions",
          "open_positions",
          "open_positions",
          "open_positions",
          "open_positions",
          "open_positions",
          "open_positions",
          "open_positions",
          "open_positions",
          "open_positions",
          "open_positions",
          "open_positions",
          "open_positions",
          "open_positions",
          "open_positions",
          "open_positions",
          "open_positions",
          "open_positions",
          "open_positions",
          "open_positions",
          "open_positions",
          "open_positions",
          "open_positions",
          "open_positions",
          "open_positions",
          "open_positions",
          "open_positions",
          "open_positions",
          "open_positions",
          "open_positions",
          "open_positions",
          "open_positions",
          "open_positions",
          "open_positions",
          "open_positions",
          "open_positions",
          "open_positions",
          "open_positions",
          "open_positions",
          "open_positions",
          "open_positions",
          "open_positions",
          "open_positions",
          "open_positions",
          "open_positions",
          "open_positions",
          "open_positions",
          "open_positions",
          "open_positions",
          "open_positions",
          "open_positions",
          "open_positions",
          "open_positions",
          "open_positions",
          "open_positions",
          "open_positions",
          "open_positions",
          "open_positions",
          "open_positions",
          "open_positions",
          "open_positions",
          "open_positions",
          "open_positions",
          "open_positions",
          "open_positions",
          "open_positions",
          "open_positions",
          "open_positions",
          "open_positions",
          "open_positions",
          "open_positions",
          "open_positions",
          "open_positions",
          "open_positions",
          "open_positions",
          "open_positions",
          "open_positions",
          "open_positions",
          "open_positions",
          "open_positions",
          "open_positions",
          "open_positions",
          "open_positions",
          "open_positions",
          "open_positions",
          "open_positions",
          "open_positions",
          "open_positions",
          "open_positions",
          "open_positions",
          "open_positions",
          "open_positions",
          "open_positions",
          "open_positions",
          "open_positions",
          "open_positions",
          "open_positions",
          "open_positions",
          "open_positions",
          "open_positions",
          "open_positions",
          "open_positions",
          "open_positions",
          "open_positions",
          "open_positions",
          "open_positions",
          "open_positions",
          "open_positions",
          "open_positions",
          "open_positions",
          "open_positions",
          "open_positions",
          "open_positions",
          "open_positions",
          "open_positions",
          "open_positions",
          "open_positions",
          "open_positions",
          "open_positions",
          "open_positions",
          "open_positions",
          "open_positions",
          "open_positions",
          "open_positions",
          "open_positions",
          "open_positions",
          "open_positions",
          "open_positions",
          "open_positions",
          "open_positions",
          "open_positions",
          "open_positions",
          "open_positions",
          "open_positions",
          "open_positions",
          "open_positions",
          "open_positions",
          "open_positions",
          "open_positions",
          "open_positions",
          "open_positions",
          "open_positions",
          "open_positions",
          "open_positions",
          "open_positions",
          "open_positions",
          "open_positions",
          "open_positions",
          "open_positions",
          "open_positions",
          "open_positions",
          "open_positions",
          "open_positions",
          "open_positions",
          "open_positions",
          "open_positions",
          "open_positions",
          "open_positions",
          "open_positions",
          "open_positions",
          "open_positions",
          "open_positions",
          "open_positions",
          "open_positions",
          "open_positions",
          "open_positions",
          "open_positions",
          "open_positions",
          "open_positions",
          "open_positions",
          "open_positions",
          "open_positions",
          "open_positions",
          "open_positions",
          "open_positions",
          "open_positions",
          "open_positions",
          "open_positions",
          "open_positions",
          "open_positions",
          "open_positions",
          "open_positions",
          "open_positions",
          "open_positions",
          "open_positions",
          "open_positions",
          "open_positions",
          "open_positions",
          "open_positions",
          "open_positions",
          "open_positions",
          "open_positions",
          "open_positions",
          "open_positions",
          "open_positions",
          "open_positions",
          "open_positions",
          "open_positions",
          "open_positions",
          "open_positions",
          "open_positions",
          "open_positions",
          "open_positions",
          "open_positions",
          "open_positions",
          "open_positions",
          "open_positions",
          "open_positions",
          "open_positions",
          "open_positions",
          "open_positions",
          "open_positions",
          "open_positions",
          "open_positions",
          "open_positions",
          "open_positions",
          "open_positions",
          "open_positions",
          "open_positions",
          "open_positions",
          "open_positions",
          "open_positions",
          "open_positions",
          "open_positions",
          "open_positions",
          "open_positions",
          "open_positions",
          "open_positions",
          "open_positions",
          "open_positions",
          "open_positions",
          "open_positions",
          "open_positions",
          "open_positions",
          "open_positions",
          "open_positions",
          "open_positions",
          "open_positions",
          "open_positions",
          "open_positions",
          "open_positions",
          "open_positions",
          "open_positions",
          "open_positions",
          "open_positions",
          "open_positions",
          "open_positions",
          "open_positions",
          "open_positions",
          "open_positions",
          "open_positions",
          "open_positions",
          "open_positions",
          "open_positions",
          "open_positions",
          "open_positions",
          "open_positions",
          "open_positions",
          "open_positions",
          "open_positions",
          "open_positions",
          "open_positions",
          "open_positions",
          "open_positions",
          "open_positions",
          "open_positions",
          "open_positions",
          "open_positions",
          "open_positions",
          "open_positions",
          "open_positions",
          "open_positions",
          "open_positions",
          "open_positions",
          "open_positions",
          "open_positions",
          "open_positions",
          "open_positions",
          "open_positions",
          "open_positions",
          "open_positions",
          "open_positions",
          "open_positions",
          "open_positions",
          "open_positions",
          "open_positions",
          "open_positions",
          "open_positions",
          "open_positions",
          "open_positions",
          "open_positions",
          "open_positions",
          "open_positions",
          "open_positions",
          "open_positions",
          "open_positions",
          "open_positions",
          "open_positions",
          "open_positions",
          "open_positions",
          "open_positions",
          "open_positions",
          "open_positions",
          "open_positions",
          "open_positions",
          "open_positions",
          "open_positions",
          "open_positions",
          "open_positions",
          "open_positions",
          "open_positions",
          "open_positions",
          "open_positions",
          "open_positions",
          "open_positions",
          "open_positions",
          "open_positions",
          "open_positions",
          "open_positions",
          "open_positions",
          "open_positions",
          "open_positions",
          "open_positions",
          "open_positions",
          "open_positions",
          "open_positions",
          "open_positions",
          "open_positions",
          "open_positions",
          "open_positions",
          "open_positions",
          "open_positions",
          "open_positions",
          "open_positions",
          "open_positions",
          "open_positions",
          "open_positions",
          "open_positions",
          "open_positions",
          "open_positions",
          "open_positions",
          "open_positions",
          "open_positions",
          "open_positions",
          "open_positions",
          "open_positions",
          "open_positions",
          "open_positions",
          "open_positions",
          "open_positions",
          "open_positions",
          "open_positions",
          "open_positions",
          "open_positions",
          "open_positions",
          "open_positions",
          "open_positions",
          "open_positions",
          "open_positions",
          "open_positions",
          "open_positions",
          "open_positions",
          "open_positions",
          "open_positions",
          "open_positions",
          "open_positions",
          "open_positions",
          "open_positions",
          "open_positions",
          "open_positions",
          "open_positions",
          "open_positions",
          "open_positions",
          "open_positions",
          "open_positions",
          "open_positions",
          "open_positions",
          "open_positions",
          "open_positions",
          "open_positions",
          "open_positions",
          "open_positions",
          "open_positions",
          "open_positions",
          "open_positions",
          "open_positions",
          "open_positions",
          "open_positions",
          "open_positions",
          "open_positions",
          "open_positions",
          "open_positions",
          "open_positions",
          "open_positions",
          "open_positions",
          "open_positions",
          "open_positions",
          "open_positions",
          "open_positions",
          "open_positions",
          "open_positions",
          "open_positions",
          "open_positions",
          "open_positions",
          "open_positions",
          "open_positions",
          "open_positions",
          "open_positions",
          "open_positions",
          "open_positions",
          "open_positions",
          "open_positions",
          "open_positions",
          "open_positions",
          "open_positions",
          "open_positions",
          "open_positions",
          "open_positions",
          "open_positions",
          "open_positions",
          "open_positions",
          "open_positions",
          "open_positions",
          "open_positions",
          "open_positions",
          "open_positions",
          "open_positions",
          "open_positions",
          "open_positions",
          "open_positions",
          "open_positions",
          "open_positions",
          "open_positions",
          "open_positions",
          "open_positions",
          "open_positions",
          "open_positions",
          "open_positions",
          "open_positions",
          "open_positions",
          "open_positions",
          "open_positions",
          "open_positions",
          "open_positions",
          "open_positions",
          "open_positions",
          "open_positions",
          "open_positions",
          "open_positions",
          "open_positions",
          "open_positions",
          "open_positions",
          "open_positions",
          "open_positions",
          "open_positions",
          "open_positions",
          "open_positions",
          "open_positions",
          "open_positions",
          "open_positions",
          "open_positions",
          "open_positions",
          "open_positions",
          "open_positions",
          "open_positions",
          "open_positions",
          "open_positions",
          "open_positions",
          "open_positions",
          "open_positions",
          "open_positions",
          "open_positions",
          "open_positions",
          "open_positions",
          "open_positions",
          "open_positions",
          "open_positions",
          "open_positions",
          "open_positions",
          "open_positions",
          "open_positions",
          "open_positions",
          "open_positions",
          "open_positions",
          "open_positions",
          "open_positions",
          "open_positions",
          "open_positions",
          "open_positions",
          "open_positions",
          "open_positions",
          "open_positions",
          "open_positions",
          "open_positions",
          "open_positions",
          "open_positions",
          "open_positions",
          "open_positions",
          "open_positions",
          "open_positions",
          "open_positions",
          "open_positions",
          "open_positions",
          "open_positions",
          "open_positions",
          "open_positions",
          "open_positions",
          "open_positions",
          "open_positions",
          "open_positions",
          "open_positions",
          "open_positions",
          "open_positions",
          "open_positions",
          "open_positions",
          "open_positions",
          "open_positions",
          "open_positions",
          "open_positions",
          "open_positions",
          "open_positions",
          "open_positions",
          "open_positions",
          "open_positions",
          "open_positions",
          "open_positions",
          "open_positions",
          "open_positions",
          "open_positions",
          "open_positions",
          "open_positions",
          "open_positions",
          "open_positions",
          "open_positions",
          "open_positions",
          "open_positions",
          "open_positions",
          "open_positions",
          "open_positions",
          "open_positions",
          "open_positions",
          "open_positions",
          "open_positions",
          "open_positions",
          "open_positions",
          "open_positions",
          "open_positions",
          "open_positions",
          "open_positions",
          "open_positions"
         ],
         "x0": " ",
         "xaxis": "x",
         "y": [
          0,
          0,
          0,
          0,
          0,
          0,
          0,
          0,
          0,
          0,
          0,
          0,
          0,
          0,
          0,
          0,
          0,
          0,
          0,
          0,
          0,
          0,
          0,
          0,
          0,
          0,
          0,
          0,
          0,
          0,
          0,
          0,
          0,
          0,
          0,
          0,
          0,
          0,
          0,
          0,
          0,
          0,
          0,
          0,
          0,
          0,
          0,
          0,
          0,
          0,
          0,
          0,
          0,
          0,
          0,
          0,
          0,
          0,
          0,
          0,
          0,
          0,
          0,
          0,
          0,
          0,
          0,
          0,
          0,
          0,
          0,
          0,
          0,
          0,
          0,
          0,
          0,
          0,
          0,
          0,
          0,
          0,
          0,
          0,
          0,
          0,
          0,
          0,
          0,
          0,
          0,
          0,
          0,
          0,
          0,
          0,
          0,
          0,
          0,
          0,
          0,
          0,
          0,
          0,
          0,
          0,
          0,
          0,
          0,
          0,
          0,
          0,
          0,
          0,
          1,
          0,
          0,
          0,
          0,
          0,
          0,
          0,
          0,
          0,
          0,
          0,
          0,
          0,
          0,
          0,
          0,
          0,
          0,
          0,
          0,
          0,
          0,
          0,
          0,
          0,
          0,
          0,
          0,
          0,
          0,
          0,
          0,
          0,
          0,
          0,
          0,
          0,
          0,
          0,
          0,
          0,
          0,
          0,
          0,
          0,
          0,
          0,
          0,
          0,
          0,
          0,
          0,
          0,
          0,
          0,
          0,
          0,
          0,
          0,
          0,
          0,
          0,
          0,
          0,
          0,
          0,
          0,
          0,
          0,
          0,
          0,
          0,
          0,
          0,
          0,
          0,
          0,
          0,
          0,
          0,
          0,
          0,
          0,
          0,
          0,
          0,
          0,
          0,
          0,
          0,
          0,
          0,
          0,
          0,
          0,
          0,
          0,
          0,
          0,
          0,
          0,
          0,
          0,
          0,
          0,
          0,
          0,
          0,
          0,
          0,
          0,
          0,
          0,
          0,
          0,
          0,
          0,
          0,
          0,
          0,
          0,
          0,
          0,
          0,
          0,
          0,
          0,
          0,
          0,
          0,
          0,
          0,
          0,
          0,
          0,
          0,
          0,
          0,
          0,
          0,
          0,
          0,
          5,
          1,
          0,
          0,
          0,
          0,
          0,
          0,
          0,
          0,
          0,
          0,
          0,
          0,
          0,
          0,
          0,
          0,
          0,
          0,
          0,
          0,
          0,
          0,
          0,
          0,
          0,
          0,
          0,
          0,
          0,
          0,
          0,
          0,
          0,
          0,
          0,
          0,
          0,
          0,
          0,
          0,
          0,
          0,
          0,
          0,
          0,
          0,
          0,
          0,
          0,
          0,
          0,
          0,
          0,
          0,
          0,
          0,
          0,
          0,
          0,
          0,
          0,
          0,
          0,
          0,
          0,
          0,
          0,
          0,
          0,
          0,
          0,
          0,
          0,
          0,
          0,
          0,
          0,
          0,
          0,
          0,
          0,
          0,
          0,
          0,
          0,
          0,
          0,
          0,
          0,
          0,
          0,
          0,
          0,
          0,
          0,
          0,
          0,
          0,
          0,
          0,
          0,
          0,
          0,
          0,
          0,
          0,
          0,
          0,
          0,
          0,
          0,
          0,
          0,
          0,
          0,
          0,
          0,
          0,
          0,
          0,
          0,
          0,
          0,
          0,
          0,
          0,
          0,
          0,
          0,
          0,
          0,
          0,
          0,
          0,
          0,
          0,
          0,
          0,
          0,
          0,
          0,
          0,
          0,
          0,
          0,
          0,
          0,
          0,
          0,
          0,
          0,
          0,
          0,
          0,
          0,
          0,
          0,
          0,
          0,
          0,
          0,
          0,
          0,
          0,
          0,
          0,
          0,
          0,
          0,
          0,
          0,
          0,
          0,
          0,
          0,
          0,
          0,
          0,
          0,
          0,
          0,
          0,
          0,
          0,
          0,
          0,
          0,
          0,
          0,
          0,
          0,
          0,
          0,
          0,
          0,
          0,
          0,
          0,
          1,
          0,
          0,
          0,
          0,
          0,
          0,
          0,
          0,
          0,
          0,
          0,
          0,
          0,
          0,
          0,
          0,
          0,
          0,
          0,
          0,
          0,
          0,
          0,
          0,
          0,
          0,
          0,
          0,
          0,
          0,
          0,
          0,
          0,
          0,
          0,
          0,
          0,
          0,
          0,
          0,
          0,
          0,
          0,
          0,
          0,
          0,
          0,
          0,
          0,
          0,
          0,
          0,
          0,
          0,
          0,
          0,
          0,
          0,
          0,
          0,
          0,
          0,
          0,
          0,
          0,
          0,
          0,
          0,
          0,
          0,
          0,
          0,
          0,
          0,
          0,
          0,
          0,
          0,
          0,
          0,
          0,
          0,
          0,
          0,
          0,
          0,
          0,
          0,
          0,
          0,
          0,
          0,
          0,
          0,
          0,
          0,
          0,
          0,
          0,
          0,
          0,
          0,
          0,
          0,
          0,
          0,
          0,
          0,
          0,
          0,
          0,
          0,
          0,
          0,
          0,
          0,
          0,
          0,
          0,
          0,
          0,
          0,
          0,
          0,
          0,
          0,
          0,
          0,
          0,
          0,
          0,
          0,
          0,
          0,
          0,
          0,
          0,
          0,
          0,
          0,
          0,
          0,
          0,
          0,
          0,
          0,
          0,
          0,
          0,
          1,
          0,
          0,
          0,
          0,
          0,
          0,
          0,
          0,
          0,
          0,
          0,
          0,
          0,
          0,
          0,
          0,
          0,
          0,
          0,
          0,
          0,
          0,
          0,
          0,
          0,
          0,
          0,
          0,
          0,
          0,
          0,
          0,
          0,
          0,
          0,
          0,
          0,
          0,
          0,
          0,
          0,
          0,
          0,
          0,
          0,
          0,
          0,
          0,
          0,
          0,
          0,
          0,
          0,
          1,
          1,
          0,
          0,
          0,
          0,
          0,
          0,
          0,
          1,
          0,
          0,
          0,
          0,
          0,
          0,
          0,
          0,
          0,
          0,
          0,
          0,
          0,
          0,
          0,
          0,
          0,
          0,
          0,
          0,
          0,
          0,
          0,
          0,
          1,
          1,
          0,
          0,
          0,
          0,
          0
         ],
         "y0": " ",
         "yaxis": "y"
        }
       ],
       "layout": {
        "boxmode": "group",
        "legend": {
         "tracegroupgap": 0
        },
        "margin": {
         "t": 60
        },
        "template": {
         "data": {
          "bar": [
           {
            "error_x": {
             "color": "#2a3f5f"
            },
            "error_y": {
             "color": "#2a3f5f"
            },
            "marker": {
             "line": {
              "color": "#E5ECF6",
              "width": 0.5
             },
             "pattern": {
              "fillmode": "overlay",
              "size": 10,
              "solidity": 0.2
             }
            },
            "type": "bar"
           }
          ],
          "barpolar": [
           {
            "marker": {
             "line": {
              "color": "#E5ECF6",
              "width": 0.5
             },
             "pattern": {
              "fillmode": "overlay",
              "size": 10,
              "solidity": 0.2
             }
            },
            "type": "barpolar"
           }
          ],
          "carpet": [
           {
            "aaxis": {
             "endlinecolor": "#2a3f5f",
             "gridcolor": "white",
             "linecolor": "white",
             "minorgridcolor": "white",
             "startlinecolor": "#2a3f5f"
            },
            "baxis": {
             "endlinecolor": "#2a3f5f",
             "gridcolor": "white",
             "linecolor": "white",
             "minorgridcolor": "white",
             "startlinecolor": "#2a3f5f"
            },
            "type": "carpet"
           }
          ],
          "choropleth": [
           {
            "colorbar": {
             "outlinewidth": 0,
             "ticks": ""
            },
            "type": "choropleth"
           }
          ],
          "contour": [
           {
            "colorbar": {
             "outlinewidth": 0,
             "ticks": ""
            },
            "colorscale": [
             [
              0,
              "#0d0887"
             ],
             [
              0.1111111111111111,
              "#46039f"
             ],
             [
              0.2222222222222222,
              "#7201a8"
             ],
             [
              0.3333333333333333,
              "#9c179e"
             ],
             [
              0.4444444444444444,
              "#bd3786"
             ],
             [
              0.5555555555555556,
              "#d8576b"
             ],
             [
              0.6666666666666666,
              "#ed7953"
             ],
             [
              0.7777777777777778,
              "#fb9f3a"
             ],
             [
              0.8888888888888888,
              "#fdca26"
             ],
             [
              1,
              "#f0f921"
             ]
            ],
            "type": "contour"
           }
          ],
          "contourcarpet": [
           {
            "colorbar": {
             "outlinewidth": 0,
             "ticks": ""
            },
            "type": "contourcarpet"
           }
          ],
          "heatmap": [
           {
            "colorbar": {
             "outlinewidth": 0,
             "ticks": ""
            },
            "colorscale": [
             [
              0,
              "#0d0887"
             ],
             [
              0.1111111111111111,
              "#46039f"
             ],
             [
              0.2222222222222222,
              "#7201a8"
             ],
             [
              0.3333333333333333,
              "#9c179e"
             ],
             [
              0.4444444444444444,
              "#bd3786"
             ],
             [
              0.5555555555555556,
              "#d8576b"
             ],
             [
              0.6666666666666666,
              "#ed7953"
             ],
             [
              0.7777777777777778,
              "#fb9f3a"
             ],
             [
              0.8888888888888888,
              "#fdca26"
             ],
             [
              1,
              "#f0f921"
             ]
            ],
            "type": "heatmap"
           }
          ],
          "heatmapgl": [
           {
            "colorbar": {
             "outlinewidth": 0,
             "ticks": ""
            },
            "colorscale": [
             [
              0,
              "#0d0887"
             ],
             [
              0.1111111111111111,
              "#46039f"
             ],
             [
              0.2222222222222222,
              "#7201a8"
             ],
             [
              0.3333333333333333,
              "#9c179e"
             ],
             [
              0.4444444444444444,
              "#bd3786"
             ],
             [
              0.5555555555555556,
              "#d8576b"
             ],
             [
              0.6666666666666666,
              "#ed7953"
             ],
             [
              0.7777777777777778,
              "#fb9f3a"
             ],
             [
              0.8888888888888888,
              "#fdca26"
             ],
             [
              1,
              "#f0f921"
             ]
            ],
            "type": "heatmapgl"
           }
          ],
          "histogram": [
           {
            "marker": {
             "pattern": {
              "fillmode": "overlay",
              "size": 10,
              "solidity": 0.2
             }
            },
            "type": "histogram"
           }
          ],
          "histogram2d": [
           {
            "colorbar": {
             "outlinewidth": 0,
             "ticks": ""
            },
            "colorscale": [
             [
              0,
              "#0d0887"
             ],
             [
              0.1111111111111111,
              "#46039f"
             ],
             [
              0.2222222222222222,
              "#7201a8"
             ],
             [
              0.3333333333333333,
              "#9c179e"
             ],
             [
              0.4444444444444444,
              "#bd3786"
             ],
             [
              0.5555555555555556,
              "#d8576b"
             ],
             [
              0.6666666666666666,
              "#ed7953"
             ],
             [
              0.7777777777777778,
              "#fb9f3a"
             ],
             [
              0.8888888888888888,
              "#fdca26"
             ],
             [
              1,
              "#f0f921"
             ]
            ],
            "type": "histogram2d"
           }
          ],
          "histogram2dcontour": [
           {
            "colorbar": {
             "outlinewidth": 0,
             "ticks": ""
            },
            "colorscale": [
             [
              0,
              "#0d0887"
             ],
             [
              0.1111111111111111,
              "#46039f"
             ],
             [
              0.2222222222222222,
              "#7201a8"
             ],
             [
              0.3333333333333333,
              "#9c179e"
             ],
             [
              0.4444444444444444,
              "#bd3786"
             ],
             [
              0.5555555555555556,
              "#d8576b"
             ],
             [
              0.6666666666666666,
              "#ed7953"
             ],
             [
              0.7777777777777778,
              "#fb9f3a"
             ],
             [
              0.8888888888888888,
              "#fdca26"
             ],
             [
              1,
              "#f0f921"
             ]
            ],
            "type": "histogram2dcontour"
           }
          ],
          "mesh3d": [
           {
            "colorbar": {
             "outlinewidth": 0,
             "ticks": ""
            },
            "type": "mesh3d"
           }
          ],
          "parcoords": [
           {
            "line": {
             "colorbar": {
              "outlinewidth": 0,
              "ticks": ""
             }
            },
            "type": "parcoords"
           }
          ],
          "pie": [
           {
            "automargin": true,
            "type": "pie"
           }
          ],
          "scatter": [
           {
            "fillpattern": {
             "fillmode": "overlay",
             "size": 10,
             "solidity": 0.2
            },
            "type": "scatter"
           }
          ],
          "scatter3d": [
           {
            "line": {
             "colorbar": {
              "outlinewidth": 0,
              "ticks": ""
             }
            },
            "marker": {
             "colorbar": {
              "outlinewidth": 0,
              "ticks": ""
             }
            },
            "type": "scatter3d"
           }
          ],
          "scattercarpet": [
           {
            "marker": {
             "colorbar": {
              "outlinewidth": 0,
              "ticks": ""
             }
            },
            "type": "scattercarpet"
           }
          ],
          "scattergeo": [
           {
            "marker": {
             "colorbar": {
              "outlinewidth": 0,
              "ticks": ""
             }
            },
            "type": "scattergeo"
           }
          ],
          "scattergl": [
           {
            "marker": {
             "colorbar": {
              "outlinewidth": 0,
              "ticks": ""
             }
            },
            "type": "scattergl"
           }
          ],
          "scattermapbox": [
           {
            "marker": {
             "colorbar": {
              "outlinewidth": 0,
              "ticks": ""
             }
            },
            "type": "scattermapbox"
           }
          ],
          "scatterpolar": [
           {
            "marker": {
             "colorbar": {
              "outlinewidth": 0,
              "ticks": ""
             }
            },
            "type": "scatterpolar"
           }
          ],
          "scatterpolargl": [
           {
            "marker": {
             "colorbar": {
              "outlinewidth": 0,
              "ticks": ""
             }
            },
            "type": "scatterpolargl"
           }
          ],
          "scatterternary": [
           {
            "marker": {
             "colorbar": {
              "outlinewidth": 0,
              "ticks": ""
             }
            },
            "type": "scatterternary"
           }
          ],
          "surface": [
           {
            "colorbar": {
             "outlinewidth": 0,
             "ticks": ""
            },
            "colorscale": [
             [
              0,
              "#0d0887"
             ],
             [
              0.1111111111111111,
              "#46039f"
             ],
             [
              0.2222222222222222,
              "#7201a8"
             ],
             [
              0.3333333333333333,
              "#9c179e"
             ],
             [
              0.4444444444444444,
              "#bd3786"
             ],
             [
              0.5555555555555556,
              "#d8576b"
             ],
             [
              0.6666666666666666,
              "#ed7953"
             ],
             [
              0.7777777777777778,
              "#fb9f3a"
             ],
             [
              0.8888888888888888,
              "#fdca26"
             ],
             [
              1,
              "#f0f921"
             ]
            ],
            "type": "surface"
           }
          ],
          "table": [
           {
            "cells": {
             "fill": {
              "color": "#EBF0F8"
             },
             "line": {
              "color": "white"
             }
            },
            "header": {
             "fill": {
              "color": "#C8D4E3"
             },
             "line": {
              "color": "white"
             }
            },
            "type": "table"
           }
          ]
         },
         "layout": {
          "annotationdefaults": {
           "arrowcolor": "#2a3f5f",
           "arrowhead": 0,
           "arrowwidth": 1
          },
          "autotypenumbers": "strict",
          "coloraxis": {
           "colorbar": {
            "outlinewidth": 0,
            "ticks": ""
           }
          },
          "colorscale": {
           "diverging": [
            [
             0,
             "#8e0152"
            ],
            [
             0.1,
             "#c51b7d"
            ],
            [
             0.2,
             "#de77ae"
            ],
            [
             0.3,
             "#f1b6da"
            ],
            [
             0.4,
             "#fde0ef"
            ],
            [
             0.5,
             "#f7f7f7"
            ],
            [
             0.6,
             "#e6f5d0"
            ],
            [
             0.7,
             "#b8e186"
            ],
            [
             0.8,
             "#7fbc41"
            ],
            [
             0.9,
             "#4d9221"
            ],
            [
             1,
             "#276419"
            ]
           ],
           "sequential": [
            [
             0,
             "#0d0887"
            ],
            [
             0.1111111111111111,
             "#46039f"
            ],
            [
             0.2222222222222222,
             "#7201a8"
            ],
            [
             0.3333333333333333,
             "#9c179e"
            ],
            [
             0.4444444444444444,
             "#bd3786"
            ],
            [
             0.5555555555555556,
             "#d8576b"
            ],
            [
             0.6666666666666666,
             "#ed7953"
            ],
            [
             0.7777777777777778,
             "#fb9f3a"
            ],
            [
             0.8888888888888888,
             "#fdca26"
            ],
            [
             1,
             "#f0f921"
            ]
           ],
           "sequentialminus": [
            [
             0,
             "#0d0887"
            ],
            [
             0.1111111111111111,
             "#46039f"
            ],
            [
             0.2222222222222222,
             "#7201a8"
            ],
            [
             0.3333333333333333,
             "#9c179e"
            ],
            [
             0.4444444444444444,
             "#bd3786"
            ],
            [
             0.5555555555555556,
             "#d8576b"
            ],
            [
             0.6666666666666666,
             "#ed7953"
            ],
            [
             0.7777777777777778,
             "#fb9f3a"
            ],
            [
             0.8888888888888888,
             "#fdca26"
            ],
            [
             1,
             "#f0f921"
            ]
           ]
          },
          "colorway": [
           "#636efa",
           "#EF553B",
           "#00cc96",
           "#ab63fa",
           "#FFA15A",
           "#19d3f3",
           "#FF6692",
           "#B6E880",
           "#FF97FF",
           "#FECB52"
          ],
          "font": {
           "color": "#2a3f5f"
          },
          "geo": {
           "bgcolor": "white",
           "lakecolor": "white",
           "landcolor": "#E5ECF6",
           "showlakes": true,
           "showland": true,
           "subunitcolor": "white"
          },
          "hoverlabel": {
           "align": "left"
          },
          "hovermode": "closest",
          "mapbox": {
           "style": "light"
          },
          "paper_bgcolor": "white",
          "plot_bgcolor": "#E5ECF6",
          "polar": {
           "angularaxis": {
            "gridcolor": "white",
            "linecolor": "white",
            "ticks": ""
           },
           "bgcolor": "#E5ECF6",
           "radialaxis": {
            "gridcolor": "white",
            "linecolor": "white",
            "ticks": ""
           }
          },
          "scene": {
           "xaxis": {
            "backgroundcolor": "#E5ECF6",
            "gridcolor": "white",
            "gridwidth": 2,
            "linecolor": "white",
            "showbackground": true,
            "ticks": "",
            "zerolinecolor": "white"
           },
           "yaxis": {
            "backgroundcolor": "#E5ECF6",
            "gridcolor": "white",
            "gridwidth": 2,
            "linecolor": "white",
            "showbackground": true,
            "ticks": "",
            "zerolinecolor": "white"
           },
           "zaxis": {
            "backgroundcolor": "#E5ECF6",
            "gridcolor": "white",
            "gridwidth": 2,
            "linecolor": "white",
            "showbackground": true,
            "ticks": "",
            "zerolinecolor": "white"
           }
          },
          "shapedefaults": {
           "line": {
            "color": "#2a3f5f"
           }
          },
          "ternary": {
           "aaxis": {
            "gridcolor": "white",
            "linecolor": "white",
            "ticks": ""
           },
           "baxis": {
            "gridcolor": "white",
            "linecolor": "white",
            "ticks": ""
           },
           "bgcolor": "#E5ECF6",
           "caxis": {
            "gridcolor": "white",
            "linecolor": "white",
            "ticks": ""
           }
          },
          "title": {
           "x": 0.05
          },
          "xaxis": {
           "automargin": true,
           "gridcolor": "white",
           "linecolor": "white",
           "ticks": "",
           "title": {
            "standoff": 15
           },
           "zerolinecolor": "white",
           "zerolinewidth": 2
          },
          "yaxis": {
           "automargin": true,
           "gridcolor": "white",
           "linecolor": "white",
           "ticks": "",
           "title": {
            "standoff": 15
           },
           "zerolinecolor": "white",
           "zerolinewidth": 2
          }
         }
        },
        "xaxis": {
         "anchor": "y",
         "domain": [
          0,
          1
         ],
         "title": {
          "text": "variable"
         }
        },
        "yaxis": {
         "anchor": "x",
         "domain": [
          0,
          1
         ],
         "title": {
          "text": "value"
         }
        }
       }
      }
     },
     "metadata": {},
     "output_type": "display_data"
    }
   ],
   "source": [
    "bplt = df[['Salary', 'exper', 'total_positions', 'open_positions']]\n",
    "fig = px.box(df['open_positions'])\n",
    "fig.show()"
   ]
  },
  {
   "cell_type": "code",
   "execution_count": 42,
   "id": "9c8e3211",
   "metadata": {},
   "outputs": [
    {
     "data": {
      "application/vnd.plotly.v1+json": {
       "config": {
        "plotlyServerURL": "https://plot.ly"
       },
       "data": [
        {
         "alignmentgroup": "True",
         "hovertemplate": "variable=%{x}<br>value=%{y}<extra></extra>",
         "legendgroup": "",
         "marker": {
          "color": "#636efa"
         },
         "name": "",
         "notched": false,
         "offsetgroup": "",
         "orientation": "v",
         "showlegend": false,
         "type": "box",
         "x": [
          "total_positions",
          "total_positions",
          "total_positions",
          "total_positions",
          "total_positions",
          "total_positions",
          "total_positions",
          "total_positions",
          "total_positions",
          "total_positions",
          "total_positions",
          "total_positions",
          "total_positions",
          "total_positions",
          "total_positions",
          "total_positions",
          "total_positions",
          "total_positions",
          "total_positions",
          "total_positions",
          "total_positions",
          "total_positions",
          "total_positions",
          "total_positions",
          "total_positions",
          "total_positions",
          "total_positions",
          "total_positions",
          "total_positions",
          "total_positions",
          "total_positions",
          "total_positions",
          "total_positions",
          "total_positions",
          "total_positions",
          "total_positions",
          "total_positions",
          "total_positions",
          "total_positions",
          "total_positions",
          "total_positions",
          "total_positions",
          "total_positions",
          "total_positions",
          "total_positions",
          "total_positions",
          "total_positions",
          "total_positions",
          "total_positions",
          "total_positions",
          "total_positions",
          "total_positions",
          "total_positions",
          "total_positions",
          "total_positions",
          "total_positions",
          "total_positions",
          "total_positions",
          "total_positions",
          "total_positions",
          "total_positions",
          "total_positions",
          "total_positions",
          "total_positions",
          "total_positions",
          "total_positions",
          "total_positions",
          "total_positions",
          "total_positions",
          "total_positions",
          "total_positions",
          "total_positions",
          "total_positions",
          "total_positions",
          "total_positions",
          "total_positions",
          "total_positions",
          "total_positions",
          "total_positions",
          "total_positions",
          "total_positions",
          "total_positions",
          "total_positions",
          "total_positions",
          "total_positions",
          "total_positions",
          "total_positions",
          "total_positions",
          "total_positions",
          "total_positions",
          "total_positions",
          "total_positions",
          "total_positions",
          "total_positions",
          "total_positions",
          "total_positions",
          "total_positions",
          "total_positions",
          "total_positions",
          "total_positions",
          "total_positions",
          "total_positions",
          "total_positions",
          "total_positions",
          "total_positions",
          "total_positions",
          "total_positions",
          "total_positions",
          "total_positions",
          "total_positions",
          "total_positions",
          "total_positions",
          "total_positions",
          "total_positions",
          "total_positions",
          "total_positions",
          "total_positions",
          "total_positions",
          "total_positions",
          "total_positions",
          "total_positions",
          "total_positions",
          "total_positions",
          "total_positions",
          "total_positions",
          "total_positions",
          "total_positions",
          "total_positions",
          "total_positions",
          "total_positions",
          "total_positions",
          "total_positions",
          "total_positions",
          "total_positions",
          "total_positions",
          "total_positions",
          "total_positions",
          "total_positions",
          "total_positions",
          "total_positions",
          "total_positions",
          "total_positions",
          "total_positions",
          "total_positions",
          "total_positions",
          "total_positions",
          "total_positions",
          "total_positions",
          "total_positions",
          "total_positions",
          "total_positions",
          "total_positions",
          "total_positions",
          "total_positions",
          "total_positions",
          "total_positions",
          "total_positions",
          "total_positions",
          "total_positions",
          "total_positions",
          "total_positions",
          "total_positions",
          "total_positions",
          "total_positions",
          "total_positions",
          "total_positions",
          "total_positions",
          "total_positions",
          "total_positions",
          "total_positions",
          "total_positions",
          "total_positions",
          "total_positions",
          "total_positions",
          "total_positions",
          "total_positions",
          "total_positions",
          "total_positions",
          "total_positions",
          "total_positions",
          "total_positions",
          "total_positions",
          "total_positions",
          "total_positions",
          "total_positions",
          "total_positions",
          "total_positions",
          "total_positions",
          "total_positions",
          "total_positions",
          "total_positions",
          "total_positions",
          "total_positions",
          "total_positions",
          "total_positions",
          "total_positions",
          "total_positions",
          "total_positions",
          "total_positions",
          "total_positions",
          "total_positions",
          "total_positions",
          "total_positions",
          "total_positions",
          "total_positions",
          "total_positions",
          "total_positions",
          "total_positions",
          "total_positions",
          "total_positions",
          "total_positions",
          "total_positions",
          "total_positions",
          "total_positions",
          "total_positions",
          "total_positions",
          "total_positions",
          "total_positions",
          "total_positions",
          "total_positions",
          "total_positions",
          "total_positions",
          "total_positions",
          "total_positions",
          "total_positions",
          "total_positions",
          "total_positions",
          "total_positions",
          "total_positions",
          "total_positions",
          "total_positions",
          "total_positions",
          "total_positions",
          "total_positions",
          "total_positions",
          "total_positions",
          "total_positions",
          "total_positions",
          "total_positions",
          "total_positions",
          "total_positions",
          "total_positions",
          "total_positions",
          "total_positions",
          "total_positions",
          "total_positions",
          "total_positions",
          "total_positions",
          "total_positions",
          "total_positions",
          "total_positions",
          "total_positions",
          "total_positions",
          "total_positions",
          "total_positions",
          "total_positions",
          "total_positions",
          "total_positions",
          "total_positions",
          "total_positions",
          "total_positions",
          "total_positions",
          "total_positions",
          "total_positions",
          "total_positions",
          "total_positions",
          "total_positions",
          "total_positions",
          "total_positions",
          "total_positions",
          "total_positions",
          "total_positions",
          "total_positions",
          "total_positions",
          "total_positions",
          "total_positions",
          "total_positions",
          "total_positions",
          "total_positions",
          "total_positions",
          "total_positions",
          "total_positions",
          "total_positions",
          "total_positions",
          "total_positions",
          "total_positions",
          "total_positions",
          "total_positions",
          "total_positions",
          "total_positions",
          "total_positions",
          "total_positions",
          "total_positions",
          "total_positions",
          "total_positions",
          "total_positions",
          "total_positions",
          "total_positions",
          "total_positions",
          "total_positions",
          "total_positions",
          "total_positions",
          "total_positions",
          "total_positions",
          "total_positions",
          "total_positions",
          "total_positions",
          "total_positions",
          "total_positions",
          "total_positions",
          "total_positions",
          "total_positions",
          "total_positions",
          "total_positions",
          "total_positions",
          "total_positions",
          "total_positions",
          "total_positions",
          "total_positions",
          "total_positions",
          "total_positions",
          "total_positions",
          "total_positions",
          "total_positions",
          "total_positions",
          "total_positions",
          "total_positions",
          "total_positions",
          "total_positions",
          "total_positions",
          "total_positions",
          "total_positions",
          "total_positions",
          "total_positions",
          "total_positions",
          "total_positions",
          "total_positions",
          "total_positions",
          "total_positions",
          "total_positions",
          "total_positions",
          "total_positions",
          "total_positions",
          "total_positions",
          "total_positions",
          "total_positions",
          "total_positions",
          "total_positions",
          "total_positions",
          "total_positions",
          "total_positions",
          "total_positions",
          "total_positions",
          "total_positions",
          "total_positions",
          "total_positions",
          "total_positions",
          "total_positions",
          "total_positions",
          "total_positions",
          "total_positions",
          "total_positions",
          "total_positions",
          "total_positions",
          "total_positions",
          "total_positions",
          "total_positions",
          "total_positions",
          "total_positions",
          "total_positions",
          "total_positions",
          "total_positions",
          "total_positions",
          "total_positions",
          "total_positions",
          "total_positions",
          "total_positions",
          "total_positions",
          "total_positions",
          "total_positions",
          "total_positions",
          "total_positions",
          "total_positions",
          "total_positions",
          "total_positions",
          "total_positions",
          "total_positions",
          "total_positions",
          "total_positions",
          "total_positions",
          "total_positions",
          "total_positions",
          "total_positions",
          "total_positions",
          "total_positions",
          "total_positions",
          "total_positions",
          "total_positions",
          "total_positions",
          "total_positions",
          "total_positions",
          "total_positions",
          "total_positions",
          "total_positions",
          "total_positions",
          "total_positions",
          "total_positions",
          "total_positions",
          "total_positions",
          "total_positions",
          "total_positions",
          "total_positions",
          "total_positions",
          "total_positions",
          "total_positions",
          "total_positions",
          "total_positions",
          "total_positions",
          "total_positions",
          "total_positions",
          "total_positions",
          "total_positions",
          "total_positions",
          "total_positions",
          "total_positions",
          "total_positions",
          "total_positions",
          "total_positions",
          "total_positions",
          "total_positions",
          "total_positions",
          "total_positions",
          "total_positions",
          "total_positions",
          "total_positions",
          "total_positions",
          "total_positions",
          "total_positions",
          "total_positions",
          "total_positions",
          "total_positions",
          "total_positions",
          "total_positions",
          "total_positions",
          "total_positions",
          "total_positions",
          "total_positions",
          "total_positions",
          "total_positions",
          "total_positions",
          "total_positions",
          "total_positions",
          "total_positions",
          "total_positions",
          "total_positions",
          "total_positions",
          "total_positions",
          "total_positions",
          "total_positions",
          "total_positions",
          "total_positions",
          "total_positions",
          "total_positions",
          "total_positions",
          "total_positions",
          "total_positions",
          "total_positions",
          "total_positions",
          "total_positions",
          "total_positions",
          "total_positions",
          "total_positions",
          "total_positions",
          "total_positions",
          "total_positions",
          "total_positions",
          "total_positions",
          "total_positions",
          "total_positions",
          "total_positions",
          "total_positions",
          "total_positions",
          "total_positions",
          "total_positions",
          "total_positions",
          "total_positions",
          "total_positions",
          "total_positions",
          "total_positions",
          "total_positions",
          "total_positions",
          "total_positions",
          "total_positions",
          "total_positions",
          "total_positions",
          "total_positions",
          "total_positions",
          "total_positions",
          "total_positions",
          "total_positions",
          "total_positions",
          "total_positions",
          "total_positions",
          "total_positions",
          "total_positions",
          "total_positions",
          "total_positions",
          "total_positions",
          "total_positions",
          "total_positions",
          "total_positions",
          "total_positions",
          "total_positions",
          "total_positions",
          "total_positions",
          "total_positions",
          "total_positions",
          "total_positions",
          "total_positions",
          "total_positions",
          "total_positions",
          "total_positions",
          "total_positions",
          "total_positions",
          "total_positions",
          "total_positions",
          "total_positions",
          "total_positions",
          "total_positions",
          "total_positions",
          "total_positions",
          "total_positions",
          "total_positions",
          "total_positions",
          "total_positions",
          "total_positions",
          "total_positions",
          "total_positions",
          "total_positions",
          "total_positions",
          "total_positions",
          "total_positions",
          "total_positions",
          "total_positions",
          "total_positions",
          "total_positions",
          "total_positions",
          "total_positions",
          "total_positions",
          "total_positions",
          "total_positions",
          "total_positions",
          "total_positions",
          "total_positions",
          "total_positions",
          "total_positions",
          "total_positions",
          "total_positions",
          "total_positions",
          "total_positions",
          "total_positions",
          "total_positions",
          "total_positions",
          "total_positions",
          "total_positions",
          "total_positions",
          "total_positions",
          "total_positions",
          "total_positions",
          "total_positions",
          "total_positions",
          "total_positions",
          "total_positions",
          "total_positions",
          "total_positions",
          "total_positions",
          "total_positions",
          "total_positions",
          "total_positions",
          "total_positions",
          "total_positions",
          "total_positions",
          "total_positions",
          "total_positions",
          "total_positions",
          "total_positions",
          "total_positions",
          "total_positions",
          "total_positions",
          "total_positions",
          "total_positions",
          "total_positions",
          "total_positions",
          "total_positions",
          "total_positions",
          "total_positions",
          "total_positions",
          "total_positions",
          "total_positions",
          "total_positions",
          "total_positions",
          "total_positions",
          "total_positions",
          "total_positions",
          "total_positions",
          "total_positions",
          "total_positions",
          "total_positions",
          "total_positions",
          "total_positions",
          "total_positions",
          "total_positions",
          "total_positions",
          "total_positions",
          "total_positions",
          "total_positions",
          "total_positions",
          "total_positions",
          "total_positions",
          "total_positions",
          "total_positions",
          "total_positions",
          "total_positions",
          "total_positions",
          "total_positions",
          "total_positions",
          "total_positions",
          "total_positions",
          "total_positions",
          "total_positions",
          "total_positions",
          "total_positions",
          "total_positions",
          "total_positions",
          "total_positions",
          "total_positions",
          "total_positions",
          "total_positions",
          "total_positions",
          "total_positions",
          "total_positions",
          "total_positions",
          "total_positions",
          "total_positions",
          "total_positions",
          "total_positions",
          "total_positions",
          "total_positions",
          "total_positions",
          "total_positions",
          "total_positions",
          "total_positions",
          "total_positions",
          "total_positions",
          "total_positions",
          "total_positions",
          "total_positions",
          "total_positions",
          "total_positions",
          "total_positions",
          "total_positions",
          "total_positions",
          "total_positions",
          "total_positions",
          "total_positions",
          "total_positions",
          "total_positions",
          "total_positions",
          "total_positions",
          "total_positions",
          "total_positions",
          "total_positions",
          "total_positions",
          "total_positions",
          "total_positions",
          "total_positions",
          "total_positions",
          "total_positions",
          "total_positions",
          "total_positions",
          "total_positions",
          "total_positions",
          "total_positions",
          "total_positions",
          "total_positions",
          "total_positions",
          "total_positions",
          "total_positions",
          "total_positions",
          "total_positions",
          "total_positions",
          "total_positions",
          "total_positions",
          "total_positions",
          "total_positions",
          "total_positions",
          "total_positions",
          "total_positions",
          "total_positions",
          "total_positions",
          "total_positions",
          "total_positions"
         ],
         "x0": " ",
         "xaxis": "x",
         "y": [
          1,
          2,
          1,
          1,
          2,
          1,
          3,
          2,
          4,
          5,
          4,
          3,
          1,
          1,
          1,
          1,
          1,
          1,
          1,
          2,
          3,
          1,
          2,
          10,
          1,
          2,
          1,
          2,
          1,
          2,
          2,
          2,
          1,
          1,
          2,
          1,
          2,
          10,
          1,
          1,
          1,
          3,
          2,
          2,
          1,
          3,
          1,
          1,
          1,
          1,
          1,
          2,
          3,
          1,
          3,
          1,
          1,
          1,
          1,
          1,
          1,
          1,
          1,
          2,
          1,
          2,
          1,
          1,
          1,
          1,
          3,
          1,
          6,
          1,
          1,
          1,
          3,
          2,
          1,
          1,
          2,
          1,
          1,
          1,
          1,
          1,
          2,
          1,
          3,
          2,
          1,
          2,
          1,
          1,
          25,
          1,
          1,
          3,
          1,
          5,
          5,
          1,
          1,
          1,
          1,
          2,
          1,
          1,
          2,
          1,
          1,
          1,
          1,
          1,
          2,
          3,
          1,
          1,
          1,
          1,
          2,
          1,
          1,
          1,
          5,
          1,
          1,
          4,
          1,
          4,
          2,
          2,
          1,
          1,
          1,
          1,
          1,
          1,
          1,
          1,
          2,
          1,
          1,
          1,
          1,
          1,
          3,
          1,
          1,
          1,
          10,
          1,
          1,
          2,
          1,
          1,
          2,
          1,
          5,
          1,
          1,
          1,
          2,
          1,
          2,
          1,
          3,
          10,
          2,
          1,
          1,
          5,
          10,
          3,
          1,
          1,
          2,
          10,
          1,
          2,
          1,
          1,
          1,
          1,
          1,
          1,
          1,
          5,
          5,
          3,
          5,
          1,
          2,
          1,
          1,
          1,
          1,
          1,
          1,
          2,
          20,
          1,
          20,
          1,
          5,
          5,
          1,
          2,
          1,
          1,
          5,
          10,
          1,
          1,
          2,
          2,
          1,
          3,
          2,
          1,
          4,
          1,
          3,
          1,
          1,
          1,
          1,
          1,
          2,
          5,
          15,
          2,
          2,
          2,
          2,
          1,
          4,
          2,
          1,
          3,
          6,
          1,
          1,
          1,
          1,
          2,
          1,
          1,
          1,
          1,
          1,
          1,
          10,
          2,
          3,
          2,
          1,
          4,
          1,
          1,
          1,
          1,
          1,
          30,
          30,
          30,
          2,
          2,
          1,
          1,
          1,
          2,
          1,
          4,
          2,
          2,
          2,
          2,
          2,
          1,
          6,
          1,
          1,
          1,
          1,
          2,
          2,
          1,
          2,
          1,
          1,
          1,
          1,
          1,
          2,
          1,
          2,
          1,
          1,
          1,
          1,
          2,
          1,
          2,
          1,
          1,
          1,
          4,
          4,
          1,
          1,
          1,
          3,
          2,
          6,
          3,
          6,
          6,
          6,
          1,
          3,
          50,
          2,
          2,
          3,
          1,
          3,
          2,
          1,
          1,
          10,
          50,
          50,
          1,
          1,
          1,
          2,
          50,
          5,
          20,
          1,
          50,
          50,
          1,
          1,
          1,
          1,
          1,
          1,
          5,
          1,
          1,
          1,
          1,
          1,
          2,
          2,
          1,
          1,
          1,
          1,
          1,
          1,
          1,
          2,
          4,
          1,
          4,
          4,
          1,
          1,
          1,
          2,
          2,
          3,
          1,
          1,
          1,
          2,
          1,
          1,
          2,
          1,
          2,
          1,
          1,
          3,
          2,
          6,
          1,
          1,
          1,
          4,
          1,
          1,
          2,
          1,
          2,
          1,
          1,
          1,
          2,
          1,
          1,
          1,
          1,
          1,
          1,
          1,
          3,
          2,
          6,
          4,
          1,
          1,
          1,
          3,
          1,
          1,
          4,
          2,
          1,
          1,
          50,
          10,
          1,
          1,
          6,
          1,
          30,
          1,
          2,
          1,
          2,
          1,
          1,
          1,
          1,
          1,
          1,
          1,
          1,
          1,
          2,
          2,
          1,
          2,
          5,
          1,
          1,
          1,
          1,
          5,
          6,
          1,
          1,
          1,
          2,
          1,
          1,
          1,
          1,
          1,
          1,
          1,
          1,
          4,
          1,
          4,
          1,
          1,
          1,
          1,
          20,
          1,
          1,
          1,
          2,
          1,
          2,
          3,
          20,
          1,
          1,
          1,
          2,
          1,
          2,
          1,
          3,
          1,
          1,
          1,
          2,
          2,
          4,
          3,
          5,
          5,
          1,
          1,
          2,
          1,
          1,
          2,
          4,
          2,
          4,
          1,
          1,
          1,
          2,
          1,
          1,
          1,
          4,
          4,
          1,
          1,
          1,
          2,
          4,
          1,
          50,
          2,
          1,
          2,
          1,
          2,
          3,
          4,
          1,
          2,
          1,
          1,
          3,
          3,
          4,
          9,
          9,
          2,
          1,
          3,
          4,
          1,
          1,
          2,
          3,
          50,
          1,
          1,
          1,
          1,
          1,
          1,
          1,
          2,
          1,
          1,
          3,
          1,
          1,
          1,
          1,
          4,
          1,
          10,
          1,
          1,
          1,
          2,
          1,
          1,
          1,
          1,
          6,
          4,
          1,
          1,
          3,
          1,
          1,
          1,
          1,
          1,
          1,
          20,
          20,
          3,
          1,
          1,
          1,
          1,
          5,
          10,
          1,
          1,
          2,
          2,
          1,
          1,
          1,
          1,
          1,
          1,
          1,
          1,
          1,
          1,
          2,
          2,
          1,
          1,
          7,
          5,
          1,
          1,
          1,
          3,
          1,
          1,
          6,
          2,
          1,
          1,
          2,
          8,
          1,
          3,
          1,
          1,
          2,
          1,
          2,
          5,
          1,
          2,
          2,
          2,
          1,
          1,
          1,
          1,
          2,
          4,
          1,
          2,
          1,
          1,
          1,
          3,
          1,
          1,
          1,
          10,
          10,
          1,
          1,
          1,
          2,
          1,
          1,
          2,
          3,
          1,
          1,
          1,
          1,
          1,
          1,
          1,
          1,
          1,
          1,
          3,
          4,
          1,
          4,
          1,
          1,
          1,
          1,
          1,
          1,
          1,
          1,
          1,
          2,
          2,
          3,
          1,
          1,
          4,
          6,
          1,
          2,
          5,
          1,
          1,
          1,
          1,
          1
         ],
         "y0": " ",
         "yaxis": "y"
        }
       ],
       "layout": {
        "boxmode": "group",
        "legend": {
         "tracegroupgap": 0
        },
        "margin": {
         "t": 60
        },
        "template": {
         "data": {
          "bar": [
           {
            "error_x": {
             "color": "#2a3f5f"
            },
            "error_y": {
             "color": "#2a3f5f"
            },
            "marker": {
             "line": {
              "color": "#E5ECF6",
              "width": 0.5
             },
             "pattern": {
              "fillmode": "overlay",
              "size": 10,
              "solidity": 0.2
             }
            },
            "type": "bar"
           }
          ],
          "barpolar": [
           {
            "marker": {
             "line": {
              "color": "#E5ECF6",
              "width": 0.5
             },
             "pattern": {
              "fillmode": "overlay",
              "size": 10,
              "solidity": 0.2
             }
            },
            "type": "barpolar"
           }
          ],
          "carpet": [
           {
            "aaxis": {
             "endlinecolor": "#2a3f5f",
             "gridcolor": "white",
             "linecolor": "white",
             "minorgridcolor": "white",
             "startlinecolor": "#2a3f5f"
            },
            "baxis": {
             "endlinecolor": "#2a3f5f",
             "gridcolor": "white",
             "linecolor": "white",
             "minorgridcolor": "white",
             "startlinecolor": "#2a3f5f"
            },
            "type": "carpet"
           }
          ],
          "choropleth": [
           {
            "colorbar": {
             "outlinewidth": 0,
             "ticks": ""
            },
            "type": "choropleth"
           }
          ],
          "contour": [
           {
            "colorbar": {
             "outlinewidth": 0,
             "ticks": ""
            },
            "colorscale": [
             [
              0,
              "#0d0887"
             ],
             [
              0.1111111111111111,
              "#46039f"
             ],
             [
              0.2222222222222222,
              "#7201a8"
             ],
             [
              0.3333333333333333,
              "#9c179e"
             ],
             [
              0.4444444444444444,
              "#bd3786"
             ],
             [
              0.5555555555555556,
              "#d8576b"
             ],
             [
              0.6666666666666666,
              "#ed7953"
             ],
             [
              0.7777777777777778,
              "#fb9f3a"
             ],
             [
              0.8888888888888888,
              "#fdca26"
             ],
             [
              1,
              "#f0f921"
             ]
            ],
            "type": "contour"
           }
          ],
          "contourcarpet": [
           {
            "colorbar": {
             "outlinewidth": 0,
             "ticks": ""
            },
            "type": "contourcarpet"
           }
          ],
          "heatmap": [
           {
            "colorbar": {
             "outlinewidth": 0,
             "ticks": ""
            },
            "colorscale": [
             [
              0,
              "#0d0887"
             ],
             [
              0.1111111111111111,
              "#46039f"
             ],
             [
              0.2222222222222222,
              "#7201a8"
             ],
             [
              0.3333333333333333,
              "#9c179e"
             ],
             [
              0.4444444444444444,
              "#bd3786"
             ],
             [
              0.5555555555555556,
              "#d8576b"
             ],
             [
              0.6666666666666666,
              "#ed7953"
             ],
             [
              0.7777777777777778,
              "#fb9f3a"
             ],
             [
              0.8888888888888888,
              "#fdca26"
             ],
             [
              1,
              "#f0f921"
             ]
            ],
            "type": "heatmap"
           }
          ],
          "heatmapgl": [
           {
            "colorbar": {
             "outlinewidth": 0,
             "ticks": ""
            },
            "colorscale": [
             [
              0,
              "#0d0887"
             ],
             [
              0.1111111111111111,
              "#46039f"
             ],
             [
              0.2222222222222222,
              "#7201a8"
             ],
             [
              0.3333333333333333,
              "#9c179e"
             ],
             [
              0.4444444444444444,
              "#bd3786"
             ],
             [
              0.5555555555555556,
              "#d8576b"
             ],
             [
              0.6666666666666666,
              "#ed7953"
             ],
             [
              0.7777777777777778,
              "#fb9f3a"
             ],
             [
              0.8888888888888888,
              "#fdca26"
             ],
             [
              1,
              "#f0f921"
             ]
            ],
            "type": "heatmapgl"
           }
          ],
          "histogram": [
           {
            "marker": {
             "pattern": {
              "fillmode": "overlay",
              "size": 10,
              "solidity": 0.2
             }
            },
            "type": "histogram"
           }
          ],
          "histogram2d": [
           {
            "colorbar": {
             "outlinewidth": 0,
             "ticks": ""
            },
            "colorscale": [
             [
              0,
              "#0d0887"
             ],
             [
              0.1111111111111111,
              "#46039f"
             ],
             [
              0.2222222222222222,
              "#7201a8"
             ],
             [
              0.3333333333333333,
              "#9c179e"
             ],
             [
              0.4444444444444444,
              "#bd3786"
             ],
             [
              0.5555555555555556,
              "#d8576b"
             ],
             [
              0.6666666666666666,
              "#ed7953"
             ],
             [
              0.7777777777777778,
              "#fb9f3a"
             ],
             [
              0.8888888888888888,
              "#fdca26"
             ],
             [
              1,
              "#f0f921"
             ]
            ],
            "type": "histogram2d"
           }
          ],
          "histogram2dcontour": [
           {
            "colorbar": {
             "outlinewidth": 0,
             "ticks": ""
            },
            "colorscale": [
             [
              0,
              "#0d0887"
             ],
             [
              0.1111111111111111,
              "#46039f"
             ],
             [
              0.2222222222222222,
              "#7201a8"
             ],
             [
              0.3333333333333333,
              "#9c179e"
             ],
             [
              0.4444444444444444,
              "#bd3786"
             ],
             [
              0.5555555555555556,
              "#d8576b"
             ],
             [
              0.6666666666666666,
              "#ed7953"
             ],
             [
              0.7777777777777778,
              "#fb9f3a"
             ],
             [
              0.8888888888888888,
              "#fdca26"
             ],
             [
              1,
              "#f0f921"
             ]
            ],
            "type": "histogram2dcontour"
           }
          ],
          "mesh3d": [
           {
            "colorbar": {
             "outlinewidth": 0,
             "ticks": ""
            },
            "type": "mesh3d"
           }
          ],
          "parcoords": [
           {
            "line": {
             "colorbar": {
              "outlinewidth": 0,
              "ticks": ""
             }
            },
            "type": "parcoords"
           }
          ],
          "pie": [
           {
            "automargin": true,
            "type": "pie"
           }
          ],
          "scatter": [
           {
            "fillpattern": {
             "fillmode": "overlay",
             "size": 10,
             "solidity": 0.2
            },
            "type": "scatter"
           }
          ],
          "scatter3d": [
           {
            "line": {
             "colorbar": {
              "outlinewidth": 0,
              "ticks": ""
             }
            },
            "marker": {
             "colorbar": {
              "outlinewidth": 0,
              "ticks": ""
             }
            },
            "type": "scatter3d"
           }
          ],
          "scattercarpet": [
           {
            "marker": {
             "colorbar": {
              "outlinewidth": 0,
              "ticks": ""
             }
            },
            "type": "scattercarpet"
           }
          ],
          "scattergeo": [
           {
            "marker": {
             "colorbar": {
              "outlinewidth": 0,
              "ticks": ""
             }
            },
            "type": "scattergeo"
           }
          ],
          "scattergl": [
           {
            "marker": {
             "colorbar": {
              "outlinewidth": 0,
              "ticks": ""
             }
            },
            "type": "scattergl"
           }
          ],
          "scattermapbox": [
           {
            "marker": {
             "colorbar": {
              "outlinewidth": 0,
              "ticks": ""
             }
            },
            "type": "scattermapbox"
           }
          ],
          "scatterpolar": [
           {
            "marker": {
             "colorbar": {
              "outlinewidth": 0,
              "ticks": ""
             }
            },
            "type": "scatterpolar"
           }
          ],
          "scatterpolargl": [
           {
            "marker": {
             "colorbar": {
              "outlinewidth": 0,
              "ticks": ""
             }
            },
            "type": "scatterpolargl"
           }
          ],
          "scatterternary": [
           {
            "marker": {
             "colorbar": {
              "outlinewidth": 0,
              "ticks": ""
             }
            },
            "type": "scatterternary"
           }
          ],
          "surface": [
           {
            "colorbar": {
             "outlinewidth": 0,
             "ticks": ""
            },
            "colorscale": [
             [
              0,
              "#0d0887"
             ],
             [
              0.1111111111111111,
              "#46039f"
             ],
             [
              0.2222222222222222,
              "#7201a8"
             ],
             [
              0.3333333333333333,
              "#9c179e"
             ],
             [
              0.4444444444444444,
              "#bd3786"
             ],
             [
              0.5555555555555556,
              "#d8576b"
             ],
             [
              0.6666666666666666,
              "#ed7953"
             ],
             [
              0.7777777777777778,
              "#fb9f3a"
             ],
             [
              0.8888888888888888,
              "#fdca26"
             ],
             [
              1,
              "#f0f921"
             ]
            ],
            "type": "surface"
           }
          ],
          "table": [
           {
            "cells": {
             "fill": {
              "color": "#EBF0F8"
             },
             "line": {
              "color": "white"
             }
            },
            "header": {
             "fill": {
              "color": "#C8D4E3"
             },
             "line": {
              "color": "white"
             }
            },
            "type": "table"
           }
          ]
         },
         "layout": {
          "annotationdefaults": {
           "arrowcolor": "#2a3f5f",
           "arrowhead": 0,
           "arrowwidth": 1
          },
          "autotypenumbers": "strict",
          "coloraxis": {
           "colorbar": {
            "outlinewidth": 0,
            "ticks": ""
           }
          },
          "colorscale": {
           "diverging": [
            [
             0,
             "#8e0152"
            ],
            [
             0.1,
             "#c51b7d"
            ],
            [
             0.2,
             "#de77ae"
            ],
            [
             0.3,
             "#f1b6da"
            ],
            [
             0.4,
             "#fde0ef"
            ],
            [
             0.5,
             "#f7f7f7"
            ],
            [
             0.6,
             "#e6f5d0"
            ],
            [
             0.7,
             "#b8e186"
            ],
            [
             0.8,
             "#7fbc41"
            ],
            [
             0.9,
             "#4d9221"
            ],
            [
             1,
             "#276419"
            ]
           ],
           "sequential": [
            [
             0,
             "#0d0887"
            ],
            [
             0.1111111111111111,
             "#46039f"
            ],
            [
             0.2222222222222222,
             "#7201a8"
            ],
            [
             0.3333333333333333,
             "#9c179e"
            ],
            [
             0.4444444444444444,
             "#bd3786"
            ],
            [
             0.5555555555555556,
             "#d8576b"
            ],
            [
             0.6666666666666666,
             "#ed7953"
            ],
            [
             0.7777777777777778,
             "#fb9f3a"
            ],
            [
             0.8888888888888888,
             "#fdca26"
            ],
            [
             1,
             "#f0f921"
            ]
           ],
           "sequentialminus": [
            [
             0,
             "#0d0887"
            ],
            [
             0.1111111111111111,
             "#46039f"
            ],
            [
             0.2222222222222222,
             "#7201a8"
            ],
            [
             0.3333333333333333,
             "#9c179e"
            ],
            [
             0.4444444444444444,
             "#bd3786"
            ],
            [
             0.5555555555555556,
             "#d8576b"
            ],
            [
             0.6666666666666666,
             "#ed7953"
            ],
            [
             0.7777777777777778,
             "#fb9f3a"
            ],
            [
             0.8888888888888888,
             "#fdca26"
            ],
            [
             1,
             "#f0f921"
            ]
           ]
          },
          "colorway": [
           "#636efa",
           "#EF553B",
           "#00cc96",
           "#ab63fa",
           "#FFA15A",
           "#19d3f3",
           "#FF6692",
           "#B6E880",
           "#FF97FF",
           "#FECB52"
          ],
          "font": {
           "color": "#2a3f5f"
          },
          "geo": {
           "bgcolor": "white",
           "lakecolor": "white",
           "landcolor": "#E5ECF6",
           "showlakes": true,
           "showland": true,
           "subunitcolor": "white"
          },
          "hoverlabel": {
           "align": "left"
          },
          "hovermode": "closest",
          "mapbox": {
           "style": "light"
          },
          "paper_bgcolor": "white",
          "plot_bgcolor": "#E5ECF6",
          "polar": {
           "angularaxis": {
            "gridcolor": "white",
            "linecolor": "white",
            "ticks": ""
           },
           "bgcolor": "#E5ECF6",
           "radialaxis": {
            "gridcolor": "white",
            "linecolor": "white",
            "ticks": ""
           }
          },
          "scene": {
           "xaxis": {
            "backgroundcolor": "#E5ECF6",
            "gridcolor": "white",
            "gridwidth": 2,
            "linecolor": "white",
            "showbackground": true,
            "ticks": "",
            "zerolinecolor": "white"
           },
           "yaxis": {
            "backgroundcolor": "#E5ECF6",
            "gridcolor": "white",
            "gridwidth": 2,
            "linecolor": "white",
            "showbackground": true,
            "ticks": "",
            "zerolinecolor": "white"
           },
           "zaxis": {
            "backgroundcolor": "#E5ECF6",
            "gridcolor": "white",
            "gridwidth": 2,
            "linecolor": "white",
            "showbackground": true,
            "ticks": "",
            "zerolinecolor": "white"
           }
          },
          "shapedefaults": {
           "line": {
            "color": "#2a3f5f"
           }
          },
          "ternary": {
           "aaxis": {
            "gridcolor": "white",
            "linecolor": "white",
            "ticks": ""
           },
           "baxis": {
            "gridcolor": "white",
            "linecolor": "white",
            "ticks": ""
           },
           "bgcolor": "#E5ECF6",
           "caxis": {
            "gridcolor": "white",
            "linecolor": "white",
            "ticks": ""
           }
          },
          "title": {
           "x": 0.05
          },
          "xaxis": {
           "automargin": true,
           "gridcolor": "white",
           "linecolor": "white",
           "ticks": "",
           "title": {
            "standoff": 15
           },
           "zerolinecolor": "white",
           "zerolinewidth": 2
          },
          "yaxis": {
           "automargin": true,
           "gridcolor": "white",
           "linecolor": "white",
           "ticks": "",
           "title": {
            "standoff": 15
           },
           "zerolinecolor": "white",
           "zerolinewidth": 2
          }
         }
        },
        "xaxis": {
         "anchor": "y",
         "domain": [
          0,
          1
         ],
         "title": {
          "text": "variable"
         }
        },
        "yaxis": {
         "anchor": "x",
         "domain": [
          0,
          1
         ],
         "title": {
          "text": "value"
         }
        }
       }
      }
     },
     "metadata": {},
     "output_type": "display_data"
    }
   ],
   "source": [
    "fig = px.box(df['total_positions'])\n",
    "fig.show()"
   ]
  },
  {
   "cell_type": "code",
   "execution_count": 43,
   "id": "a5adbd49",
   "metadata": {},
   "outputs": [
    {
     "data": {
      "application/vnd.plotly.v1+json": {
       "config": {
        "plotlyServerURL": "https://plot.ly"
       },
       "data": [
        {
         "alignmentgroup": "True",
         "hovertemplate": "variable=%{x}<br>value=%{y}<extra></extra>",
         "legendgroup": "",
         "marker": {
          "color": "#636efa"
         },
         "name": "",
         "notched": false,
         "offsetgroup": "",
         "orientation": "v",
         "showlegend": false,
         "type": "box",
         "x": [
          "exper",
          "exper",
          "exper",
          "exper",
          "exper",
          "exper",
          "exper",
          "exper",
          "exper",
          "exper",
          "exper",
          "exper",
          "exper",
          "exper",
          "exper",
          "exper",
          "exper",
          "exper",
          "exper",
          "exper",
          "exper",
          "exper",
          "exper",
          "exper",
          "exper",
          "exper",
          "exper",
          "exper",
          "exper",
          "exper",
          "exper",
          "exper",
          "exper",
          "exper",
          "exper",
          "exper",
          "exper",
          "exper",
          "exper",
          "exper",
          "exper",
          "exper",
          "exper",
          "exper",
          "exper",
          "exper",
          "exper",
          "exper",
          "exper",
          "exper",
          "exper",
          "exper",
          "exper",
          "exper",
          "exper",
          "exper",
          "exper",
          "exper",
          "exper",
          "exper",
          "exper",
          "exper",
          "exper",
          "exper",
          "exper",
          "exper",
          "exper",
          "exper",
          "exper",
          "exper",
          "exper",
          "exper",
          "exper",
          "exper",
          "exper",
          "exper",
          "exper",
          "exper",
          "exper",
          "exper",
          "exper",
          "exper",
          "exper",
          "exper",
          "exper",
          "exper",
          "exper",
          "exper",
          "exper",
          "exper",
          "exper",
          "exper",
          "exper",
          "exper",
          "exper",
          "exper",
          "exper",
          "exper",
          "exper",
          "exper",
          "exper",
          "exper",
          "exper",
          "exper",
          "exper",
          "exper",
          "exper",
          "exper",
          "exper",
          "exper",
          "exper",
          "exper",
          "exper",
          "exper",
          "exper",
          "exper",
          "exper",
          "exper",
          "exper",
          "exper",
          "exper",
          "exper",
          "exper",
          "exper",
          "exper",
          "exper",
          "exper",
          "exper",
          "exper",
          "exper",
          "exper",
          "exper",
          "exper",
          "exper",
          "exper",
          "exper",
          "exper",
          "exper",
          "exper",
          "exper",
          "exper",
          "exper",
          "exper",
          "exper",
          "exper",
          "exper",
          "exper",
          "exper",
          "exper",
          "exper",
          "exper",
          "exper",
          "exper",
          "exper",
          "exper",
          "exper",
          "exper",
          "exper",
          "exper",
          "exper",
          "exper",
          "exper",
          "exper",
          "exper",
          "exper",
          "exper",
          "exper",
          "exper",
          "exper",
          "exper",
          "exper",
          "exper",
          "exper",
          "exper",
          "exper",
          "exper",
          "exper",
          "exper",
          "exper",
          "exper",
          "exper",
          "exper",
          "exper",
          "exper",
          "exper",
          "exper",
          "exper",
          "exper",
          "exper",
          "exper",
          "exper",
          "exper",
          "exper",
          "exper",
          "exper",
          "exper",
          "exper",
          "exper",
          "exper",
          "exper",
          "exper",
          "exper",
          "exper",
          "exper",
          "exper",
          "exper",
          "exper",
          "exper",
          "exper",
          "exper",
          "exper",
          "exper",
          "exper",
          "exper",
          "exper",
          "exper",
          "exper",
          "exper",
          "exper",
          "exper",
          "exper",
          "exper",
          "exper",
          "exper",
          "exper",
          "exper",
          "exper",
          "exper",
          "exper",
          "exper",
          "exper",
          "exper",
          "exper",
          "exper",
          "exper",
          "exper",
          "exper",
          "exper",
          "exper",
          "exper",
          "exper",
          "exper",
          "exper",
          "exper",
          "exper",
          "exper",
          "exper",
          "exper",
          "exper",
          "exper",
          "exper",
          "exper",
          "exper",
          "exper",
          "exper",
          "exper",
          "exper",
          "exper",
          "exper",
          "exper",
          "exper",
          "exper",
          "exper",
          "exper",
          "exper",
          "exper",
          "exper",
          "exper",
          "exper",
          "exper",
          "exper",
          "exper",
          "exper",
          "exper",
          "exper",
          "exper",
          "exper",
          "exper",
          "exper",
          "exper",
          "exper",
          "exper",
          "exper",
          "exper",
          "exper",
          "exper",
          "exper",
          "exper",
          "exper",
          "exper",
          "exper",
          "exper",
          "exper",
          "exper",
          "exper",
          "exper",
          "exper",
          "exper",
          "exper",
          "exper",
          "exper",
          "exper",
          "exper",
          "exper",
          "exper",
          "exper",
          "exper",
          "exper",
          "exper",
          "exper",
          "exper",
          "exper",
          "exper",
          "exper",
          "exper",
          "exper",
          "exper",
          "exper",
          "exper",
          "exper",
          "exper",
          "exper",
          "exper",
          "exper",
          "exper",
          "exper",
          "exper",
          "exper",
          "exper",
          "exper",
          "exper",
          "exper",
          "exper",
          "exper",
          "exper",
          "exper",
          "exper",
          "exper",
          "exper",
          "exper",
          "exper",
          "exper",
          "exper",
          "exper",
          "exper",
          "exper",
          "exper",
          "exper",
          "exper",
          "exper",
          "exper",
          "exper",
          "exper",
          "exper",
          "exper",
          "exper",
          "exper",
          "exper",
          "exper",
          "exper",
          "exper",
          "exper",
          "exper",
          "exper",
          "exper",
          "exper",
          "exper",
          "exper",
          "exper",
          "exper",
          "exper",
          "exper",
          "exper",
          "exper",
          "exper",
          "exper",
          "exper",
          "exper",
          "exper",
          "exper",
          "exper",
          "exper",
          "exper",
          "exper",
          "exper",
          "exper",
          "exper",
          "exper",
          "exper",
          "exper",
          "exper",
          "exper",
          "exper",
          "exper",
          "exper",
          "exper",
          "exper",
          "exper",
          "exper",
          "exper",
          "exper",
          "exper",
          "exper",
          "exper",
          "exper",
          "exper",
          "exper",
          "exper",
          "exper",
          "exper",
          "exper",
          "exper",
          "exper",
          "exper",
          "exper",
          "exper",
          "exper",
          "exper",
          "exper",
          "exper",
          "exper",
          "exper",
          "exper",
          "exper",
          "exper",
          "exper",
          "exper",
          "exper",
          "exper",
          "exper",
          "exper",
          "exper",
          "exper",
          "exper",
          "exper",
          "exper",
          "exper",
          "exper",
          "exper",
          "exper",
          "exper",
          "exper",
          "exper",
          "exper",
          "exper",
          "exper",
          "exper",
          "exper",
          "exper",
          "exper",
          "exper",
          "exper",
          "exper",
          "exper",
          "exper",
          "exper",
          "exper",
          "exper",
          "exper",
          "exper",
          "exper",
          "exper",
          "exper",
          "exper",
          "exper",
          "exper",
          "exper",
          "exper",
          "exper",
          "exper",
          "exper",
          "exper",
          "exper",
          "exper",
          "exper",
          "exper",
          "exper",
          "exper",
          "exper",
          "exper",
          "exper",
          "exper",
          "exper",
          "exper",
          "exper",
          "exper",
          "exper",
          "exper",
          "exper",
          "exper",
          "exper",
          "exper",
          "exper",
          "exper",
          "exper",
          "exper",
          "exper",
          "exper",
          "exper",
          "exper",
          "exper",
          "exper",
          "exper",
          "exper",
          "exper",
          "exper",
          "exper",
          "exper",
          "exper",
          "exper",
          "exper",
          "exper",
          "exper",
          "exper",
          "exper",
          "exper",
          "exper",
          "exper",
          "exper",
          "exper",
          "exper",
          "exper",
          "exper",
          "exper",
          "exper",
          "exper",
          "exper",
          "exper",
          "exper",
          "exper",
          "exper",
          "exper",
          "exper",
          "exper",
          "exper",
          "exper",
          "exper",
          "exper",
          "exper",
          "exper",
          "exper",
          "exper",
          "exper",
          "exper",
          "exper",
          "exper",
          "exper",
          "exper",
          "exper",
          "exper",
          "exper",
          "exper",
          "exper",
          "exper",
          "exper",
          "exper",
          "exper",
          "exper",
          "exper",
          "exper",
          "exper",
          "exper",
          "exper",
          "exper",
          "exper",
          "exper",
          "exper",
          "exper",
          "exper",
          "exper",
          "exper",
          "exper",
          "exper",
          "exper",
          "exper",
          "exper",
          "exper",
          "exper",
          "exper",
          "exper",
          "exper",
          "exper",
          "exper",
          "exper",
          "exper",
          "exper",
          "exper",
          "exper",
          "exper",
          "exper",
          "exper",
          "exper",
          "exper",
          "exper",
          "exper",
          "exper",
          "exper",
          "exper",
          "exper",
          "exper",
          "exper",
          "exper",
          "exper",
          "exper",
          "exper",
          "exper",
          "exper",
          "exper",
          "exper",
          "exper",
          "exper",
          "exper",
          "exper",
          "exper",
          "exper",
          "exper",
          "exper",
          "exper",
          "exper",
          "exper",
          "exper",
          "exper",
          "exper",
          "exper",
          "exper",
          "exper",
          "exper",
          "exper",
          "exper",
          "exper",
          "exper",
          "exper",
          "exper",
          "exper",
          "exper",
          "exper",
          "exper",
          "exper",
          "exper",
          "exper",
          "exper",
          "exper",
          "exper",
          "exper",
          "exper",
          "exper",
          "exper",
          "exper",
          "exper",
          "exper",
          "exper",
          "exper",
          "exper",
          "exper",
          "exper",
          "exper",
          "exper",
          "exper",
          "exper",
          "exper",
          "exper",
          "exper",
          "exper",
          "exper",
          "exper",
          "exper",
          "exper",
          "exper",
          "exper",
          "exper",
          "exper",
          "exper",
          "exper",
          "exper",
          "exper",
          "exper",
          "exper",
          "exper",
          "exper",
          "exper",
          "exper",
          "exper",
          "exper",
          "exper",
          "exper",
          "exper",
          "exper",
          "exper",
          "exper",
          "exper",
          "exper",
          "exper",
          "exper",
          "exper",
          "exper",
          "exper",
          "exper",
          "exper",
          "exper",
          "exper",
          "exper",
          "exper"
         ],
         "x0": " ",
         "xaxis": "x",
         "y": [
          0,
          2,
          0,
          0,
          4,
          4,
          2,
          4,
          0,
          0,
          0,
          2,
          0,
          0,
          2,
          2,
          0,
          0,
          4,
          0,
          0,
          0,
          2,
          0,
          0,
          0,
          0,
          4,
          7,
          0,
          0,
          0,
          2,
          2,
          2,
          2,
          2,
          0,
          0,
          0,
          2,
          0,
          0,
          0,
          0,
          2,
          2,
          7,
          0,
          0,
          0,
          0,
          0,
          0,
          0,
          2,
          4,
          2,
          0,
          0,
          0,
          2,
          2,
          2,
          2,
          2,
          2,
          2,
          0,
          2,
          2,
          2,
          0,
          2,
          2,
          0,
          2,
          2,
          7,
          4,
          4,
          0,
          0,
          2,
          2,
          2,
          0,
          2,
          2,
          0,
          2,
          0,
          2,
          0,
          0,
          2,
          2,
          2,
          4,
          2,
          2,
          2,
          0,
          0,
          0,
          0,
          12,
          2,
          2,
          0,
          0,
          4,
          2,
          12,
          0,
          0,
          0,
          2,
          2,
          4,
          0,
          0,
          0,
          0,
          0,
          0,
          4,
          2,
          4,
          0,
          0,
          0,
          0,
          2,
          2,
          0,
          2,
          4,
          4,
          2,
          2,
          0,
          4,
          2,
          2,
          2,
          2,
          0,
          0,
          2,
          2,
          0,
          0,
          0,
          2,
          0,
          0,
          0,
          2,
          2,
          2,
          2,
          0,
          0,
          0,
          0,
          2,
          0,
          4,
          4,
          2,
          0,
          0,
          0,
          0,
          0,
          2,
          0,
          2,
          2,
          0,
          0,
          2,
          0,
          2,
          0,
          2,
          2,
          0,
          0,
          4,
          0,
          2,
          2,
          2,
          0,
          0,
          2,
          0,
          4,
          4,
          0,
          4,
          0,
          0,
          0,
          2,
          0,
          2,
          2,
          0,
          0,
          2,
          0,
          2,
          0,
          2,
          0,
          4,
          4,
          0,
          2,
          4,
          12,
          0,
          2,
          4,
          2,
          0,
          2,
          0,
          2,
          2,
          0,
          0,
          0,
          2,
          0,
          0,
          0,
          0,
          0,
          2,
          0,
          2,
          4,
          2,
          0,
          2,
          0,
          4,
          2,
          0,
          4,
          0,
          0,
          7,
          0,
          2,
          0,
          0,
          2,
          0,
          0,
          0,
          0,
          0,
          0,
          0,
          0,
          0,
          0,
          0,
          2,
          2,
          2,
          2,
          2,
          2,
          0,
          0,
          0,
          0,
          0,
          0,
          0,
          0,
          4,
          4,
          4,
          7,
          4,
          7,
          10,
          4,
          4,
          4,
          2,
          4,
          0,
          0,
          2,
          2,
          2,
          2,
          2,
          2,
          2,
          0,
          0,
          0,
          0,
          0,
          2,
          0,
          0,
          2,
          2,
          2,
          4,
          0,
          0,
          4,
          0,
          2,
          0,
          2,
          4,
          0,
          2,
          0,
          0,
          0,
          2,
          2,
          4,
          0,
          0,
          0,
          2,
          0,
          0,
          0,
          0,
          0,
          0,
          0,
          0,
          2,
          2,
          2,
          2,
          2,
          2,
          2,
          2,
          4,
          0,
          0,
          0,
          2,
          2,
          0,
          0,
          2,
          0,
          2,
          0,
          0,
          2,
          2,
          10,
          0,
          0,
          2,
          0,
          2,
          0,
          0,
          0,
          2,
          4,
          0,
          0,
          2,
          0,
          0,
          2,
          0,
          0,
          0,
          0,
          0,
          2,
          2,
          0,
          4,
          0,
          4,
          2,
          0,
          4,
          0,
          2,
          2,
          2,
          2,
          2,
          0,
          2,
          2,
          0,
          0,
          4,
          4,
          0,
          0,
          2,
          2,
          2,
          0,
          0,
          2,
          0,
          2,
          0,
          2,
          0,
          2,
          2,
          7,
          0,
          4,
          0,
          0,
          0,
          4,
          0,
          0,
          0,
          2,
          0,
          4,
          0,
          2,
          2,
          0,
          2,
          2,
          4,
          2,
          2,
          2,
          2,
          2,
          4,
          2,
          0,
          2,
          0,
          2,
          2,
          0,
          2,
          2,
          2,
          0,
          0,
          0,
          0,
          0,
          0,
          4,
          0,
          2,
          2,
          0,
          2,
          2,
          0,
          0,
          2,
          0,
          2,
          2,
          0,
          0,
          2,
          2,
          0,
          4,
          4,
          0,
          0,
          0,
          2,
          2,
          2,
          2,
          0,
          2,
          4,
          0,
          0,
          2,
          2,
          2,
          2,
          0,
          0,
          2,
          0,
          0,
          0,
          0,
          2,
          0,
          0,
          2,
          2,
          2,
          0,
          2,
          0,
          0,
          0,
          2,
          0,
          2,
          4,
          4,
          2,
          2,
          4,
          2,
          4,
          4,
          4,
          4,
          4,
          4,
          4,
          2,
          0,
          0,
          0,
          2,
          0,
          10,
          2,
          4,
          4,
          4,
          4,
          7,
          0,
          0,
          0,
          2,
          2,
          0,
          0,
          0,
          0,
          10,
          10,
          4,
          2,
          0,
          0,
          0,
          0,
          4,
          2,
          7,
          0,
          0,
          4,
          0,
          0,
          2,
          0,
          0,
          2,
          0,
          2,
          0,
          0,
          2,
          2,
          4,
          2,
          2,
          0,
          0,
          7,
          0,
          2,
          0,
          7,
          7,
          7,
          7,
          7,
          10,
          10,
          2,
          0,
          2,
          2,
          0,
          2,
          2,
          0,
          0,
          0,
          0,
          2,
          2,
          0,
          0,
          0,
          2,
          4,
          0,
          0,
          0,
          0,
          0,
          0,
          0,
          4,
          0,
          4,
          4,
          0,
          0,
          0,
          0,
          2,
          2,
          2,
          2,
          0,
          2,
          0,
          0,
          2,
          2,
          0,
          0,
          0,
          0,
          0,
          0,
          0,
          0,
          2,
          2,
          2,
          2,
          0,
          2,
          0,
          4,
          0,
          4,
          2,
          0,
          2,
          0,
          2,
          0,
          0,
          0,
          4,
          4,
          4,
          2,
          7,
          0,
          2,
          2,
          0,
          0,
          2,
          4,
          2,
          2,
          2,
          0,
          0,
          0,
          2,
          2,
          4,
          4,
          0,
          2,
          0,
          0,
          2
         ],
         "y0": " ",
         "yaxis": "y"
        }
       ],
       "layout": {
        "boxmode": "group",
        "legend": {
         "tracegroupgap": 0
        },
        "margin": {
         "t": 60
        },
        "template": {
         "data": {
          "bar": [
           {
            "error_x": {
             "color": "#2a3f5f"
            },
            "error_y": {
             "color": "#2a3f5f"
            },
            "marker": {
             "line": {
              "color": "#E5ECF6",
              "width": 0.5
             },
             "pattern": {
              "fillmode": "overlay",
              "size": 10,
              "solidity": 0.2
             }
            },
            "type": "bar"
           }
          ],
          "barpolar": [
           {
            "marker": {
             "line": {
              "color": "#E5ECF6",
              "width": 0.5
             },
             "pattern": {
              "fillmode": "overlay",
              "size": 10,
              "solidity": 0.2
             }
            },
            "type": "barpolar"
           }
          ],
          "carpet": [
           {
            "aaxis": {
             "endlinecolor": "#2a3f5f",
             "gridcolor": "white",
             "linecolor": "white",
             "minorgridcolor": "white",
             "startlinecolor": "#2a3f5f"
            },
            "baxis": {
             "endlinecolor": "#2a3f5f",
             "gridcolor": "white",
             "linecolor": "white",
             "minorgridcolor": "white",
             "startlinecolor": "#2a3f5f"
            },
            "type": "carpet"
           }
          ],
          "choropleth": [
           {
            "colorbar": {
             "outlinewidth": 0,
             "ticks": ""
            },
            "type": "choropleth"
           }
          ],
          "contour": [
           {
            "colorbar": {
             "outlinewidth": 0,
             "ticks": ""
            },
            "colorscale": [
             [
              0,
              "#0d0887"
             ],
             [
              0.1111111111111111,
              "#46039f"
             ],
             [
              0.2222222222222222,
              "#7201a8"
             ],
             [
              0.3333333333333333,
              "#9c179e"
             ],
             [
              0.4444444444444444,
              "#bd3786"
             ],
             [
              0.5555555555555556,
              "#d8576b"
             ],
             [
              0.6666666666666666,
              "#ed7953"
             ],
             [
              0.7777777777777778,
              "#fb9f3a"
             ],
             [
              0.8888888888888888,
              "#fdca26"
             ],
             [
              1,
              "#f0f921"
             ]
            ],
            "type": "contour"
           }
          ],
          "contourcarpet": [
           {
            "colorbar": {
             "outlinewidth": 0,
             "ticks": ""
            },
            "type": "contourcarpet"
           }
          ],
          "heatmap": [
           {
            "colorbar": {
             "outlinewidth": 0,
             "ticks": ""
            },
            "colorscale": [
             [
              0,
              "#0d0887"
             ],
             [
              0.1111111111111111,
              "#46039f"
             ],
             [
              0.2222222222222222,
              "#7201a8"
             ],
             [
              0.3333333333333333,
              "#9c179e"
             ],
             [
              0.4444444444444444,
              "#bd3786"
             ],
             [
              0.5555555555555556,
              "#d8576b"
             ],
             [
              0.6666666666666666,
              "#ed7953"
             ],
             [
              0.7777777777777778,
              "#fb9f3a"
             ],
             [
              0.8888888888888888,
              "#fdca26"
             ],
             [
              1,
              "#f0f921"
             ]
            ],
            "type": "heatmap"
           }
          ],
          "heatmapgl": [
           {
            "colorbar": {
             "outlinewidth": 0,
             "ticks": ""
            },
            "colorscale": [
             [
              0,
              "#0d0887"
             ],
             [
              0.1111111111111111,
              "#46039f"
             ],
             [
              0.2222222222222222,
              "#7201a8"
             ],
             [
              0.3333333333333333,
              "#9c179e"
             ],
             [
              0.4444444444444444,
              "#bd3786"
             ],
             [
              0.5555555555555556,
              "#d8576b"
             ],
             [
              0.6666666666666666,
              "#ed7953"
             ],
             [
              0.7777777777777778,
              "#fb9f3a"
             ],
             [
              0.8888888888888888,
              "#fdca26"
             ],
             [
              1,
              "#f0f921"
             ]
            ],
            "type": "heatmapgl"
           }
          ],
          "histogram": [
           {
            "marker": {
             "pattern": {
              "fillmode": "overlay",
              "size": 10,
              "solidity": 0.2
             }
            },
            "type": "histogram"
           }
          ],
          "histogram2d": [
           {
            "colorbar": {
             "outlinewidth": 0,
             "ticks": ""
            },
            "colorscale": [
             [
              0,
              "#0d0887"
             ],
             [
              0.1111111111111111,
              "#46039f"
             ],
             [
              0.2222222222222222,
              "#7201a8"
             ],
             [
              0.3333333333333333,
              "#9c179e"
             ],
             [
              0.4444444444444444,
              "#bd3786"
             ],
             [
              0.5555555555555556,
              "#d8576b"
             ],
             [
              0.6666666666666666,
              "#ed7953"
             ],
             [
              0.7777777777777778,
              "#fb9f3a"
             ],
             [
              0.8888888888888888,
              "#fdca26"
             ],
             [
              1,
              "#f0f921"
             ]
            ],
            "type": "histogram2d"
           }
          ],
          "histogram2dcontour": [
           {
            "colorbar": {
             "outlinewidth": 0,
             "ticks": ""
            },
            "colorscale": [
             [
              0,
              "#0d0887"
             ],
             [
              0.1111111111111111,
              "#46039f"
             ],
             [
              0.2222222222222222,
              "#7201a8"
             ],
             [
              0.3333333333333333,
              "#9c179e"
             ],
             [
              0.4444444444444444,
              "#bd3786"
             ],
             [
              0.5555555555555556,
              "#d8576b"
             ],
             [
              0.6666666666666666,
              "#ed7953"
             ],
             [
              0.7777777777777778,
              "#fb9f3a"
             ],
             [
              0.8888888888888888,
              "#fdca26"
             ],
             [
              1,
              "#f0f921"
             ]
            ],
            "type": "histogram2dcontour"
           }
          ],
          "mesh3d": [
           {
            "colorbar": {
             "outlinewidth": 0,
             "ticks": ""
            },
            "type": "mesh3d"
           }
          ],
          "parcoords": [
           {
            "line": {
             "colorbar": {
              "outlinewidth": 0,
              "ticks": ""
             }
            },
            "type": "parcoords"
           }
          ],
          "pie": [
           {
            "automargin": true,
            "type": "pie"
           }
          ],
          "scatter": [
           {
            "fillpattern": {
             "fillmode": "overlay",
             "size": 10,
             "solidity": 0.2
            },
            "type": "scatter"
           }
          ],
          "scatter3d": [
           {
            "line": {
             "colorbar": {
              "outlinewidth": 0,
              "ticks": ""
             }
            },
            "marker": {
             "colorbar": {
              "outlinewidth": 0,
              "ticks": ""
             }
            },
            "type": "scatter3d"
           }
          ],
          "scattercarpet": [
           {
            "marker": {
             "colorbar": {
              "outlinewidth": 0,
              "ticks": ""
             }
            },
            "type": "scattercarpet"
           }
          ],
          "scattergeo": [
           {
            "marker": {
             "colorbar": {
              "outlinewidth": 0,
              "ticks": ""
             }
            },
            "type": "scattergeo"
           }
          ],
          "scattergl": [
           {
            "marker": {
             "colorbar": {
              "outlinewidth": 0,
              "ticks": ""
             }
            },
            "type": "scattergl"
           }
          ],
          "scattermapbox": [
           {
            "marker": {
             "colorbar": {
              "outlinewidth": 0,
              "ticks": ""
             }
            },
            "type": "scattermapbox"
           }
          ],
          "scatterpolar": [
           {
            "marker": {
             "colorbar": {
              "outlinewidth": 0,
              "ticks": ""
             }
            },
            "type": "scatterpolar"
           }
          ],
          "scatterpolargl": [
           {
            "marker": {
             "colorbar": {
              "outlinewidth": 0,
              "ticks": ""
             }
            },
            "type": "scatterpolargl"
           }
          ],
          "scatterternary": [
           {
            "marker": {
             "colorbar": {
              "outlinewidth": 0,
              "ticks": ""
             }
            },
            "type": "scatterternary"
           }
          ],
          "surface": [
           {
            "colorbar": {
             "outlinewidth": 0,
             "ticks": ""
            },
            "colorscale": [
             [
              0,
              "#0d0887"
             ],
             [
              0.1111111111111111,
              "#46039f"
             ],
             [
              0.2222222222222222,
              "#7201a8"
             ],
             [
              0.3333333333333333,
              "#9c179e"
             ],
             [
              0.4444444444444444,
              "#bd3786"
             ],
             [
              0.5555555555555556,
              "#d8576b"
             ],
             [
              0.6666666666666666,
              "#ed7953"
             ],
             [
              0.7777777777777778,
              "#fb9f3a"
             ],
             [
              0.8888888888888888,
              "#fdca26"
             ],
             [
              1,
              "#f0f921"
             ]
            ],
            "type": "surface"
           }
          ],
          "table": [
           {
            "cells": {
             "fill": {
              "color": "#EBF0F8"
             },
             "line": {
              "color": "white"
             }
            },
            "header": {
             "fill": {
              "color": "#C8D4E3"
             },
             "line": {
              "color": "white"
             }
            },
            "type": "table"
           }
          ]
         },
         "layout": {
          "annotationdefaults": {
           "arrowcolor": "#2a3f5f",
           "arrowhead": 0,
           "arrowwidth": 1
          },
          "autotypenumbers": "strict",
          "coloraxis": {
           "colorbar": {
            "outlinewidth": 0,
            "ticks": ""
           }
          },
          "colorscale": {
           "diverging": [
            [
             0,
             "#8e0152"
            ],
            [
             0.1,
             "#c51b7d"
            ],
            [
             0.2,
             "#de77ae"
            ],
            [
             0.3,
             "#f1b6da"
            ],
            [
             0.4,
             "#fde0ef"
            ],
            [
             0.5,
             "#f7f7f7"
            ],
            [
             0.6,
             "#e6f5d0"
            ],
            [
             0.7,
             "#b8e186"
            ],
            [
             0.8,
             "#7fbc41"
            ],
            [
             0.9,
             "#4d9221"
            ],
            [
             1,
             "#276419"
            ]
           ],
           "sequential": [
            [
             0,
             "#0d0887"
            ],
            [
             0.1111111111111111,
             "#46039f"
            ],
            [
             0.2222222222222222,
             "#7201a8"
            ],
            [
             0.3333333333333333,
             "#9c179e"
            ],
            [
             0.4444444444444444,
             "#bd3786"
            ],
            [
             0.5555555555555556,
             "#d8576b"
            ],
            [
             0.6666666666666666,
             "#ed7953"
            ],
            [
             0.7777777777777778,
             "#fb9f3a"
            ],
            [
             0.8888888888888888,
             "#fdca26"
            ],
            [
             1,
             "#f0f921"
            ]
           ],
           "sequentialminus": [
            [
             0,
             "#0d0887"
            ],
            [
             0.1111111111111111,
             "#46039f"
            ],
            [
             0.2222222222222222,
             "#7201a8"
            ],
            [
             0.3333333333333333,
             "#9c179e"
            ],
            [
             0.4444444444444444,
             "#bd3786"
            ],
            [
             0.5555555555555556,
             "#d8576b"
            ],
            [
             0.6666666666666666,
             "#ed7953"
            ],
            [
             0.7777777777777778,
             "#fb9f3a"
            ],
            [
             0.8888888888888888,
             "#fdca26"
            ],
            [
             1,
             "#f0f921"
            ]
           ]
          },
          "colorway": [
           "#636efa",
           "#EF553B",
           "#00cc96",
           "#ab63fa",
           "#FFA15A",
           "#19d3f3",
           "#FF6692",
           "#B6E880",
           "#FF97FF",
           "#FECB52"
          ],
          "font": {
           "color": "#2a3f5f"
          },
          "geo": {
           "bgcolor": "white",
           "lakecolor": "white",
           "landcolor": "#E5ECF6",
           "showlakes": true,
           "showland": true,
           "subunitcolor": "white"
          },
          "hoverlabel": {
           "align": "left"
          },
          "hovermode": "closest",
          "mapbox": {
           "style": "light"
          },
          "paper_bgcolor": "white",
          "plot_bgcolor": "#E5ECF6",
          "polar": {
           "angularaxis": {
            "gridcolor": "white",
            "linecolor": "white",
            "ticks": ""
           },
           "bgcolor": "#E5ECF6",
           "radialaxis": {
            "gridcolor": "white",
            "linecolor": "white",
            "ticks": ""
           }
          },
          "scene": {
           "xaxis": {
            "backgroundcolor": "#E5ECF6",
            "gridcolor": "white",
            "gridwidth": 2,
            "linecolor": "white",
            "showbackground": true,
            "ticks": "",
            "zerolinecolor": "white"
           },
           "yaxis": {
            "backgroundcolor": "#E5ECF6",
            "gridcolor": "white",
            "gridwidth": 2,
            "linecolor": "white",
            "showbackground": true,
            "ticks": "",
            "zerolinecolor": "white"
           },
           "zaxis": {
            "backgroundcolor": "#E5ECF6",
            "gridcolor": "white",
            "gridwidth": 2,
            "linecolor": "white",
            "showbackground": true,
            "ticks": "",
            "zerolinecolor": "white"
           }
          },
          "shapedefaults": {
           "line": {
            "color": "#2a3f5f"
           }
          },
          "ternary": {
           "aaxis": {
            "gridcolor": "white",
            "linecolor": "white",
            "ticks": ""
           },
           "baxis": {
            "gridcolor": "white",
            "linecolor": "white",
            "ticks": ""
           },
           "bgcolor": "#E5ECF6",
           "caxis": {
            "gridcolor": "white",
            "linecolor": "white",
            "ticks": ""
           }
          },
          "title": {
           "x": 0.05
          },
          "xaxis": {
           "automargin": true,
           "gridcolor": "white",
           "linecolor": "white",
           "ticks": "",
           "title": {
            "standoff": 15
           },
           "zerolinecolor": "white",
           "zerolinewidth": 2
          },
          "yaxis": {
           "automargin": true,
           "gridcolor": "white",
           "linecolor": "white",
           "ticks": "",
           "title": {
            "standoff": 15
           },
           "zerolinecolor": "white",
           "zerolinewidth": 2
          }
         }
        },
        "xaxis": {
         "anchor": "y",
         "domain": [
          0,
          1
         ],
         "title": {
          "text": "variable"
         }
        },
        "yaxis": {
         "anchor": "x",
         "domain": [
          0,
          1
         ],
         "title": {
          "text": "value"
         }
        }
       }
      }
     },
     "metadata": {},
     "output_type": "display_data"
    }
   ],
   "source": [
    "fig = px.box(df['exper'])\n",
    "fig.show()"
   ]
  },
  {
   "cell_type": "code",
   "execution_count": 44,
   "id": "75285ffe",
   "metadata": {},
   "outputs": [],
   "source": [
    "# all of them natural ouliers"
   ]
  },
  {
   "cell_type": "code",
   "execution_count": 45,
   "id": "4e66d611-6958-4860-8522-9ada7fce40b0",
   "metadata": {},
   "outputs": [],
   "source": [
    "# go to delete ouliers"
   ]
  },
  {
   "cell_type": "markdown",
   "id": "4e886ec7-388c-414b-ada7-803c2fb1f2cb",
   "metadata": {},
   "source": [
    "## 2. Data Cleaning: \n",
    "\n",
    "Preliminary findings from data profiling can lead to cleaning the data by:\n",
    "- Handling missing values\n",
    "- Correcting errors.\n",
    "- Dealing with outliers.\n",
    "\n",
    "-------------------\n",
    "\n"
   ]
  },
  {
   "cell_type": "markdown",
   "id": "21876b48-f5ec-4970-85a9-0520d45d8841",
   "metadata": {},
   "source": [
    "### Handling missing values:"
   ]
  },
  {
   "cell_type": "markdown",
   "id": "c890d5a2-2a65-4090-9427-f89c0f011d3f",
   "metadata": {},
   "source": [
    "**Why my data has missing values?**\n",
    "They may occur at two stages:\n",
    "1. Data Extraction: It is possible that there are problems with extraction process. Errors at data extraction stage are typically easy to find and can be corrected easily as well.\n",
    "2. Data collection: These errors occur at time of data collection and are harder to correct.\n",
    "\n",
    "**Why do we need to handle the missing data?**\n",
    "To avoid:\n",
    "- Bias the conclusions.\n",
    "- Leading the business to make wrong decisions.\n",
    "\n",
    "**Which are the methods to treat missing values ?**\n",
    "1. Deletion: we delete rows where any of the variable is missing. Simplicity is one of the major advantage of this method, but this method reduces the power of model because it reduces the sample size.\n",
    "\n",
    "2. Imputation: is a method to fill in the missing values with estimated ones. This imputation is one of the most frequently used methods.\n",
    "\n",
    "    2.1. Mean/ Mode/ Median Imputation: It consists of replacing the missing data for a given attribute by the mean or median (quantitative attribute) or mode (qualitative attribute) of all known values of that variable.\n",
    "    > It can be of two types:\n",
    "    > - Generalized Imputation: In this case, we calculate the mean or median for all non missing values of that variable then replace missing value with mean or median.\n",
    "    > - Similar case Imputation: In this case, we calculate average for each group individually of non missing values then replace the missing value based on the group.\n",
    "\n",
    "    2.2. Constant Value\n",
    "   \n",
    "    2.3. Forward Filling\n",
    "   \n",
    "    2.4. Backward Filling\n",
    "\n",
    "6. Prediction Model:  Prediction model is one of the sophisticated method for handling missing data. Here, we create a predictive model to estimate values that will substitute the missing data.  In this case, we divide our data set into two sets: One set with no missing values for the variable and another one with missing values. First data set become training data set of the model while second data set with missing values is test data set and variable with missing values is treated as target variable. Next, we create a model to predict target variable based on other attributes of the training data set and populate missing values of test data set.\n",
    "\n",
    "> There are 2 drawbacks for this approach:\n",
    "> - The model estimated values are usually more well-behaved than the true values\n",
    "> - If there are no relationships with attributes in the data set and the attribute with missing values, then the model will not be precise for estimating missing values.\n",
    "\n",
    "9. KNN Imputation: In this method of imputation, the missing values of an attribute are imputed using the given number of attributes that are most similar to the attribute whose values are missing. The similarity of two attributes is determined using a distance function. It is also known to have certain advantage & disadvantages.\n",
    "\n",
    "   > **Advantages:**\n",
    "   > - k-nearest neighbour can predict both qualitative & quantitative attributes\n",
    "   > - Creation of predictive model for each attribute with missing data is not required\n",
    "   > - Attributes with multiple missing values can be easily treated\n",
    "   > - Correlation structure of the data is taken into consideration\n",
    "\n",
    "   > **Disadvantage:**\n",
    "   > - KNN algorithm is very time-consuming in analyzing large database. It searches through all the dataset looking for the most similar instances.\n",
    "   > - Choice of k-value is very critical. Higher value of k would include attributes which are significantly different from what we need whereas lower value of k implies missing out of significant attributes.\n",
    "\n",
    "--------------------\n"
   ]
  },
  {
   "cell_type": "code",
   "execution_count": null,
   "id": "57e741fb-71c1-46ad-a526-d8f0b1564dc3",
   "metadata": {},
   "outputs": [],
   "source": []
  },
  {
   "cell_type": "code",
   "execution_count": 46,
   "id": "01287962-8077-4c01-8d1d-5f8aed6cb37a",
   "metadata": {},
   "outputs": [],
   "source": [
    "# go back to 6th dimention --> Completeness"
   ]
  },
  {
   "cell_type": "markdown",
   "id": "f7cee10f-0af8-44e5-b595-8e965294daad",
   "metadata": {},
   "source": [
    "### Correcting errors\n",
    "\n",
    "-------------------"
   ]
  },
  {
   "cell_type": "code",
   "execution_count": null,
   "id": "06273b88-a169-42e8-81f5-5d71cb3f9c21",
   "metadata": {},
   "outputs": [],
   "source": []
  },
  {
   "cell_type": "code",
   "execution_count": 47,
   "id": "f1d95da5-a3ba-473a-8243-aa177cadae20",
   "metadata": {},
   "outputs": [],
   "source": [
    "# go back to 7th dimension Accuracy "
   ]
  },
  {
   "cell_type": "markdown",
   "id": "5ecc7dbb-6867-44cf-8f99-1b969a80be40",
   "metadata": {},
   "source": [
    "### Dealing with outliers:"
   ]
  },
  {
   "cell_type": "markdown",
   "id": "88347887-4bdf-48af-9486-cb8fe80c97af",
   "metadata": {},
   "source": [
    "**How to remove Outliers?**\n",
    "Most of the ways to deal with outliers are similar to the methods of missing values like deleting rows, transforming them, binning them, treat them as a separate group, imputing values and other statistical methods. Here, we will discuss the common techniques used to deal with outliers:\n",
    "\n",
    "1. Deleting rows: We delete outlier values if it is due to data entry error, data processing error or outlier rows are very small in numbers. We can also use trimming at both ends to remove outliers.\n",
    "\n",
    "2. Imputing: Like imputation of missing values, we can also impute outliers. We can use mean, median, mode imputation methods. Before imputing values, we should analyse if it is natural outlier or artificial. If it is artificial, we can go with imputing values. We can also use statistical model to predict values of outlier rows and after that we can impute it with predicted values.\n",
    "\n",
    "3. Treat separately: If there are significant number of outliers, we should treat them separately in the statistical model. One of the approach is to treat both groups as two different groups and build individual model for both groups and then combine the output.\n"
   ]
  },
  {
   "cell_type": "code",
   "execution_count": null,
   "id": "25a585f0-2b9c-42fa-bf21-cacc6aa3be3f",
   "metadata": {},
   "outputs": [],
   "source": []
  },
  {
   "cell_type": "markdown",
   "id": "98548b66-e309-4eb8-a5dc-65fe0abbf1e8",
   "metadata": {},
   "source": [
    "## 3. Univariate Analysis: \n",
    "\n",
    "This involves examining single variables to understand their characteristics (distribution, central tendency, dispersion, and shape).\n",
    "\n",
    "We calculate **numerical values** about the data that tells us about the distribution of the data. We also **draw graphs** showing visually how the data is distributed. **To answer the following questions about Features/characteristics of Data:**\n",
    "- Where is the center of the data? (location)\n",
    "- How much does the data vary? (scale)\n",
    "- What is the shape of the data? (shape)\n",
    "\n",
    "**The benefits of this analysis:**\n",
    "Statistics summary gives a high-level idea to identify whether the data has any outliers, data entry error, distribution of data such as the data is normally distributed or left/right skewed\n",
    "\n",
    "**In this step, we will explore variables one by one using following approaches:**"
   ]
  },
  {
   "cell_type": "markdown",
   "id": "d6718111-7ac2-4fff-9851-654655b62e0b",
   "metadata": {},
   "source": [
    "### 1. Univariate Graphical Analysis:\n",
    "Method to perform uni-variate analysis will depend on whether the variable type is categorical or numerical."
   ]
  },
  {
   "cell_type": "code",
   "execution_count": null,
   "id": "db79d803-b75c-4686-a623-e8420321a90f",
   "metadata": {},
   "outputs": [],
   "source": []
  },
  {
   "cell_type": "markdown",
   "id": "0d57c4b9-9bb3-494d-85dd-b8d39afda139",
   "metadata": {},
   "source": [
    "#### I. Categorical Variables:\n",
    "\n",
    "we’ll use frequency table to understand distribution of each category\n",
    "- Bar Chart (Ordinal) - Orderd\n",
    "- Pie Chart (Nominal) - non Orderd"
   ]
  },
  {
   "cell_type": "code",
   "execution_count": 54,
   "id": "72ece4b7-5508-403a-8fb0-f519fc74272a",
   "metadata": {},
   "outputs": [
    {
     "data": {
      "image/png": "[encoded data removed]",
      "text/plain": [
       "<IPython.core.display.Image object>"
      ]
     },
     "execution_count": 54,
     "metadata": {},
     "output_type": "execute_result"
    }
   ],
   "source": [
    "# 2. Is there a gender preference indicated in the job postings?\n",
    "Image(filename='Q2.png')"
   ]
  },
  {
   "cell_type": "markdown",
   "id": "d2641f0d-80f2-493b-99b7-15476379a1e2",
   "metadata": {},
   "source": [
    "#### II. Numerical Variables:\n",
    "\n",
    "we need to understand the central tendency and spread of the variable (Descriptive Analysis) using:\n",
    "   - Box plot\n",
    "   - Histogram"
   ]
  },
  {
   "cell_type": "code",
   "execution_count": 55,
   "id": "5be16f08-a072-4a02-a3ee-6f9d57786fb4",
   "metadata": {},
   "outputs": [
    {
     "data": {
      "image/png": "[encoded data removed]",
      "text/plain": [
       "<IPython.core.display.Image object>"
      ]
     },
     "execution_count": 55,
     "metadata": {},
     "output_type": "execute_result"
    }
   ],
   "source": [
    "# 3. What is the expected salary range for fresh graduates?\\\n",
    "# here expected salary for fresh graduates \n",
    "Image(filename='Q3.png')"
   ]
  },
  {
   "cell_type": "markdown",
   "id": "d66677d3-44ad-414f-9b39-f9c1995ad043",
   "metadata": {},
   "source": [
    "### 2. Univariate Non-Graphical analysis: \n",
    "\n",
    "- Where is the center of the data? (location) --> **Measures of central tendency**\n",
    "- How much does the data vary? (scale) --> **Measure of variability**\n",
    "- What is the shape of the data? (shape) --> **Measures of variation combined with an average (measure of center) gives a good picture of the distribution of the data.**"
   ]
  },
  {
   "cell_type": "code",
   "execution_count": null,
   "id": "f1058d84-e61e-4f5b-b66a-29931e77821b",
   "metadata": {},
   "outputs": [],
   "source": []
  },
  {
   "cell_type": "markdown",
   "id": "f09bb809-0edd-432b-bf23-abd0840b3e16",
   "metadata": {},
   "source": [
    "## 4. Bivariate/Multivariate Analysis:\n",
    "\n",
    "Here, you look at the relationships between two or more variables. This can involve looking for correlations, patterns, and trends that suggest a relationship or an association.\n",
    "\n",
    "We can perform bi-variate analysis for any combination of categorical and numerical variables. The combination can be:\n",
    "| bi-variate variables   | Plot type |\n",
    "| ------------- | ------------- |\n",
    "| Categorical & Categorical| Stacked Bar Chart |\n",
    "| Categorical & numerical  | scatter plot, histogram, box plot|\n",
    "| numerical  & numerical  | Scatter plot, line chart| \n",
    "\n",
    "\n",
    "Multivariate Analysis:\n",
    "- Heat map\n",
    "- Bar Chart\n",
    "- Scatter Chart\n",
    "- Line Chart"
   ]
  },
  {
   "cell_type": "markdown",
   "id": "838f2864-ce9e-4f15-99c8-052d053154a7",
   "metadata": {},
   "source": [
    "**Categorical & Categorical --> (Stacked Column Chart)**"
   ]
  },
  {
   "cell_type": "code",
   "execution_count": 50,
   "id": "580df917",
   "metadata": {},
   "outputs": [
    {
     "data": {
      "application/vnd.plotly.v1+json": {
       "config": {
        "plotlyServerURL": "https://plot.ly"
       },
       "data": [
        {
         "domain": {
          "x": [
           0,
           1
          ],
          "y": [
           0,
           1
          ]
         },
         "hovertemplate": "comp_size=%{label}<br>open_positions=%{value}<extra></extra>",
         "labels": [
          "متوسطة فئة أ",
          "متوسطة فئة أ",
          "كبيرة",
          "صغيرة فئة ب",
          "صغيرة فئة أ",
          "صغيرة فئة أ",
          "صغيرة فئة أ",
          "صغيرة فئة أ",
          "صغيرة فئة أ",
          "متوسطة فئة أ",
          "صغيرة فئة أ",
          "صغيرة فئة أ",
          "صغيرة فئة أ",
          "متوسطة فئة ب",
          "عملاقة",
          "صغيرة فئة ب",
          "صغيرة فئة ب",
          "صغيرة فئة ب",
          "صغيرة فئة أ",
          "صغيرة فئة ب",
          "صغيرة فئة ب",
          "صغيرة فئة ب",
          "صغيرة فئة أ",
          "كبيرة",
          "صغيرة فئة ب",
          "صغيرة فئة ب",
          "صغيرة فئة ب",
          "صغيرة فئة ب",
          "صغيرة فئة ب",
          "صغيرة فئة ب",
          "صغيرة فئة ب",
          "متوسطة فئة أ",
          "متوسطة فئة ب",
          "صغيرة فئة أ",
          "صغيرة فئة ب",
          "متوسطة فئة أ",
          "متوسطة فئة ب",
          "متوسطة فئة أ",
          "صغيرة فئة ب",
          "صغيرة فئة ب",
          "متوسطة فئة ب",
          "صغيرة فئة ب",
          "صغيرة فئة ب",
          "متوسطة فئة أ",
          "صغيرة فئة ب",
          "متوسطة فئة أ",
          "صغيرة فئة ب",
          "متوسطة فئة ب",
          "صغيرة فئة ب",
          "متوسطة فئة أ",
          "متوسطة فئة أ",
          "صغيرة فئة ب",
          "صغيرة فئة ب",
          "صغيرة فئة ب",
          "صغيرة فئة أ",
          "صغيرة فئة أ",
          "متوسطة فئة ب",
          "متوسطة فئة ب",
          "صغيرة فئة ب",
          "صغيرة فئة ب",
          "صغيرة فئة أ",
          "متوسطة فئة أ",
          "صغيرة فئة ب",
          "صغيرة فئة أ",
          "متوسطة فئة ب",
          "صغيرة فئة ب",
          "صغيرة فئة ب",
          "متوسطة فئة ب",
          "صغيرة فئة ب",
          "صغيرة فئة ب",
          "صغيرة فئة ب",
          "متوسطة فئة ب",
          "كبيرة",
          "صغيرة فئة أ",
          "صغيرة فئة ب",
          "صغيرة فئة ب",
          "صغيرة فئة ب",
          "صغيرة فئة أ",
          "عملاقة",
          "عملاقة",
          "صغيرة فئة ب",
          "صغيرة فئة ب",
          "صغيرة فئة ب",
          "صغيرة فئة ب",
          "صغيرة فئة ب",
          "صغيرة فئة ب",
          "متوسطة فئة ج",
          "متوسطة فئة ج",
          "صغيرة فئة ب",
          "صغيرة فئة ب",
          "متوسطة فئة أ",
          "صغيرة فئة ب",
          "صغيرة فئة ب",
          "صغيرة فئة ب",
          "متوسطة فئة ب",
          "صغيرة فئة ب",
          "صغيرة فئة ب",
          "متوسطة فئة ب",
          "متوسطة فئة ب",
          "متوسطة فئة ب",
          "متوسطة فئة ب",
          "متوسطة فئة ب",
          "صغيرة فئة ب",
          "صغيرة فئة ب",
          "صغيرة فئة أ",
          "متوسطة فئة أ",
          "صغيرة فئة ب",
          "متوسطة فئة ج",
          "كبيرة",
          "صغيرة فئة ب",
          "صغيرة فئة ب",
          "عملاقة",
          "متوسطة فئة أ",
          "صغيرة فئة ب",
          "صغيرة فئة أ",
          "صغيرة فئة ب",
          "صغيرة فئة ب",
          "صغيرة فئة ب",
          "متوسطة فئة أ",
          "صغيرة فئة ب",
          "صغيرة فئة أ",
          "صغيرة فئة ب",
          "صغيرة فئة ب",
          "صغيرة فئة ب",
          "متوسطة فئة ب",
          "صغيرة فئة ب",
          "صغيرة فئة أ",
          "صغيرة فئة ب",
          "صغيرة فئة ب",
          "صغيرة فئة ب",
          "صغيرة فئة ب",
          "صغيرة فئة أ",
          "عملاقة",
          "صغيرة فئة ب",
          "صغيرة فئة ب",
          "صغيرة فئة ب",
          "صغيرة فئة ب",
          "كبيرة",
          "صغيرة فئة أ",
          "صغيرة فئة ب",
          "متوسطة فئة أ",
          "صغيرة فئة ب",
          "صغيرة فئة أ",
          "صغيرة فئة ب",
          "صغيرة فئة أ",
          "صغيرة فئة ب",
          "متوسطة فئة ج",
          "صغيرة فئة ب",
          "صغيرة فئة ب",
          "صغيرة فئة أ",
          "متوسطة فئة ب",
          "متوسطة فئة أ",
          "متوسطة فئة أ",
          "متوسطة فئة أ",
          "صغيرة فئة ب",
          "صغيرة فئة أ",
          "صغيرة فئة ب",
          "متوسطة فئة ج",
          "متوسطة فئة أ",
          "صغيرة فئة ب",
          "صغيرة فئة ب",
          "صغيرة فئة ب",
          "صغيرة فئة ب",
          "صغيرة فئة ب",
          "صغيرة فئة ب",
          "صغيرة فئة ب",
          "صغيرة فئة ب",
          "صغيرة فئة أ",
          "صغيرة فئة ب",
          "صغيرة فئة أ",
          "متوسطة فئة ب",
          "عملاقة",
          "عملاقة",
          "متوسطة فئة ب",
          "صغيرة فئة أ",
          "صغيرة فئة ب",
          "صغيرة فئة أ",
          "متوسطة فئة أ",
          "صغيرة فئة أ",
          "صغيرة فئة أ",
          "صغيرة فئة ب",
          "كبيرة",
          "صغيرة فئة ب",
          "عملاقة",
          "عملاقة",
          "عملاقة",
          "عملاقة",
          "متوسطة فئة ب",
          "متوسطة فئة ب",
          "متوسطة فئة ب",
          "صغيرة فئة ب",
          "صغيرة فئة أ",
          "متوسطة فئة ب",
          "متوسطة فئة ب",
          "متوسطة فئة ب",
          "صغيرة فئة ب",
          "صغيرة فئة أ",
          "صغيرة فئة ب",
          "صغيرة فئة أ",
          "متوسطة فئة ب",
          "متوسطة فئة ب",
          "صغيرة فئة ب",
          "متوسطة فئة ب",
          "متوسطة فئة ب",
          "متوسطة فئة ب",
          "متوسطة فئة ب",
          "كبيرة",
          "متوسطة فئة أ",
          "صغيرة فئة ب",
          "متوسطة فئة ج",
          "كبيرة",
          "صغيرة فئة ب",
          "متوسطة فئة أ",
          "صغيرة فئة ب",
          "متوسطة فئة أ",
          "صغيرة فئة أ",
          "صغيرة فئة ب",
          "صغيرة فئة ب",
          "صغيرة فئة ب",
          "صغيرة فئة أ",
          "صغيرة فئة ب",
          "صغيرة فئة ب",
          "صغيرة فئة ب",
          "صغيرة فئة أ",
          "صغيرة فئة ب",
          "صغيرة فئة ب",
          "متوسطة فئة ج",
          "صغيرة فئة ب",
          "صغيرة فئة ب",
          "كبيرة",
          "كبيرة",
          "صغيرة فئة أ",
          "صغيرة فئة أ",
          "صغيرة فئة أ",
          "صغيرة فئة أ",
          "صغيرة فئة ب",
          "صغيرة فئة ب",
          "صغيرة فئة أ",
          "صغيرة فئة ب",
          "صغيرة فئة ب",
          "متوسطة فئة أ",
          "صغيرة فئة أ",
          "صغيرة فئة أ",
          "صغيرة فئة أ",
          "صغيرة فئة أ",
          "صغيرة فئة أ",
          "صغيرة فئة أ",
          "متوسطة فئة ب",
          "صغيرة فئة ب",
          "صغيرة فئة أ",
          "صغيرة فئة ب",
          "صغيرة فئة أ",
          "متوسطة فئة ب",
          "متوسطة فئة أ",
          "صغيرة فئة ب",
          "صغيرة فئة ب",
          "صغيرة فئة ب",
          "صغيرة فئة أ",
          "صغيرة فئة أ",
          "صغيرة فئة ب",
          "كبيرة",
          "صغيرة فئة ب",
          "صغيرة فئة ب",
          "كبيرة",
          "كبيرة",
          "كبيرة",
          "متوسطة فئة أ",
          "متوسطة فئة أ",
          "صغيرة فئة أ",
          "صغيرة فئة أ",
          "صغيرة فئة ب",
          "صغيرة فئة ب",
          "صغيرة فئة أ",
          "صغيرة فئة ب",
          "صغيرة فئة ب",
          "صغيرة فئة ب",
          "صغيرة فئة ب",
          "صغيرة فئة ب",
          "صغيرة فئة ب",
          "صغيرة فئة ب",
          "متوسطة فئة ج",
          "صغيرة فئة ب",
          "صغيرة فئة ب",
          "صغيرة فئة أ",
          "صغيرة فئة ب",
          "صغيرة فئة ب",
          "عملاقة",
          "متوسطة فئة أ",
          "متوسطة فئة أ",
          "متوسطة فئة أ",
          "متوسطة فئة أ",
          "متوسطة فئة أ",
          "متوسطة فئة أ",
          "متوسطة فئة أ",
          "متوسطة فئة أ",
          "متوسطة فئة أ",
          "متوسطة فئة أ",
          "متوسطة فئة ب",
          "صغيرة فئة أ",
          "صغيرة فئة ب",
          "صغيرة فئة ب",
          "صغيرة فئة ب",
          "كبيرة",
          "متوسطة فئة ب",
          "كبيرة",
          "كبيرة",
          "كبيرة",
          "متوسطة فئة ب",
          "صغيرة فئة ب",
          "متوسطة فئة ب",
          "متوسطة فئة ب",
          "صغيرة فئة أ",
          "صغيرة فئة ب",
          "صغيرة فئة ب",
          "متوسطة فئة أ",
          "صغيرة فئة ب",
          "متوسطة فئة ب",
          "متوسطة فئة ب",
          "متوسطة فئة ب",
          "صغيرة فئة ب",
          "صغيرة فئة ب",
          "صغيرة فئة أ",
          "متوسطة فئة أ",
          "صغيرة فئة ب",
          "صغيرة فئة ب",
          "صغيرة فئة ب",
          "صغيرة فئة ب",
          "صغيرة فئة أ",
          "صغيرة فئة أ",
          "صغيرة فئة أ",
          "صغيرة فئة ب",
          "صغيرة فئة ب",
          "صغيرة فئة ب",
          "صغيرة فئة ب",
          "متوسطة فئة ب",
          "صغيرة فئة أ",
          "متوسطة فئة ج",
          "عملاقة",
          "كبيرة",
          "كبيرة",
          "متوسطة فئة ب",
          "عملاقة",
          "عملاقة",
          "صغيرة فئة ب",
          "صغيرة فئة أ",
          "صغيرة فئة ب",
          "صغيرة فئة ب",
          "صغيرة فئة ب",
          "متوسطة فئة ب",
          "متوسطة فئة أ",
          "صغيرة فئة أ",
          "صغيرة فئة أ",
          "صغيرة فئة أ",
          "صغيرة فئة ب",
          "صغيرة فئة ب",
          "صغيرة فئة ب",
          "صغيرة فئة ب",
          "صغيرة فئة ب",
          "صغيرة فئة ب",
          "صغيرة فئة ب",
          "متوسطة فئة ب",
          "صغيرة فئة أ",
          "متوسطة فئة ب",
          "متوسطة فئة ب",
          "صغيرة فئة أ",
          "متوسطة فئة أ",
          "صغيرة فئة أ",
          "متوسطة فئة ب",
          "متوسطة فئة أ",
          "صغيرة فئة أ",
          "صغيرة فئة أ",
          "صغيرة فئة ب",
          "صغيرة فئة ب",
          "متوسطة فئة أ",
          "صغيرة فئة ب",
          "متوسطة فئة أ",
          "صغيرة فئة ب",
          "صغيرة فئة ب",
          "صغيرة فئة ب",
          "صغيرة فئة ب",
          "صغيرة فئة أ",
          "صغيرة فئة ب",
          "صغيرة فئة أ",
          "متوسطة فئة ج",
          "صغيرة فئة أ",
          "متوسطة فئة أ",
          "صغيرة فئة أ",
          "صغيرة فئة ب",
          "متوسطة فئة ب",
          "صغيرة فئة أ",
          "صغيرة فئة ب",
          "صغيرة فئة أ",
          "صغيرة فئة أ",
          "متوسطة فئة ج",
          "صغيرة فئة ب",
          "متوسطة فئة ج",
          "صغيرة فئة ب",
          "متوسطة فئة ج",
          "متوسطة فئة ج",
          "صغيرة فئة ب",
          "صغيرة فئة ب",
          "متوسطة فئة ب",
          "صغيرة فئة أ",
          "صغيرة فئة ب",
          "متوسطة فئة ج",
          "متوسطة فئة ج",
          "صغيرة فئة ب",
          "متوسطة فئة أ",
          "صغيرة فئة أ",
          "صغيرة فئة ب",
          "متوسطة فئة أ",
          "متوسطة فئة أ",
          "متوسطة فئة أ",
          "صغيرة فئة أ",
          "صغيرة فئة أ",
          "متوسطة فئة أ",
          "صغيرة فئة ب",
          "صغيرة فئة ب",
          "صغيرة فئة ب",
          "متوسطة فئة أ",
          "متوسطة فئة ب",
          "متوسطة فئة ب",
          "متوسطة فئة أ",
          "متوسطة فئة ج",
          "صغيرة فئة ب",
          "متوسطة فئة ب",
          "صغيرة فئة أ",
          "صغيرة فئة ب",
          "صغيرة فئة ب",
          "متوسطة فئة ب",
          "صغيرة فئة ب",
          "صغيرة فئة ب",
          "صغيرة فئة ب",
          "صغيرة فئة ب",
          "صغيرة فئة أ",
          "صغيرة فئة أ",
          "عملاقة",
          "صغيرة فئة ب",
          "صغيرة فئة أ",
          "صغيرة فئة ب",
          "صغيرة فئة ب",
          "صغيرة فئة ب",
          "صغيرة فئة ب",
          "صغيرة فئة ب",
          "صغيرة فئة ب",
          "صغيرة فئة أ",
          "متوسطة فئة ب",
          "متوسطة فئة ج",
          "صغيرة فئة ب",
          "صغيرة فئة أ",
          "صغيرة فئة ب",
          "صغيرة فئة ب",
          "عملاقة",
          "عملاقة",
          "صغيرة فئة أ",
          "صغيرة فئة ب",
          "متوسطة فئة ب",
          "صغيرة فئة ب",
          "متوسطة فئة أ",
          "متوسطة فئة أ",
          "متوسطة فئة ب",
          "متوسطة فئة ب",
          "صغيرة فئة أ",
          "صغيرة فئة أ",
          "صغيرة فئة أ",
          "صغيرة فئة ب",
          "صغيرة فئة ب",
          "صغيرة فئة ب",
          "متوسطة فئة ب",
          "صغيرة فئة ب",
          "صغيرة فئة أ",
          "صغيرة فئة ب",
          "صغيرة فئة أ",
          "صغيرة فئة ب",
          "صغيرة فئة ب",
          "متوسطة فئة أ",
          "متوسطة فئة أ",
          "صغيرة فئة ب",
          "صغيرة فئة أ",
          "صغيرة فئة ب",
          "صغيرة فئة ب",
          "متوسطة فئة ب",
          "صغيرة فئة أ",
          "صغيرة فئة أ",
          "صغيرة فئة ب",
          "صغيرة فئة أ",
          "صغيرة فئة ب",
          "عملاقة",
          "صغيرة فئة أ",
          "صغيرة فئة ب",
          "متوسطة فئة ج",
          "متوسطة فئة ج",
          "صغيرة فئة ب",
          "صغيرة فئة أ",
          "صغيرة فئة أ",
          "صغيرة فئة ب",
          "صغيرة فئة ب",
          "صغيرة فئة ب",
          "صغيرة فئة ب",
          "صغيرة فئة ب",
          "صغيرة فئة ب",
          "صغيرة فئة أ",
          "صغيرة فئة ب",
          "صغيرة فئة ب",
          "صغيرة فئة أ",
          "صغيرة فئة أ",
          "صغيرة فئة أ",
          "صغيرة فئة أ",
          "صغيرة فئة أ",
          "صغيرة فئة أ",
          "صغيرة فئة ب",
          "صغيرة فئة ب",
          "صغيرة فئة أ",
          "متوسطة فئة أ",
          "صغيرة فئة أ",
          "صغيرة فئة ب",
          "صغيرة فئة ب",
          "صغيرة فئة أ",
          "صغيرة فئة أ",
          "صغيرة فئة ب",
          "صغيرة فئة ب",
          "متوسطة فئة ب",
          "صغيرة فئة ب",
          "متوسطة فئة ج",
          "صغيرة فئة ب",
          "صغيرة فئة ب",
          "كبيرة",
          "صغيرة فئة ب",
          "صغيرة فئة أ",
          "صغيرة فئة ب",
          "متوسطة فئة ج",
          "صغيرة فئة أ",
          "متوسطة فئة أ",
          "صغيرة فئة أ",
          "صغيرة فئة ب",
          "كبيرة",
          "كبيرة",
          "كبيرة",
          "كبيرة",
          "كبيرة",
          "كبيرة",
          "كبيرة",
          "عملاقة",
          "كبيرة",
          "صغيرة فئة ب",
          "صغيرة فئة أ",
          "صغيرة فئة ب",
          "صغيرة فئة ب",
          "كبيرة",
          "متوسطة فئة ج",
          "متوسطة فئة ج",
          "متوسطة فئة ج",
          "صغيرة فئة أ",
          "متوسطة فئة ج",
          "متوسطة فئة ج",
          "صغيرة فئة أ",
          "صغيرة فئة ب",
          "متوسطة فئة أ",
          "صغيرة فئة أ",
          "صغيرة فئة أ",
          "متوسطة فئة أ",
          "صغيرة فئة ب",
          "صغيرة فئة ب",
          "صغيرة فئة ب",
          "متوسطة فئة ج",
          "صغيرة فئة أ",
          "كبيرة",
          "صغيرة فئة ب",
          "صغيرة فئة ب",
          "صغيرة فئة أ",
          "صغيرة فئة ب",
          "صغيرة فئة ب",
          "متوسطة فئة ب",
          "متوسطة فئة ب",
          "متوسطة فئة ج",
          "صغيرة فئة ب",
          "صغيرة فئة ب",
          "متوسطة فئة ب",
          "متوسطة فئة أ",
          "صغيرة فئة ب",
          "صغيرة فئة أ",
          "صغيرة فئة ب",
          "صغيرة فئة ب",
          "صغيرة فئة أ",
          "صغيرة فئة أ",
          "صغيرة فئة ب",
          "صغيرة فئة أ",
          "صغيرة فئة أ",
          "متوسطة فئة أ",
          "متوسطة فئة أ",
          "صغيرة فئة ب",
          "صغيرة فئة أ",
          "متوسطة فئة أ",
          "متوسطة فئة أ",
          "صغيرة فئة ب",
          "صغيرة فئة ب",
          "صغيرة فئة ب",
          "صغيرة فئة أ",
          "صغيرة فئة أ",
          "متوسطة فئة ج",
          "متوسطة فئة ج",
          "متوسطة فئة ج",
          "متوسطة فئة ج",
          "متوسطة فئة ج",
          "متوسطة فئة ج",
          "متوسطة فئة ج",
          "صغيرة فئة ب",
          "صغيرة فئة أ",
          "صغيرة فئة أ",
          "صغيرة فئة ب",
          "صغيرة فئة ب",
          "صغيرة فئة أ",
          "صغيرة فئة أ",
          "صغيرة فئة أ",
          "متوسطة فئة ب",
          "متوسطة فئة ب",
          "صغيرة فئة أ",
          "صغيرة فئة أ",
          "صغيرة فئة ب",
          "صغيرة فئة أ",
          "صغيرة فئة ب",
          "متوسطة فئة ب",
          "صغيرة فئة ب",
          "متوسطة فئة أ",
          "صغيرة فئة ب",
          "صغيرة فئة ب",
          "صغيرة فئة ب",
          "صغيرة فئة ب",
          "صغيرة فئة ب",
          "صغيرة فئة ب",
          "متوسطة فئة أ",
          "صغيرة فئة ب",
          "صغيرة فئة ب",
          "صغيرة فئة ب",
          "صغيرة فئة ب",
          "صغيرة فئة ب",
          "متوسطة فئة ب",
          "صغيرة فئة أ",
          "صغيرة فئة أ",
          "صغيرة فئة ب",
          "صغيرة فئة ب",
          "صغيرة فئة ب",
          "صغيرة فئة ب",
          "صغيرة فئة أ",
          "صغيرة فئة ب",
          "صغيرة فئة ب",
          "صغيرة فئة أ",
          "كبيرة",
          "صغيرة فئة أ",
          "صغيرة فئة أ",
          "صغيرة فئة أ",
          "صغيرة فئة ب",
          "صغيرة فئة ب",
          "صغيرة فئة ب",
          "كبيرة",
          "متوسطة فئة ج",
          "صغيرة فئة ب",
          "متوسطة فئة ب",
          "متوسطة فئة ب",
          "صغيرة فئة ب",
          "صغيرة فئة ب",
          "صغيرة فئة ب",
          "صغيرة فئة ب",
          "صغيرة فئة ب",
          "صغيرة فئة ب",
          "صغيرة فئة أ",
          "كبيرة",
          "صغيرة فئة أ",
          "صغيرة فئة ب",
          "صغيرة فئة ب",
          "صغيرة فئة ب",
          "صغيرة فئة ب",
          "متوسطة فئة ب",
          "صغيرة فئة ب",
          "صغيرة فئة ب",
          "صغيرة فئة ب",
          "صغيرة فئة ب",
          "صغيرة فئة ب",
          "صغيرة فئة أ",
          "صغيرة فئة ب",
          "صغيرة فئة ب",
          "متوسطة فئة أ",
          "متوسطة فئة أ",
          "صغيرة فئة أ",
          "متوسطة فئة ج",
          "متوسطة فئة ب",
          "صغيرة فئة أ",
          "صغيرة فئة ب",
          "صغيرة فئة أ",
          "صغيرة فئة ب",
          "متوسطة فئة أ",
          "صغيرة فئة ب",
          "صغيرة فئة أ",
          "صغيرة فئة ب",
          "متوسطة فئة أ",
          "صغيرة فئة ب",
          "صغيرة فئة ب",
          "صغيرة فئة ب",
          "صغيرة فئة أ",
          "صغيرة فئة أ",
          "صغيرة فئة ب",
          "صغيرة فئة ب"
         ],
         "legendgroup": "",
         "name": "",
         "showlegend": true,
         "type": "pie",
         "values": [
          0,
          0,
          0,
          0,
          0,
          0,
          0,
          0,
          0,
          0,
          0,
          0,
          0,
          0,
          0,
          0,
          0,
          0,
          0,
          0,
          0,
          0,
          0,
          0,
          0,
          0,
          0,
          0,
          0,
          0,
          0,
          0,
          0,
          0,
          0,
          0,
          0,
          0,
          0,
          0,
          0,
          0,
          0,
          0,
          0,
          0,
          0,
          0,
          0,
          0,
          0,
          0,
          0,
          0,
          0,
          0,
          0,
          0,
          0,
          0,
          0,
          0,
          0,
          0,
          0,
          0,
          0,
          0,
          0,
          0,
          0,
          0,
          0,
          0,
          0,
          0,
          0,
          0,
          0,
          0,
          0,
          0,
          0,
          0,
          0,
          0,
          0,
          0,
          0,
          0,
          0,
          0,
          0,
          0,
          0,
          0,
          0,
          0,
          0,
          0,
          0,
          0,
          0,
          0,
          0,
          0,
          0,
          0,
          0,
          0,
          0,
          0,
          0,
          0,
          1,
          0,
          0,
          0,
          0,
          0,
          0,
          0,
          0,
          0,
          0,
          0,
          0,
          0,
          0,
          0,
          0,
          0,
          0,
          0,
          0,
          0,
          0,
          0,
          0,
          0,
          0,
          0,
          0,
          0,
          0,
          0,
          0,
          0,
          0,
          0,
          0,
          0,
          0,
          0,
          0,
          0,
          0,
          0,
          0,
          0,
          0,
          0,
          0,
          0,
          0,
          0,
          0,
          0,
          0,
          0,
          0,
          0,
          0,
          0,
          0,
          0,
          0,
          0,
          0,
          0,
          0,
          0,
          0,
          0,
          0,
          0,
          0,
          0,
          0,
          0,
          0,
          0,
          0,
          0,
          0,
          0,
          0,
          0,
          0,
          0,
          0,
          0,
          0,
          0,
          0,
          0,
          0,
          0,
          0,
          0,
          0,
          0,
          0,
          0,
          0,
          0,
          0,
          0,
          0,
          0,
          0,
          0,
          0,
          0,
          0,
          0,
          0,
          0,
          0,
          0,
          0,
          0,
          0,
          0,
          0,
          0,
          0,
          0,
          0,
          0,
          0,
          0,
          0,
          0,
          0,
          0,
          0,
          0,
          0,
          0,
          0,
          0,
          0,
          0,
          0,
          0,
          0,
          5,
          1,
          0,
          0,
          0,
          0,
          0,
          0,
          0,
          0,
          0,
          0,
          0,
          0,
          0,
          0,
          0,
          0,
          0,
          0,
          0,
          0,
          0,
          0,
          0,
          0,
          0,
          0,
          0,
          0,
          0,
          0,
          0,
          0,
          0,
          0,
          0,
          0,
          0,
          0,
          0,
          0,
          0,
          0,
          0,
          0,
          0,
          0,
          0,
          0,
          0,
          0,
          0,
          0,
          0,
          0,
          0,
          0,
          0,
          0,
          0,
          0,
          0,
          0,
          0,
          0,
          0,
          0,
          0,
          0,
          0,
          0,
          0,
          0,
          0,
          0,
          0,
          0,
          0,
          0,
          0,
          0,
          0,
          0,
          0,
          0,
          0,
          0,
          0,
          0,
          0,
          0,
          0,
          0,
          0,
          0,
          0,
          0,
          0,
          0,
          0,
          0,
          0,
          0,
          0,
          0,
          0,
          0,
          0,
          0,
          0,
          0,
          0,
          0,
          0,
          0,
          0,
          0,
          0,
          0,
          0,
          0,
          0,
          0,
          0,
          0,
          0,
          0,
          0,
          0,
          0,
          0,
          0,
          0,
          0,
          0,
          0,
          0,
          0,
          0,
          0,
          0,
          0,
          0,
          0,
          0,
          0,
          0,
          0,
          0,
          0,
          0,
          0,
          0,
          0,
          0,
          0,
          0,
          0,
          0,
          0,
          0,
          0,
          0,
          0,
          0,
          0,
          0,
          0,
          0,
          0,
          0,
          0,
          0,
          0,
          0,
          0,
          0,
          0,
          0,
          0,
          0,
          0,
          0,
          0,
          0,
          0,
          0,
          0,
          0,
          0,
          0,
          0,
          0,
          0,
          0,
          0,
          0,
          0,
          0,
          1,
          0,
          0,
          0,
          0,
          0,
          0,
          0,
          0,
          0,
          0,
          0,
          0,
          0,
          0,
          0,
          0,
          0,
          0,
          0,
          0,
          0,
          0,
          0,
          0,
          0,
          0,
          0,
          0,
          0,
          0,
          0,
          0,
          0,
          0,
          0,
          0,
          0,
          0,
          0,
          0,
          0,
          0,
          0,
          0,
          0,
          0,
          0,
          0,
          0,
          0,
          0,
          0,
          0,
          0,
          0,
          0,
          0,
          0,
          0,
          0,
          0,
          0,
          0,
          0,
          0,
          0,
          0,
          0,
          0,
          0,
          0,
          0,
          0,
          0,
          0,
          0,
          0,
          0,
          0,
          0,
          0,
          0,
          0,
          0,
          0,
          0,
          0,
          0,
          0,
          0,
          0,
          0,
          0,
          0,
          0,
          0,
          0,
          0,
          0,
          0,
          0,
          0,
          0,
          0,
          0,
          0,
          0,
          0,
          0,
          0,
          0,
          0,
          0,
          0,
          0,
          0,
          0,
          0,
          0,
          0,
          0,
          0,
          0,
          0,
          0,
          0,
          0,
          0,
          0,
          0,
          0,
          0,
          0,
          0,
          0,
          0,
          0,
          0,
          0,
          0,
          0,
          0,
          0,
          0,
          0,
          0,
          0,
          0,
          0,
          1,
          0,
          0,
          0,
          0,
          0,
          0,
          0,
          0,
          0,
          0,
          0,
          0,
          0,
          0,
          0,
          0,
          0,
          0,
          0,
          0,
          0,
          0,
          0,
          0,
          0,
          0,
          0,
          0,
          0,
          0,
          0,
          0,
          0,
          0,
          0,
          0,
          0,
          0,
          0,
          0,
          0,
          0,
          0,
          0,
          0,
          0,
          0,
          0,
          0,
          0,
          0,
          0,
          0,
          1,
          1,
          0,
          0,
          0,
          0,
          0,
          0,
          0,
          1,
          0,
          0,
          0,
          0,
          0,
          0,
          0,
          0,
          0,
          0,
          0,
          0,
          0,
          0,
          0,
          0,
          0,
          0,
          0,
          0,
          0,
          0,
          0,
          0,
          1,
          1,
          0,
          0,
          0,
          0,
          0
         ]
        }
       ],
       "layout": {
        "legend": {
         "tracegroupgap": 0
        },
        "template": {
         "data": {
          "bar": [
           {
            "error_x": {
             "color": "#2a3f5f"
            },
            "error_y": {
             "color": "#2a3f5f"
            },
            "marker": {
             "line": {
              "color": "#E5ECF6",
              "width": 0.5
             },
             "pattern": {
              "fillmode": "overlay",
              "size": 10,
              "solidity": 0.2
             }
            },
            "type": "bar"
           }
          ],
          "barpolar": [
           {
            "marker": {
             "line": {
              "color": "#E5ECF6",
              "width": 0.5
             },
             "pattern": {
              "fillmode": "overlay",
              "size": 10,
              "solidity": 0.2
             }
            },
            "type": "barpolar"
           }
          ],
          "carpet": [
           {
            "aaxis": {
             "endlinecolor": "#2a3f5f",
             "gridcolor": "white",
             "linecolor": "white",
             "minorgridcolor": "white",
             "startlinecolor": "#2a3f5f"
            },
            "baxis": {
             "endlinecolor": "#2a3f5f",
             "gridcolor": "white",
             "linecolor": "white",
             "minorgridcolor": "white",
             "startlinecolor": "#2a3f5f"
            },
            "type": "carpet"
           }
          ],
          "choropleth": [
           {
            "colorbar": {
             "outlinewidth": 0,
             "ticks": ""
            },
            "type": "choropleth"
           }
          ],
          "contour": [
           {
            "colorbar": {
             "outlinewidth": 0,
             "ticks": ""
            },
            "colorscale": [
             [
              0,
              "#0d0887"
             ],
             [
              0.1111111111111111,
              "#46039f"
             ],
             [
              0.2222222222222222,
              "#7201a8"
             ],
             [
              0.3333333333333333,
              "#9c179e"
             ],
             [
              0.4444444444444444,
              "#bd3786"
             ],
             [
              0.5555555555555556,
              "#d8576b"
             ],
             [
              0.6666666666666666,
              "#ed7953"
             ],
             [
              0.7777777777777778,
              "#fb9f3a"
             ],
             [
              0.8888888888888888,
              "#fdca26"
             ],
             [
              1,
              "#f0f921"
             ]
            ],
            "type": "contour"
           }
          ],
          "contourcarpet": [
           {
            "colorbar": {
             "outlinewidth": 0,
             "ticks": ""
            },
            "type": "contourcarpet"
           }
          ],
          "heatmap": [
           {
            "colorbar": {
             "outlinewidth": 0,
             "ticks": ""
            },
            "colorscale": [
             [
              0,
              "#0d0887"
             ],
             [
              0.1111111111111111,
              "#46039f"
             ],
             [
              0.2222222222222222,
              "#7201a8"
             ],
             [
              0.3333333333333333,
              "#9c179e"
             ],
             [
              0.4444444444444444,
              "#bd3786"
             ],
             [
              0.5555555555555556,
              "#d8576b"
             ],
             [
              0.6666666666666666,
              "#ed7953"
             ],
             [
              0.7777777777777778,
              "#fb9f3a"
             ],
             [
              0.8888888888888888,
              "#fdca26"
             ],
             [
              1,
              "#f0f921"
             ]
            ],
            "type": "heatmap"
           }
          ],
          "heatmapgl": [
           {
            "colorbar": {
             "outlinewidth": 0,
             "ticks": ""
            },
            "colorscale": [
             [
              0,
              "#0d0887"
             ],
             [
              0.1111111111111111,
              "#46039f"
             ],
             [
              0.2222222222222222,
              "#7201a8"
             ],
             [
              0.3333333333333333,
              "#9c179e"
             ],
             [
              0.4444444444444444,
              "#bd3786"
             ],
             [
              0.5555555555555556,
              "#d8576b"
             ],
             [
              0.6666666666666666,
              "#ed7953"
             ],
             [
              0.7777777777777778,
              "#fb9f3a"
             ],
             [
              0.8888888888888888,
              "#fdca26"
             ],
             [
              1,
              "#f0f921"
             ]
            ],
            "type": "heatmapgl"
           }
          ],
          "histogram": [
           {
            "marker": {
             "pattern": {
              "fillmode": "overlay",
              "size": 10,
              "solidity": 0.2
             }
            },
            "type": "histogram"
           }
          ],
          "histogram2d": [
           {
            "colorbar": {
             "outlinewidth": 0,
             "ticks": ""
            },
            "colorscale": [
             [
              0,
              "#0d0887"
             ],
             [
              0.1111111111111111,
              "#46039f"
             ],
             [
              0.2222222222222222,
              "#7201a8"
             ],
             [
              0.3333333333333333,
              "#9c179e"
             ],
             [
              0.4444444444444444,
              "#bd3786"
             ],
             [
              0.5555555555555556,
              "#d8576b"
             ],
             [
              0.6666666666666666,
              "#ed7953"
             ],
             [
              0.7777777777777778,
              "#fb9f3a"
             ],
             [
              0.8888888888888888,
              "#fdca26"
             ],
             [
              1,
              "#f0f921"
             ]
            ],
            "type": "histogram2d"
           }
          ],
          "histogram2dcontour": [
           {
            "colorbar": {
             "outlinewidth": 0,
             "ticks": ""
            },
            "colorscale": [
             [
              0,
              "#0d0887"
             ],
             [
              0.1111111111111111,
              "#46039f"
             ],
             [
              0.2222222222222222,
              "#7201a8"
             ],
             [
              0.3333333333333333,
              "#9c179e"
             ],
             [
              0.4444444444444444,
              "#bd3786"
             ],
             [
              0.5555555555555556,
              "#d8576b"
             ],
             [
              0.6666666666666666,
              "#ed7953"
             ],
             [
              0.7777777777777778,
              "#fb9f3a"
             ],
             [
              0.8888888888888888,
              "#fdca26"
             ],
             [
              1,
              "#f0f921"
             ]
            ],
            "type": "histogram2dcontour"
           }
          ],
          "mesh3d": [
           {
            "colorbar": {
             "outlinewidth": 0,
             "ticks": ""
            },
            "type": "mesh3d"
           }
          ],
          "parcoords": [
           {
            "line": {
             "colorbar": {
              "outlinewidth": 0,
              "ticks": ""
             }
            },
            "type": "parcoords"
           }
          ],
          "pie": [
           {
            "automargin": true,
            "type": "pie"
           }
          ],
          "scatter": [
           {
            "fillpattern": {
             "fillmode": "overlay",
             "size": 10,
             "solidity": 0.2
            },
            "type": "scatter"
           }
          ],
          "scatter3d": [
           {
            "line": {
             "colorbar": {
              "outlinewidth": 0,
              "ticks": ""
             }
            },
            "marker": {
             "colorbar": {
              "outlinewidth": 0,
              "ticks": ""
             }
            },
            "type": "scatter3d"
           }
          ],
          "scattercarpet": [
           {
            "marker": {
             "colorbar": {
              "outlinewidth": 0,
              "ticks": ""
             }
            },
            "type": "scattercarpet"
           }
          ],
          "scattergeo": [
           {
            "marker": {
             "colorbar": {
              "outlinewidth": 0,
              "ticks": ""
             }
            },
            "type": "scattergeo"
           }
          ],
          "scattergl": [
           {
            "marker": {
             "colorbar": {
              "outlinewidth": 0,
              "ticks": ""
             }
            },
            "type": "scattergl"
           }
          ],
          "scattermapbox": [
           {
            "marker": {
             "colorbar": {
              "outlinewidth": 0,
              "ticks": ""
             }
            },
            "type": "scattermapbox"
           }
          ],
          "scatterpolar": [
           {
            "marker": {
             "colorbar": {
              "outlinewidth": 0,
              "ticks": ""
             }
            },
            "type": "scatterpolar"
           }
          ],
          "scatterpolargl": [
           {
            "marker": {
             "colorbar": {
              "outlinewidth": 0,
              "ticks": ""
             }
            },
            "type": "scatterpolargl"
           }
          ],
          "scatterternary": [
           {
            "marker": {
             "colorbar": {
              "outlinewidth": 0,
              "ticks": ""
             }
            },
            "type": "scatterternary"
           }
          ],
          "surface": [
           {
            "colorbar": {
             "outlinewidth": 0,
             "ticks": ""
            },
            "colorscale": [
             [
              0,
              "#0d0887"
             ],
             [
              0.1111111111111111,
              "#46039f"
             ],
             [
              0.2222222222222222,
              "#7201a8"
             ],
             [
              0.3333333333333333,
              "#9c179e"
             ],
             [
              0.4444444444444444,
              "#bd3786"
             ],
             [
              0.5555555555555556,
              "#d8576b"
             ],
             [
              0.6666666666666666,
              "#ed7953"
             ],
             [
              0.7777777777777778,
              "#fb9f3a"
             ],
             [
              0.8888888888888888,
              "#fdca26"
             ],
             [
              1,
              "#f0f921"
             ]
            ],
            "type": "surface"
           }
          ],
          "table": [
           {
            "cells": {
             "fill": {
              "color": "#EBF0F8"
             },
             "line": {
              "color": "white"
             }
            },
            "header": {
             "fill": {
              "color": "#C8D4E3"
             },
             "line": {
              "color": "white"
             }
            },
            "type": "table"
           }
          ]
         },
         "layout": {
          "annotationdefaults": {
           "arrowcolor": "#2a3f5f",
           "arrowhead": 0,
           "arrowwidth": 1
          },
          "autotypenumbers": "strict",
          "coloraxis": {
           "colorbar": {
            "outlinewidth": 0,
            "ticks": ""
           }
          },
          "colorscale": {
           "diverging": [
            [
             0,
             "#8e0152"
            ],
            [
             0.1,
             "#c51b7d"
            ],
            [
             0.2,
             "#de77ae"
            ],
            [
             0.3,
             "#f1b6da"
            ],
            [
             0.4,
             "#fde0ef"
            ],
            [
             0.5,
             "#f7f7f7"
            ],
            [
             0.6,
             "#e6f5d0"
            ],
            [
             0.7,
             "#b8e186"
            ],
            [
             0.8,
             "#7fbc41"
            ],
            [
             0.9,
             "#4d9221"
            ],
            [
             1,
             "#276419"
            ]
           ],
           "sequential": [
            [
             0,
             "#0d0887"
            ],
            [
             0.1111111111111111,
             "#46039f"
            ],
            [
             0.2222222222222222,
             "#7201a8"
            ],
            [
             0.3333333333333333,
             "#9c179e"
            ],
            [
             0.4444444444444444,
             "#bd3786"
            ],
            [
             0.5555555555555556,
             "#d8576b"
            ],
            [
             0.6666666666666666,
             "#ed7953"
            ],
            [
             0.7777777777777778,
             "#fb9f3a"
            ],
            [
             0.8888888888888888,
             "#fdca26"
            ],
            [
             1,
             "#f0f921"
            ]
           ],
           "sequentialminus": [
            [
             0,
             "#0d0887"
            ],
            [
             0.1111111111111111,
             "#46039f"
            ],
            [
             0.2222222222222222,
             "#7201a8"
            ],
            [
             0.3333333333333333,
             "#9c179e"
            ],
            [
             0.4444444444444444,
             "#bd3786"
            ],
            [
             0.5555555555555556,
             "#d8576b"
            ],
            [
             0.6666666666666666,
             "#ed7953"
            ],
            [
             0.7777777777777778,
             "#fb9f3a"
            ],
            [
             0.8888888888888888,
             "#fdca26"
            ],
            [
             1,
             "#f0f921"
            ]
           ]
          },
          "colorway": [
           "#636efa",
           "#EF553B",
           "#00cc96",
           "#ab63fa",
           "#FFA15A",
           "#19d3f3",
           "#FF6692",
           "#B6E880",
           "#FF97FF",
           "#FECB52"
          ],
          "font": {
           "color": "#2a3f5f"
          },
          "geo": {
           "bgcolor": "white",
           "lakecolor": "white",
           "landcolor": "#E5ECF6",
           "showlakes": true,
           "showland": true,
           "subunitcolor": "white"
          },
          "hoverlabel": {
           "align": "left"
          },
          "hovermode": "closest",
          "mapbox": {
           "style": "light"
          },
          "paper_bgcolor": "white",
          "plot_bgcolor": "#E5ECF6",
          "polar": {
           "angularaxis": {
            "gridcolor": "white",
            "linecolor": "white",
            "ticks": ""
           },
           "bgcolor": "#E5ECF6",
           "radialaxis": {
            "gridcolor": "white",
            "linecolor": "white",
            "ticks": ""
           }
          },
          "scene": {
           "xaxis": {
            "backgroundcolor": "#E5ECF6",
            "gridcolor": "white",
            "gridwidth": 2,
            "linecolor": "white",
            "showbackground": true,
            "ticks": "",
            "zerolinecolor": "white"
           },
           "yaxis": {
            "backgroundcolor": "#E5ECF6",
            "gridcolor": "white",
            "gridwidth": 2,
            "linecolor": "white",
            "showbackground": true,
            "ticks": "",
            "zerolinecolor": "white"
           },
           "zaxis": {
            "backgroundcolor": "#E5ECF6",
            "gridcolor": "white",
            "gridwidth": 2,
            "linecolor": "white",
            "showbackground": true,
            "ticks": "",
            "zerolinecolor": "white"
           }
          },
          "shapedefaults": {
           "line": {
            "color": "#2a3f5f"
           }
          },
          "ternary": {
           "aaxis": {
            "gridcolor": "white",
            "linecolor": "white",
            "ticks": ""
           },
           "baxis": {
            "gridcolor": "white",
            "linecolor": "white",
            "ticks": ""
           },
           "bgcolor": "#E5ECF6",
           "caxis": {
            "gridcolor": "white",
            "linecolor": "white",
            "ticks": ""
           }
          },
          "title": {
           "x": 0.05
          },
          "xaxis": {
           "automargin": true,
           "gridcolor": "white",
           "linecolor": "white",
           "ticks": "",
           "title": {
            "standoff": 15
           },
           "zerolinecolor": "white",
           "zerolinewidth": 2
          },
          "yaxis": {
           "automargin": true,
           "gridcolor": "white",
           "linecolor": "white",
           "ticks": "",
           "title": {
            "standoff": 15
           },
           "zerolinecolor": "white",
           "zerolinewidth": 2
          }
         }
        },
        "title": {
         "text": "Population of European continent"
        }
       }
      }
     },
     "metadata": {},
     "output_type": "display_data"
    }
   ],
   "source": [
    "# extra Q what the open positions in compnay size\n",
    "fig = px.pie(df, values='open_positions', names='comp_size', title='Population of European continent')\n",
    "fig.show()"
   ]
  },
  {
   "cell_type": "code",
   "execution_count": 51,
   "id": "73f9f2ac-8477-49ea-9c68-4fe44d4395b6",
   "metadata": {},
   "outputs": [
    {
     "data": {
      "text/plain": [
       "job_title           object\n",
       "job_date            object\n",
       "job_desc            object\n",
       "job_tasks           object\n",
       "comp_name           object\n",
       "comp_type           object\n",
       "comp_size           object\n",
       "eco_activity        object\n",
       "qualif              object\n",
       "region              object\n",
       "city                object\n",
       "Salary             float64\n",
       "contract            object\n",
       "exper                int32\n",
       "gender              object\n",
       "total_positions      int32\n",
       "open_positions       int32\n",
       "dtype: object"
      ]
     },
     "execution_count": 51,
     "metadata": {},
     "output_type": "execute_result"
    }
   ],
   "source": [
    "df.dtypes"
   ]
  },
  {
   "cell_type": "markdown",
   "id": "730e088f-fe13-40da-8fbb-686f5135fa4d",
   "metadata": {},
   "source": [
    "**Categorical & numerical --> (scatter plot, histogram, box plot)**"
   ]
  },
  {
   "cell_type": "code",
   "execution_count": 52,
   "id": "3590e345-2051-4215-91ac-07d196b510ef",
   "metadata": {},
   "outputs": [
    {
     "data": {
      "application/vnd.plotly.v1+json": {
       "config": {
        "plotlyServerURL": "https://plot.ly"
       },
       "data": [
        {
         "type": "bar",
         "x": [
          "الرياض",
          "مكة المكرمة",
          "المنطقة الشرقية",
          "المدينة المنورة",
          "عسير",
          "القصيم",
          "الباحة",
          "تبوك",
          "جازان",
          "نجران",
          "حائل",
          "الحدود الشمالية",
          "الجوف",
          "اخرى"
         ],
         "y": [
          0.43304843304843305,
          0.28062678062678065,
          0.14387464387464388,
          0.045584045584045586,
          0.024216524216524215,
          0.022792022792022793,
          0.019943019943019943,
          0.007122507122507123,
          0.005698005698005698,
          0.005698005698005698,
          0.004273504273504274,
          0.002849002849002849,
          0.002849002849002849,
          0.0014245014245014246
         ]
        }
       ],
       "layout": {
        "template": {
         "data": {
          "bar": [
           {
            "error_x": {
             "color": "#2a3f5f"
            },
            "error_y": {
             "color": "#2a3f5f"
            },
            "marker": {
             "line": {
              "color": "#E5ECF6",
              "width": 0.5
             },
             "pattern": {
              "fillmode": "overlay",
              "size": 10,
              "solidity": 0.2
             }
            },
            "type": "bar"
           }
          ],
          "barpolar": [
           {
            "marker": {
             "line": {
              "color": "#E5ECF6",
              "width": 0.5
             },
             "pattern": {
              "fillmode": "overlay",
              "size": 10,
              "solidity": 0.2
             }
            },
            "type": "barpolar"
           }
          ],
          "carpet": [
           {
            "aaxis": {
             "endlinecolor": "#2a3f5f",
             "gridcolor": "white",
             "linecolor": "white",
             "minorgridcolor": "white",
             "startlinecolor": "#2a3f5f"
            },
            "baxis": {
             "endlinecolor": "#2a3f5f",
             "gridcolor": "white",
             "linecolor": "white",
             "minorgridcolor": "white",
             "startlinecolor": "#2a3f5f"
            },
            "type": "carpet"
           }
          ],
          "choropleth": [
           {
            "colorbar": {
             "outlinewidth": 0,
             "ticks": ""
            },
            "type": "choropleth"
           }
          ],
          "contour": [
           {
            "colorbar": {
             "outlinewidth": 0,
             "ticks": ""
            },
            "colorscale": [
             [
              0,
              "#0d0887"
             ],
             [
              0.1111111111111111,
              "#46039f"
             ],
             [
              0.2222222222222222,
              "#7201a8"
             ],
             [
              0.3333333333333333,
              "#9c179e"
             ],
             [
              0.4444444444444444,
              "#bd3786"
             ],
             [
              0.5555555555555556,
              "#d8576b"
             ],
             [
              0.6666666666666666,
              "#ed7953"
             ],
             [
              0.7777777777777778,
              "#fb9f3a"
             ],
             [
              0.8888888888888888,
              "#fdca26"
             ],
             [
              1,
              "#f0f921"
             ]
            ],
            "type": "contour"
           }
          ],
          "contourcarpet": [
           {
            "colorbar": {
             "outlinewidth": 0,
             "ticks": ""
            },
            "type": "contourcarpet"
           }
          ],
          "heatmap": [
           {
            "colorbar": {
             "outlinewidth": 0,
             "ticks": ""
            },
            "colorscale": [
             [
              0,
              "#0d0887"
             ],
             [
              0.1111111111111111,
              "#46039f"
             ],
             [
              0.2222222222222222,
              "#7201a8"
             ],
             [
              0.3333333333333333,
              "#9c179e"
             ],
             [
              0.4444444444444444,
              "#bd3786"
             ],
             [
              0.5555555555555556,
              "#d8576b"
             ],
             [
              0.6666666666666666,
              "#ed7953"
             ],
             [
              0.7777777777777778,
              "#fb9f3a"
             ],
             [
              0.8888888888888888,
              "#fdca26"
             ],
             [
              1,
              "#f0f921"
             ]
            ],
            "type": "heatmap"
           }
          ],
          "heatmapgl": [
           {
            "colorbar": {
             "outlinewidth": 0,
             "ticks": ""
            },
            "colorscale": [
             [
              0,
              "#0d0887"
             ],
             [
              0.1111111111111111,
              "#46039f"
             ],
             [
              0.2222222222222222,
              "#7201a8"
             ],
             [
              0.3333333333333333,
              "#9c179e"
             ],
             [
              0.4444444444444444,
              "#bd3786"
             ],
             [
              0.5555555555555556,
              "#d8576b"
             ],
             [
              0.6666666666666666,
              "#ed7953"
             ],
             [
              0.7777777777777778,
              "#fb9f3a"
             ],
             [
              0.8888888888888888,
              "#fdca26"
             ],
             [
              1,
              "#f0f921"
             ]
            ],
            "type": "heatmapgl"
           }
          ],
          "histogram": [
           {
            "marker": {
             "pattern": {
              "fillmode": "overlay",
              "size": 10,
              "solidity": 0.2
             }
            },
            "type": "histogram"
           }
          ],
          "histogram2d": [
           {
            "colorbar": {
             "outlinewidth": 0,
             "ticks": ""
            },
            "colorscale": [
             [
              0,
              "#0d0887"
             ],
             [
              0.1111111111111111,
              "#46039f"
             ],
             [
              0.2222222222222222,
              "#7201a8"
             ],
             [
              0.3333333333333333,
              "#9c179e"
             ],
             [
              0.4444444444444444,
              "#bd3786"
             ],
             [
              0.5555555555555556,
              "#d8576b"
             ],
             [
              0.6666666666666666,
              "#ed7953"
             ],
             [
              0.7777777777777778,
              "#fb9f3a"
             ],
             [
              0.8888888888888888,
              "#fdca26"
             ],
             [
              1,
              "#f0f921"
             ]
            ],
            "type": "histogram2d"
           }
          ],
          "histogram2dcontour": [
           {
            "colorbar": {
             "outlinewidth": 0,
             "ticks": ""
            },
            "colorscale": [
             [
              0,
              "#0d0887"
             ],
             [
              0.1111111111111111,
              "#46039f"
             ],
             [
              0.2222222222222222,
              "#7201a8"
             ],
             [
              0.3333333333333333,
              "#9c179e"
             ],
             [
              0.4444444444444444,
              "#bd3786"
             ],
             [
              0.5555555555555556,
              "#d8576b"
             ],
             [
              0.6666666666666666,
              "#ed7953"
             ],
             [
              0.7777777777777778,
              "#fb9f3a"
             ],
             [
              0.8888888888888888,
              "#fdca26"
             ],
             [
              1,
              "#f0f921"
             ]
            ],
            "type": "histogram2dcontour"
           }
          ],
          "mesh3d": [
           {
            "colorbar": {
             "outlinewidth": 0,
             "ticks": ""
            },
            "type": "mesh3d"
           }
          ],
          "parcoords": [
           {
            "line": {
             "colorbar": {
              "outlinewidth": 0,
              "ticks": ""
             }
            },
            "type": "parcoords"
           }
          ],
          "pie": [
           {
            "automargin": true,
            "type": "pie"
           }
          ],
          "scatter": [
           {
            "fillpattern": {
             "fillmode": "overlay",
             "size": 10,
             "solidity": 0.2
            },
            "type": "scatter"
           }
          ],
          "scatter3d": [
           {
            "line": {
             "colorbar": {
              "outlinewidth": 0,
              "ticks": ""
             }
            },
            "marker": {
             "colorbar": {
              "outlinewidth": 0,
              "ticks": ""
             }
            },
            "type": "scatter3d"
           }
          ],
          "scattercarpet": [
           {
            "marker": {
             "colorbar": {
              "outlinewidth": 0,
              "ticks": ""
             }
            },
            "type": "scattercarpet"
           }
          ],
          "scattergeo": [
           {
            "marker": {
             "colorbar": {
              "outlinewidth": 0,
              "ticks": ""
             }
            },
            "type": "scattergeo"
           }
          ],
          "scattergl": [
           {
            "marker": {
             "colorbar": {
              "outlinewidth": 0,
              "ticks": ""
             }
            },
            "type": "scattergl"
           }
          ],
          "scattermapbox": [
           {
            "marker": {
             "colorbar": {
              "outlinewidth": 0,
              "ticks": ""
             }
            },
            "type": "scattermapbox"
           }
          ],
          "scatterpolar": [
           {
            "marker": {
             "colorbar": {
              "outlinewidth": 0,
              "ticks": ""
             }
            },
            "type": "scatterpolar"
           }
          ],
          "scatterpolargl": [
           {
            "marker": {
             "colorbar": {
              "outlinewidth": 0,
              "ticks": ""
             }
            },
            "type": "scatterpolargl"
           }
          ],
          "scatterternary": [
           {
            "marker": {
             "colorbar": {
              "outlinewidth": 0,
              "ticks": ""
             }
            },
            "type": "scatterternary"
           }
          ],
          "surface": [
           {
            "colorbar": {
             "outlinewidth": 0,
             "ticks": ""
            },
            "colorscale": [
             [
              0,
              "#0d0887"
             ],
             [
              0.1111111111111111,
              "#46039f"
             ],
             [
              0.2222222222222222,
              "#7201a8"
             ],
             [
              0.3333333333333333,
              "#9c179e"
             ],
             [
              0.4444444444444444,
              "#bd3786"
             ],
             [
              0.5555555555555556,
              "#d8576b"
             ],
             [
              0.6666666666666666,
              "#ed7953"
             ],
             [
              0.7777777777777778,
              "#fb9f3a"
             ],
             [
              0.8888888888888888,
              "#fdca26"
             ],
             [
              1,
              "#f0f921"
             ]
            ],
            "type": "surface"
           }
          ],
          "table": [
           {
            "cells": {
             "fill": {
              "color": "#EBF0F8"
             },
             "line": {
              "color": "white"
             }
            },
            "header": {
             "fill": {
              "color": "#C8D4E3"
             },
             "line": {
              "color": "white"
             }
            },
            "type": "table"
           }
          ]
         },
         "layout": {
          "annotationdefaults": {
           "arrowcolor": "#2a3f5f",
           "arrowhead": 0,
           "arrowwidth": 1
          },
          "autotypenumbers": "strict",
          "coloraxis": {
           "colorbar": {
            "outlinewidth": 0,
            "ticks": ""
           }
          },
          "colorscale": {
           "diverging": [
            [
             0,
             "#8e0152"
            ],
            [
             0.1,
             "#c51b7d"
            ],
            [
             0.2,
             "#de77ae"
            ],
            [
             0.3,
             "#f1b6da"
            ],
            [
             0.4,
             "#fde0ef"
            ],
            [
             0.5,
             "#f7f7f7"
            ],
            [
             0.6,
             "#e6f5d0"
            ],
            [
             0.7,
             "#b8e186"
            ],
            [
             0.8,
             "#7fbc41"
            ],
            [
             0.9,
             "#4d9221"
            ],
            [
             1,
             "#276419"
            ]
           ],
           "sequential": [
            [
             0,
             "#0d0887"
            ],
            [
             0.1111111111111111,
             "#46039f"
            ],
            [
             0.2222222222222222,
             "#7201a8"
            ],
            [
             0.3333333333333333,
             "#9c179e"
            ],
            [
             0.4444444444444444,
             "#bd3786"
            ],
            [
             0.5555555555555556,
             "#d8576b"
            ],
            [
             0.6666666666666666,
             "#ed7953"
            ],
            [
             0.7777777777777778,
             "#fb9f3a"
            ],
            [
             0.8888888888888888,
             "#fdca26"
            ],
            [
             1,
             "#f0f921"
            ]
           ],
           "sequentialminus": [
            [
             0,
             "#0d0887"
            ],
            [
             0.1111111111111111,
             "#46039f"
            ],
            [
             0.2222222222222222,
             "#7201a8"
            ],
            [
             0.3333333333333333,
             "#9c179e"
            ],
            [
             0.4444444444444444,
             "#bd3786"
            ],
            [
             0.5555555555555556,
             "#d8576b"
            ],
            [
             0.6666666666666666,
             "#ed7953"
            ],
            [
             0.7777777777777778,
             "#fb9f3a"
            ],
            [
             0.8888888888888888,
             "#fdca26"
            ],
            [
             1,
             "#f0f921"
            ]
           ]
          },
          "colorway": [
           "#636efa",
           "#EF553B",
           "#00cc96",
           "#ab63fa",
           "#FFA15A",
           "#19d3f3",
           "#FF6692",
           "#B6E880",
           "#FF97FF",
           "#FECB52"
          ],
          "font": {
           "color": "#2a3f5f"
          },
          "geo": {
           "bgcolor": "white",
           "lakecolor": "white",
           "landcolor": "#E5ECF6",
           "showlakes": true,
           "showland": true,
           "subunitcolor": "white"
          },
          "hoverlabel": {
           "align": "left"
          },
          "hovermode": "closest",
          "mapbox": {
           "style": "light"
          },
          "paper_bgcolor": "white",
          "plot_bgcolor": "#E5ECF6",
          "polar": {
           "angularaxis": {
            "gridcolor": "white",
            "linecolor": "white",
            "ticks": ""
           },
           "bgcolor": "#E5ECF6",
           "radialaxis": {
            "gridcolor": "white",
            "linecolor": "white",
            "ticks": ""
           }
          },
          "scene": {
           "xaxis": {
            "backgroundcolor": "#E5ECF6",
            "gridcolor": "white",
            "gridwidth": 2,
            "linecolor": "white",
            "showbackground": true,
            "ticks": "",
            "zerolinecolor": "white"
           },
           "yaxis": {
            "backgroundcolor": "#E5ECF6",
            "gridcolor": "white",
            "gridwidth": 2,
            "linecolor": "white",
            "showbackground": true,
            "ticks": "",
            "zerolinecolor": "white"
           },
           "zaxis": {
            "backgroundcolor": "#E5ECF6",
            "gridcolor": "white",
            "gridwidth": 2,
            "linecolor": "white",
            "showbackground": true,
            "ticks": "",
            "zerolinecolor": "white"
           }
          },
          "shapedefaults": {
           "line": {
            "color": "#2a3f5f"
           }
          },
          "ternary": {
           "aaxis": {
            "gridcolor": "white",
            "linecolor": "white",
            "ticks": ""
           },
           "baxis": {
            "gridcolor": "white",
            "linecolor": "white",
            "ticks": ""
           },
           "bgcolor": "#E5ECF6",
           "caxis": {
            "gridcolor": "white",
            "linecolor": "white",
            "ticks": ""
           }
          },
          "title": {
           "x": 0.05
          },
          "xaxis": {
           "automargin": true,
           "gridcolor": "white",
           "linecolor": "white",
           "ticks": "",
           "title": {
            "standoff": 15
           },
           "zerolinecolor": "white",
           "zerolinewidth": 2
          },
          "yaxis": {
           "automargin": true,
           "gridcolor": "white",
           "linecolor": "white",
           "ticks": "",
           "title": {
            "standoff": 15
           },
           "zerolinecolor": "white",
           "zerolinewidth": 2
          }
         }
        },
        "xaxis": {
         "title": {
          "text": "Region"
         }
        },
        "yaxis": {
         "title": {
          "text": "Proportion"
         }
        }
       }
      }
     },
     "metadata": {},
     "output_type": "display_data"
    }
   ],
   "source": [
    "# 1.  What proportion of job postings is attributed to each region within the kingdom?\n",
    "Rcounts = df['region'].value_counts()\n",
    "\n",
    "region_proportions = Rcounts / Rcounts.sum()\n",
    "\n",
    "fig = go.Figure(data=[go.Bar(x=region_proportions.index, y=region_proportions.values)])\n",
    "\n",
    "\n",
    "fig.update_layout(xaxis_title='Region',yaxis_title='Proportion')\n",
    "\n",
    "fig.show()\n"
   ]
  },
  {
   "cell_type": "markdown",
   "id": "20aed48d-b78e-46da-963f-e7f15e2f4dc7",
   "metadata": {},
   "source": [
    "**numerical & numerical --> (Scatter plot, line chart)**"
   ]
  },
  {
   "cell_type": "code",
   "execution_count": 53,
   "id": "41023177-01cb-4f39-a750-12be71b13bda",
   "metadata": {},
   "outputs": [
    {
     "data": {
      "application/vnd.plotly.v1+json": {
       "config": {
        "plotlyServerURL": "https://plot.ly"
       },
       "data": [
        {
         "type": "bar",
         "x": [
          0,
          2,
          4,
          7,
          10,
          12
         ],
         "y": [
          335,
          254,
          87,
          16,
          7,
          3
         ]
        }
       ],
       "layout": {
        "template": {
         "data": {
          "bar": [
           {
            "error_x": {
             "color": "#2a3f5f"
            },
            "error_y": {
             "color": "#2a3f5f"
            },
            "marker": {
             "line": {
              "color": "#E5ECF6",
              "width": 0.5
             },
             "pattern": {
              "fillmode": "overlay",
              "size": 10,
              "solidity": 0.2
             }
            },
            "type": "bar"
           }
          ],
          "barpolar": [
           {
            "marker": {
             "line": {
              "color": "#E5ECF6",
              "width": 0.5
             },
             "pattern": {
              "fillmode": "overlay",
              "size": 10,
              "solidity": 0.2
             }
            },
            "type": "barpolar"
           }
          ],
          "carpet": [
           {
            "aaxis": {
             "endlinecolor": "#2a3f5f",
             "gridcolor": "white",
             "linecolor": "white",
             "minorgridcolor": "white",
             "startlinecolor": "#2a3f5f"
            },
            "baxis": {
             "endlinecolor": "#2a3f5f",
             "gridcolor": "white",
             "linecolor": "white",
             "minorgridcolor": "white",
             "startlinecolor": "#2a3f5f"
            },
            "type": "carpet"
           }
          ],
          "choropleth": [
           {
            "colorbar": {
             "outlinewidth": 0,
             "ticks": ""
            },
            "type": "choropleth"
           }
          ],
          "contour": [
           {
            "colorbar": {
             "outlinewidth": 0,
             "ticks": ""
            },
            "colorscale": [
             [
              0,
              "#0d0887"
             ],
             [
              0.1111111111111111,
              "#46039f"
             ],
             [
              0.2222222222222222,
              "#7201a8"
             ],
             [
              0.3333333333333333,
              "#9c179e"
             ],
             [
              0.4444444444444444,
              "#bd3786"
             ],
             [
              0.5555555555555556,
              "#d8576b"
             ],
             [
              0.6666666666666666,
              "#ed7953"
             ],
             [
              0.7777777777777778,
              "#fb9f3a"
             ],
             [
              0.8888888888888888,
              "#fdca26"
             ],
             [
              1,
              "#f0f921"
             ]
            ],
            "type": "contour"
           }
          ],
          "contourcarpet": [
           {
            "colorbar": {
             "outlinewidth": 0,
             "ticks": ""
            },
            "type": "contourcarpet"
           }
          ],
          "heatmap": [
           {
            "colorbar": {
             "outlinewidth": 0,
             "ticks": ""
            },
            "colorscale": [
             [
              0,
              "#0d0887"
             ],
             [
              0.1111111111111111,
              "#46039f"
             ],
             [
              0.2222222222222222,
              "#7201a8"
             ],
             [
              0.3333333333333333,
              "#9c179e"
             ],
             [
              0.4444444444444444,
              "#bd3786"
             ],
             [
              0.5555555555555556,
              "#d8576b"
             ],
             [
              0.6666666666666666,
              "#ed7953"
             ],
             [
              0.7777777777777778,
              "#fb9f3a"
             ],
             [
              0.8888888888888888,
              "#fdca26"
             ],
             [
              1,
              "#f0f921"
             ]
            ],
            "type": "heatmap"
           }
          ],
          "heatmapgl": [
           {
            "colorbar": {
             "outlinewidth": 0,
             "ticks": ""
            },
            "colorscale": [
             [
              0,
              "#0d0887"
             ],
             [
              0.1111111111111111,
              "#46039f"
             ],
             [
              0.2222222222222222,
              "#7201a8"
             ],
             [
              0.3333333333333333,
              "#9c179e"
             ],
             [
              0.4444444444444444,
              "#bd3786"
             ],
             [
              0.5555555555555556,
              "#d8576b"
             ],
             [
              0.6666666666666666,
              "#ed7953"
             ],
             [
              0.7777777777777778,
              "#fb9f3a"
             ],
             [
              0.8888888888888888,
              "#fdca26"
             ],
             [
              1,
              "#f0f921"
             ]
            ],
            "type": "heatmapgl"
           }
          ],
          "histogram": [
           {
            "marker": {
             "pattern": {
              "fillmode": "overlay",
              "size": 10,
              "solidity": 0.2
             }
            },
            "type": "histogram"
           }
          ],
          "histogram2d": [
           {
            "colorbar": {
             "outlinewidth": 0,
             "ticks": ""
            },
            "colorscale": [
             [
              0,
              "#0d0887"
             ],
             [
              0.1111111111111111,
              "#46039f"
             ],
             [
              0.2222222222222222,
              "#7201a8"
             ],
             [
              0.3333333333333333,
              "#9c179e"
             ],
             [
              0.4444444444444444,
              "#bd3786"
             ],
             [
              0.5555555555555556,
              "#d8576b"
             ],
             [
              0.6666666666666666,
              "#ed7953"
             ],
             [
              0.7777777777777778,
              "#fb9f3a"
             ],
             [
              0.8888888888888888,
              "#fdca26"
             ],
             [
              1,
              "#f0f921"
             ]
            ],
            "type": "histogram2d"
           }
          ],
          "histogram2dcontour": [
           {
            "colorbar": {
             "outlinewidth": 0,
             "ticks": ""
            },
            "colorscale": [
             [
              0,
              "#0d0887"
             ],
             [
              0.1111111111111111,
              "#46039f"
             ],
             [
              0.2222222222222222,
              "#7201a8"
             ],
             [
              0.3333333333333333,
              "#9c179e"
             ],
             [
              0.4444444444444444,
              "#bd3786"
             ],
             [
              0.5555555555555556,
              "#d8576b"
             ],
             [
              0.6666666666666666,
              "#ed7953"
             ],
             [
              0.7777777777777778,
              "#fb9f3a"
             ],
             [
              0.8888888888888888,
              "#fdca26"
             ],
             [
              1,
              "#f0f921"
             ]
            ],
            "type": "histogram2dcontour"
           }
          ],
          "mesh3d": [
           {
            "colorbar": {
             "outlinewidth": 0,
             "ticks": ""
            },
            "type": "mesh3d"
           }
          ],
          "parcoords": [
           {
            "line": {
             "colorbar": {
              "outlinewidth": 0,
              "ticks": ""
             }
            },
            "type": "parcoords"
           }
          ],
          "pie": [
           {
            "automargin": true,
            "type": "pie"
           }
          ],
          "scatter": [
           {
            "fillpattern": {
             "fillmode": "overlay",
             "size": 10,
             "solidity": 0.2
            },
            "type": "scatter"
           }
          ],
          "scatter3d": [
           {
            "line": {
             "colorbar": {
              "outlinewidth": 0,
              "ticks": ""
             }
            },
            "marker": {
             "colorbar": {
              "outlinewidth": 0,
              "ticks": ""
             }
            },
            "type": "scatter3d"
           }
          ],
          "scattercarpet": [
           {
            "marker": {
             "colorbar": {
              "outlinewidth": 0,
              "ticks": ""
             }
            },
            "type": "scattercarpet"
           }
          ],
          "scattergeo": [
           {
            "marker": {
             "colorbar": {
              "outlinewidth": 0,
              "ticks": ""
             }
            },
            "type": "scattergeo"
           }
          ],
          "scattergl": [
           {
            "marker": {
             "colorbar": {
              "outlinewidth": 0,
              "ticks": ""
             }
            },
            "type": "scattergl"
           }
          ],
          "scattermapbox": [
           {
            "marker": {
             "colorbar": {
              "outlinewidth": 0,
              "ticks": ""
             }
            },
            "type": "scattermapbox"
           }
          ],
          "scatterpolar": [
           {
            "marker": {
             "colorbar": {
              "outlinewidth": 0,
              "ticks": ""
             }
            },
            "type": "scatterpolar"
           }
          ],
          "scatterpolargl": [
           {
            "marker": {
             "colorbar": {
              "outlinewidth": 0,
              "ticks": ""
             }
            },
            "type": "scatterpolargl"
           }
          ],
          "scatterternary": [
           {
            "marker": {
             "colorbar": {
              "outlinewidth": 0,
              "ticks": ""
             }
            },
            "type": "scatterternary"
           }
          ],
          "surface": [
           {
            "colorbar": {
             "outlinewidth": 0,
             "ticks": ""
            },
            "colorscale": [
             [
              0,
              "#0d0887"
             ],
             [
              0.1111111111111111,
              "#46039f"
             ],
             [
              0.2222222222222222,
              "#7201a8"
             ],
             [
              0.3333333333333333,
              "#9c179e"
             ],
             [
              0.4444444444444444,
              "#bd3786"
             ],
             [
              0.5555555555555556,
              "#d8576b"
             ],
             [
              0.6666666666666666,
              "#ed7953"
             ],
             [
              0.7777777777777778,
              "#fb9f3a"
             ],
             [
              0.8888888888888888,
              "#fdca26"
             ],
             [
              1,
              "#f0f921"
             ]
            ],
            "type": "surface"
           }
          ],
          "table": [
           {
            "cells": {
             "fill": {
              "color": "#EBF0F8"
             },
             "line": {
              "color": "white"
             }
            },
            "header": {
             "fill": {
              "color": "#C8D4E3"
             },
             "line": {
              "color": "white"
             }
            },
            "type": "table"
           }
          ]
         },
         "layout": {
          "annotationdefaults": {
           "arrowcolor": "#2a3f5f",
           "arrowhead": 0,
           "arrowwidth": 1
          },
          "autotypenumbers": "strict",
          "coloraxis": {
           "colorbar": {
            "outlinewidth": 0,
            "ticks": ""
           }
          },
          "colorscale": {
           "diverging": [
            [
             0,
             "#8e0152"
            ],
            [
             0.1,
             "#c51b7d"
            ],
            [
             0.2,
             "#de77ae"
            ],
            [
             0.3,
             "#f1b6da"
            ],
            [
             0.4,
             "#fde0ef"
            ],
            [
             0.5,
             "#f7f7f7"
            ],
            [
             0.6,
             "#e6f5d0"
            ],
            [
             0.7,
             "#b8e186"
            ],
            [
             0.8,
             "#7fbc41"
            ],
            [
             0.9,
             "#4d9221"
            ],
            [
             1,
             "#276419"
            ]
           ],
           "sequential": [
            [
             0,
             "#0d0887"
            ],
            [
             0.1111111111111111,
             "#46039f"
            ],
            [
             0.2222222222222222,
             "#7201a8"
            ],
            [
             0.3333333333333333,
             "#9c179e"
            ],
            [
             0.4444444444444444,
             "#bd3786"
            ],
            [
             0.5555555555555556,
             "#d8576b"
            ],
            [
             0.6666666666666666,
             "#ed7953"
            ],
            [
             0.7777777777777778,
             "#fb9f3a"
            ],
            [
             0.8888888888888888,
             "#fdca26"
            ],
            [
             1,
             "#f0f921"
            ]
           ],
           "sequentialminus": [
            [
             0,
             "#0d0887"
            ],
            [
             0.1111111111111111,
             "#46039f"
            ],
            [
             0.2222222222222222,
             "#7201a8"
            ],
            [
             0.3333333333333333,
             "#9c179e"
            ],
            [
             0.4444444444444444,
             "#bd3786"
            ],
            [
             0.5555555555555556,
             "#d8576b"
            ],
            [
             0.6666666666666666,
             "#ed7953"
            ],
            [
             0.7777777777777778,
             "#fb9f3a"
            ],
            [
             0.8888888888888888,
             "#fdca26"
            ],
            [
             1,
             "#f0f921"
            ]
           ]
          },
          "colorway": [
           "#636efa",
           "#EF553B",
           "#00cc96",
           "#ab63fa",
           "#FFA15A",
           "#19d3f3",
           "#FF6692",
           "#B6E880",
           "#FF97FF",
           "#FECB52"
          ],
          "font": {
           "color": "#2a3f5f"
          },
          "geo": {
           "bgcolor": "white",
           "lakecolor": "white",
           "landcolor": "#E5ECF6",
           "showlakes": true,
           "showland": true,
           "subunitcolor": "white"
          },
          "hoverlabel": {
           "align": "left"
          },
          "hovermode": "closest",
          "mapbox": {
           "style": "light"
          },
          "paper_bgcolor": "white",
          "plot_bgcolor": "#E5ECF6",
          "polar": {
           "angularaxis": {
            "gridcolor": "white",
            "linecolor": "white",
            "ticks": ""
           },
           "bgcolor": "#E5ECF6",
           "radialaxis": {
            "gridcolor": "white",
            "linecolor": "white",
            "ticks": ""
           }
          },
          "scene": {
           "xaxis": {
            "backgroundcolor": "#E5ECF6",
            "gridcolor": "white",
            "gridwidth": 2,
            "linecolor": "white",
            "showbackground": true,
            "ticks": "",
            "zerolinecolor": "white"
           },
           "yaxis": {
            "backgroundcolor": "#E5ECF6",
            "gridcolor": "white",
            "gridwidth": 2,
            "linecolor": "white",
            "showbackground": true,
            "ticks": "",
            "zerolinecolor": "white"
           },
           "zaxis": {
            "backgroundcolor": "#E5ECF6",
            "gridcolor": "white",
            "gridwidth": 2,
            "linecolor": "white",
            "showbackground": true,
            "ticks": "",
            "zerolinecolor": "white"
           }
          },
          "shapedefaults": {
           "line": {
            "color": "#2a3f5f"
           }
          },
          "ternary": {
           "aaxis": {
            "gridcolor": "white",
            "linecolor": "white",
            "ticks": ""
           },
           "baxis": {
            "gridcolor": "white",
            "linecolor": "white",
            "ticks": ""
           },
           "bgcolor": "#E5ECF6",
           "caxis": {
            "gridcolor": "white",
            "linecolor": "white",
            "ticks": ""
           }
          },
          "title": {
           "x": 0.05
          },
          "xaxis": {
           "automargin": true,
           "gridcolor": "white",
           "linecolor": "white",
           "ticks": "",
           "title": {
            "standoff": 15
           },
           "zerolinecolor": "white",
           "zerolinewidth": 2
          },
          "yaxis": {
           "automargin": true,
           "gridcolor": "white",
           "linecolor": "white",
           "ticks": "",
           "title": {
            "standoff": 15
           },
           "zerolinecolor": "white",
           "zerolinewidth": 2
          }
         }
        },
        "xaxis": {
         "title": {
          "text": "Years of Experience"
         }
        },
        "yaxis": {
         "title": {
          "text": "Number of Job Postings"
         }
        }
       }
      }
     },
     "metadata": {},
     "output_type": "display_data"
    }
   ],
   "source": [
    "# 4. Are job opportunities predominantly targeted at individuals with experience, or is there room for fresh graduates as well?\n",
    "\n",
    "Ecounts = df['exper'].value_counts()\n",
    "\n",
    "fig = go.Figure(data=[go.Bar(x=Ecounts.index, y=Ecounts.values)])\n",
    "fig.update_layout(xaxis_title='Years of Experience',yaxis_title='Number of Job Postings')\n",
    "\n",
    "fig.show()\n"
   ]
  },
  {
   "cell_type": "markdown",
   "id": "efb43b30-b1f0-48a4-a19c-195810cc8a0f",
   "metadata": {},
   "source": [
    "We could also use a correlation matrix to get more specific information about the relationship between these two variables."
   ]
  },
  {
   "cell_type": "code",
   "execution_count": null,
   "id": "8406f58f-b825-4a15-8f6e-c68ca66bd483",
   "metadata": {},
   "outputs": [],
   "source": []
  }
 ],
 "metadata": {
  "kernelspec": {
   "display_name": "Python 3 (ipykernel)",
   "language": "python",
   "name": "python3"
  },
  "language_info": {
   "codemirror_mode": {
    "name": "ipython",
    "version": 3
   },
   "file_extension": ".py",
   "mimetype": "text/x-python",
   "name": "python",
   "nbconvert_exporter": "python",
   "pygments_lexer": "ipython3",
   "version": "3.12.0"
  }
 },
 "nbformat": 4,
 "nbformat_minor": 5
}
